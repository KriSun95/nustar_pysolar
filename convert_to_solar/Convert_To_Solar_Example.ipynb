{
 "cells": [
  {
   "cell_type": "markdown",
   "metadata": {},
   "source": [
    "# Code for converting an observation to solar coordinates"
   ]
  },
  {
   "cell_type": "markdown",
   "metadata": {},
   "source": [
    "## Step 1: Run the pipeline on the data to get mode06 files with the correct status bit setting.\n",
    "\n",
    "Note that as of nustardas verion 1.6.0 you can now set the \"runsplitsc\" keyword to automatically split the CHU combinations for mode06 into separate data files.\n",
    "\n",
    "These files will be stored in the event_cl output directory and have filenames like: nu20201001001A06_chu2_N_cl.evt"
   ]
  },
  {
   "cell_type": "markdown",
   "metadata": {},
   "source": [
    "### Optional: Check and see how much exposure is in each file.\n",
    "\n",
    "Adjust the datapath to point at a sequence ID directory to see how much exposure is in each CHU combination.\n"
   ]
  },
  {
   "cell_type": "code",
   "execution_count": 1,
   "metadata": {
    "collapsed": false
   },
   "outputs": [
    {
     "name": "stdout",
     "output_type": "stream",
     "text": [
      "nu20201001001A06_chu123_N_cl.evt\n",
      "\n",
      "Exposure:  6.41010054098785\n",
      "Number of counts:  69916\n",
      "\n",
      "nu20201001001A06_chu12_N_cl.evt\n",
      "\n",
      "Exposure:  30.8255227372596\n",
      "Number of counts:  728843\n",
      "\n",
      "nu20201001001A06_chu13_N_cl.evt\n",
      "\n",
      "Exposure:  0.00750338236000278\n",
      "Number of counts:  86\n",
      "\n",
      "nu20201001001A06_chu23_N_cl.evt\n",
      "\n",
      "Exposure:  3.04361165856137\n",
      "Number of counts:  35050\n",
      "\n",
      "nu20201001001A06_chu2_N_cl.evt\n",
      "\n",
      "Exposure:  0.0206172108733426\n",
      "Number of counts:  254\n",
      "\n",
      "nu20201001001A06_chu3_N_cl.evt\n",
      "\n",
      "Exposure:  50.5991464551188\n",
      "Number of counts:  405572\n",
      "\n",
      "nu20201001001B06_chu123_N_cl.evt\n",
      "\n",
      "Exposure:  7.59819696604623\n",
      "Number of counts:  67873\n",
      "\n",
      "nu20201001001B06_chu12_N_cl.evt\n",
      "\n",
      "Exposure:  38.5471328379952\n",
      "Number of counts:  720457\n",
      "\n",
      "nu20201001001B06_chu13_N_cl.evt\n",
      "\n",
      "Exposure:  0.0075092258449348\n",
      "Number of counts:  84\n",
      "\n",
      "nu20201001001B06_chu23_N_cl.evt\n",
      "\n",
      "Exposure:  3.72778131334169\n",
      "Number of counts:  34076\n",
      "\n",
      "nu20201001001B06_chu2_N_cl.evt\n",
      "\n",
      "Exposure:  0.0247356363767711\n",
      "Number of counts:  245\n",
      "\n",
      "nu20201001001B06_chu3_N_cl.evt\n",
      "\n",
      "Exposure:  52.1997515275288\n",
      "Number of counts:  390383\n",
      "\n",
      "nu20201001001B06_chu3_N_cl_sunpos.evt\n",
      "\n",
      "Exposure:  52.1997515275288\n",
      "Number of counts:  390383\n",
      "\n"
     ]
    }
   ],
   "source": [
    "import os\n",
    "from astropy.io import fits\n",
    "\n",
    "datapath=\"data/Sol_16208/20201001001\"\n",
    "\n",
    "for file in os.listdir(datapath+\"/event_cl/\"):\n",
    "    if file.find(\"06\") == -1 or file.find(\"chu\") == -1:\n",
    "        continue\n",
    "    if not file.endswith(\".evt\"):\n",
    "        continue\n",
    "        \n",
    "    evtfile=datapath+'/event_cl/'+file\n",
    "    print(file)\n",
    "    hdulist = fits.open(evtfile)\n",
    "    print()\n",
    "    print('Exposure: ',hdulist[1].header['EXPOSURE'])\n",
    "    print('Number of counts: ', hdulist[1].header['NAXIS2'])\n",
    "    print()\n",
    "    hdulist.close()\n",
    "\n"
   ]
  },
  {
   "cell_type": "markdown",
   "metadata": {},
   "source": [
    "## Step 2: Convert the data to heliocentric coordinates.\n",
    "\n",
    "Below is a step-by-step example of what happens. This is also contained in a single python script called \"nustar_convert_to_solar.py\" in this directory. That script can be invoked directly on an input filename using the syntax:\n",
    "\n",
    "./nustar_convert_to_solar.py -i PATH/TO/FILE/nu20201001001A06_chu123_N_cl.evt\n",
    "\n",
    "...like the walk through below this will produced a new file in the same directory as the input file:\n",
    "\n",
    "PATH/TO/FILE/nu20201001001A06_chu123_N_cl_sunpos.evt"
   ]
  },
  {
   "cell_type": "markdown",
   "metadata": {},
   "source": [
    "Load the python libraries that we're going to use:"
   ]
  },
  {
   "cell_type": "code",
   "execution_count": 43,
   "metadata": {
    "collapsed": false
   },
   "outputs": [],
   "source": [
    "import sys\n",
    "from os.path import *\n",
    "import os\n",
    "\n",
    "from astropy.io import fits\n",
    "import matplotlib.pyplot as plt\n",
    "import matplotlib.colors as colors\n",
    "from matplotlib.colors import LogNorm\n",
    "\n",
    "from pylab import figure, cm\n",
    "\n",
    "\n",
    "import astropy.time\n",
    "import astropy.units as u\n",
    "from astropy.coordinates import get_sun\n",
    "\n",
    "import sunpy.map\n",
    "from sunpy import sun\n",
    "\n",
    "import numpy as np\n",
    "%matplotlib inline\n",
    "\n",
    "\n"
   ]
  },
  {
   "cell_type": "markdown",
   "metadata": {},
   "source": [
    "### Get the data from the FITS file.\n",
    "\n",
    "Here we loop over the header keywords to get the correct columns for the X/Y coordinates. We also parse the FITS header to get the data we need to project the X/Y values (which are integers from 0-->1000) into RA/dec coordinates."
   ]
  },
  {
   "cell_type": "code",
   "execution_count": 92,
   "metadata": {
    "collapsed": true
   },
   "outputs": [],
   "source": [
    "infile = 'data/Sol_16208/20201001001/event_cl/nu20201001001B06_chu3_N_cl.evt'"
   ]
  },
  {
   "cell_type": "code",
   "execution_count": 93,
   "metadata": {
    "collapsed": false
   },
   "outputs": [
    {
     "name": "stdout",
     "output_type": "stream",
     "text": [
      "\n",
      "\n",
      "Loaded:  390383  counts.\n"
     ]
    }
   ],
   "source": [
    "hdulist = fits.open(infile)\n",
    "\n",
    "evtdata = hdulist[1].data \n",
    "x = np.array([])\n",
    "y = np.array([])\n",
    "\n",
    "hdr=hdulist[1].header\n",
    "\n",
    "for field in hdr.keys():\n",
    "    if field.find('TYPE') != -1:\n",
    "        if hdr[field] == 'X':\n",
    "            print(hdr[field][5:8])\n",
    "            xval = field[5:8]\n",
    "        if hdr[field] == 'Y':\n",
    "            print(hdr[field][5:8])\n",
    "            yval = field[5:8]\n",
    "\n",
    "ra_ref = hdr['TCRVL'+xval]*u.deg\n",
    "x0 = hdr['TCRPX'+xval]\n",
    "delx = hdr['TCDLT'+xval] * u.deg\n",
    "\n",
    "dec_ref = hdr['TCRVL'+yval]*u.deg\n",
    "y0 = hdr['TCRPX'+yval]\n",
    "dely = hdr['TCDLT'+yval]*u.deg\n",
    "\n",
    "x = evtdata['X']\n",
    "y = evtdata['Y']\n",
    "pi =evtdata['PI']\n",
    "met = evtdata['TIME']*u.s\n",
    "\n",
    "# Conver the NuSTAR epoch times to astropy datetime objects\n",
    "mjdref=hdulist[1].header['MJDREFI']\n",
    "time = astropy.time.Time(mjdref*u.d+met, format = 'mjd')\n",
    "\n",
    "# Convert X and Y to RA/DEC\n",
    "ra_x = ra_ref + (x - x0) * delx / np.cos(dec_ref)\n",
    "dec_y = dec_ref + (y - y0) * dely\n",
    "\n",
    "print(\"Loaded: \", len(ra_x), \" counts.\")\n",
    "hdulist.close()"
   ]
  },
  {
   "cell_type": "markdown",
   "metadata": {},
   "source": [
    "### Rotate to solar coordinates:\n",
    "\n",
    "Variation on what we did to setup the pointing.\n",
    "\n",
    "Note that this can take a little bit of time to run (~a minute or two).\n",
    "\n",
    "The important optin here is how frequently one wants to recompute the position of the Sun. The default is once every 5 seconds.\n"
   ]
  },
  {
   "cell_type": "code",
   "execution_count": 94,
   "metadata": {
    "collapsed": false
   },
   "outputs": [],
   "source": [
    "def get_sun_pos(last_met):\n",
    "    sun_time = astropy.time.Time(mjdref*u.d+last_met, format = 'mjd')\n",
    "    astro_sun_pos = get_sun(sun_time)\n",
    "    \n",
    "# Get the center of the Sun, and assign it degrees.\n",
    "    sun_pos = np.array([astro_sun_pos.ra.deg, astro_sun_pos.dec.deg])* u.deg\n",
    "\n",
    "# Solar NP roll angle:\n",
    "    sun_np=sun.solar_north(t=sun_time).cgs\n",
    "    return sun_pos, sun_np;\n"
   ]
  },
  {
   "cell_type": "code",
   "execution_count": 95,
   "metadata": {
    "collapsed": false
   },
   "outputs": [
    {
     "name": "stdout",
     "output_type": "stream",
     "text": [
      "Proccessed:  390382  of  390383\n"
     ]
    }
   ],
   "source": [
    "# How often you want to update the solar ephemeris:\n",
    "tstep = 5. * u.s\n",
    "last_met = met[0] - tstep * 2.\n",
    "last_i = 0\n",
    "\n",
    "sun_x = np.zeros_like(ra_x)\n",
    "sun_y = np.zeros_like(dec_y)\n",
    "\n",
    "tic()\n",
    "for i in np.arange(len(ra_x)):\n",
    "    if ( (met[i] - last_met) > tstep ):\n",
    "        (sun_pos, sun_np) = get_sun_pos(last_met)\n",
    "        last_met = met[i]\n",
    "# Rotation matrix for a counter-clockwise rotation since we're going\n",
    "# back to celestial north from solar north\n",
    "        rotMatrix = np.array([[np.cos(sun_np), np.sin(sun_np)], \n",
    "                              [-np.sin(sun_np),  np.cos(sun_np)]])\n",
    "        \n",
    "        # Diagnostics\n",
    "#         di = (i -last_i)\n",
    "#        print(\"Updating Sun position...\")\n",
    "#         if di > 0:\n",
    "#             print(i, di)\n",
    "#             dt = toc()\n",
    "#             tic()\n",
    "#             last_i = i\n",
    "#             print(\"Time per event: \",dt / float(di) )\n",
    "# From here on we do things for every photon:\n",
    "\n",
    "    ph_pos = np.array([ra_x[i].value, dec_y[i].value]) * u.deg\n",
    "    offset = sun_pos - ph_pos\n",
    "\n",
    "    # Account for East->West conversion for +X direction in heliophysics coords\n",
    "    offset = offset*[-1., 1.]\n",
    "    \n",
    "    \n",
    "    # Project the offset onto the Sun\n",
    "    delta_offset = ((np.dot(offset, rotMatrix)).to(u.arcsec))\n",
    "    sun_x[i] = delta_offset[0] \n",
    "    sun_y[i] = delta_offset[1]\n",
    "    \n",
    "print(\"Proccessed: \", i, \" of \", len(ra_x))\n"
   ]
  },
  {
   "cell_type": "markdown",
   "metadata": {},
   "source": [
    "### Write the output to a new FITS file.\n",
    "\n",
    "Below keeps the RAWX, RAWY, DET_ID, GRADE, and PI columns from the original file. It repalces the X/Y columns with the new sun_x, sun_y columns."
   ]
  },
  {
   "cell_type": "code",
   "execution_count": 96,
   "metadata": {
    "collapsed": false
   },
   "outputs": [
    {
     "name": "stdout",
     "output_type": "stream",
     "text": [
      "\n",
      "\n",
      "data/Sol_16208/20201001001/event_cl/nu20201001001B06_chu3_N_cl_sunpos.evt exists! Removing old version...\n"
     ]
    }
   ],
   "source": [
    "\n",
    "hdulist = fits.open(infile)\n",
    "\n",
    "tbldata=hdulist[1].data\n",
    "hdr=hdulist[1].header\n",
    "\n",
    "hdulist.close()\n",
    "\n",
    "#  change to 0-3000 pixels:\n",
    "maxX = 3000\n",
    "maxY = 3000\n",
    "x0 = maxX / 2.\n",
    "y0 = maxY / 2.\n",
    "\n",
    "\n",
    "# Header keywords\n",
    "for field in hdr.keys():\n",
    "    if field.find('TYPE') != -1:\n",
    "        if hdr[field] == 'X':\n",
    "            print(hdr[field][5:8])\n",
    "            xval = field[5:8]\n",
    "        if hdr[field] == 'Y':\n",
    "            print(hdr[field][5:8])\n",
    "            yval = field[5:8]\n",
    "delx = hdr['TCDLT'+xval] * u.deg\n",
    "dely = hdr['TCDLT'+yval]*u.deg\n",
    "\n",
    "\n",
    "\n",
    "out_sun_x=1.0*(sun_x / delx) + x0\n",
    "out_sun_y=(sun_y / dely) + y0\n",
    "\n",
    "newdelx = delx.to(u.arcsec).value\n",
    "newdely = dely.to(u.arcsec).value\n",
    "\n",
    "\n",
    "tbldata['X'] = out_sun_x\n",
    "tbldata['Y'] = out_sun_y\n",
    "\n",
    "\n",
    "            \n",
    "hdr['TCRVL'+xval] = 0.\n",
    "hdr['TCRPX'+xval] = x0\n",
    "hdr['TCDLT'+xval] = 1.0*delx.to(u.arcsec).value\n",
    "hdr['TLMAX'+xval] = maxX\n",
    "hdr['TCRVL'+yval] = 0.\n",
    "hdr['TCRPX'+yval] = x0\n",
    "hdr['TCDLT'+yval] = dely.to(u.arcsec).value\n",
    "hdr['TLMAX'+yval] = maxY\n",
    "\n",
    "\n",
    "\n",
    "\n",
    "# # Make the new filename:\n",
    "(sfile, ext)=splitext(infile)\n",
    "\n",
    "outfile=sfile+'_sunpos.evt'\n",
    "\n",
    "# Remove output file if necessary\n",
    "if isfile(outfile):\n",
    "    print(outfile, 'exists! Removing old version...')\n",
    "    os.remove(outfile)\n",
    "\n",
    "fits.writeto(outfile, tbldata, hdr)\n",
    "\n"
   ]
  },
  {
   "cell_type": "code",
   "execution_count": null,
   "metadata": {
    "collapsed": false
   },
   "outputs": [],
   "source": []
  },
  {
   "cell_type": "markdown",
   "metadata": {
    "collapsed": false
   },
   "source": [
    "### Generate the image that you want to show."
   ]
  },
  {
   "cell_type": "code",
   "execution_count": null,
   "metadata": {
    "collapsed": false
   },
   "outputs": [],
   "source": [
    "sun_x_arcsec = sun_x[0:i].to(u.arcsec).value\n",
    "sun_y_arcsec = sun_y[0:i].to(u.arcsec).value\n",
    "\n",
    "\n",
    "print(sun_x_arcsec.min(), sun_x_arcsec.max())\n",
    "print(sun_y_arcsec.min(), sun_y_arcsec.max())\n",
    "\n",
    "print(sun_x_arcsec.mean())\n",
    "print(sun_y_arcsec.mean())\n",
    "\n",
    "xmin = -1500\n",
    "ymin = -1500\n",
    "range = 3000\n",
    "\n",
    "binsize=5\n",
    "bins = range / binsize\n",
    "\n",
    "H, xedges, yedges = np.histogram2d(sun_x_arcsec, sun_y_arcsce, bins=bins, range = [[xmin, xmin+range], [ymin, ymin+range]])"
   ]
  },
  {
   "cell_type": "code",
   "execution_count": null,
   "metadata": {
    "collapsed": false
   },
   "outputs": [],
   "source": [
    "\n",
    "data = H\n",
    "header ={}\n",
    "\n",
    "manual_map = sunpy.map.Map((data,header))\n",
    "print(manual_map.xrange)\n",
    "print(manual_map.yrange)\n",
    "\n"
   ]
  },
  {
   "cell_type": "code",
   "execution_count": null,
   "metadata": {
    "collapsed": false
   },
   "outputs": [],
   "source": [
    "\n",
    "manual_map.peek()"
   ]
  },
  {
   "cell_type": "code",
   "execution_count": null,
   "metadata": {
    "collapsed": false
   },
   "outputs": [],
   "source": [
    "#fig = plt.figure(figsize=(20, 20))\n",
    "#ax = fig.add_subplot(132)\n",
    "\n",
    "fig, ax = plt.subplots(figsize=(20, 20))\n",
    "\n",
    "ax.set_title('pcolormesh: exact bin edges')\n",
    "X, Y = np.meshgrid(xedges, yedges)\n",
    "norm = colors.LogNorm(H.min()+0.01, H.max(), clip='False')\n",
    "cax = ax.pcolormesh(X, Y, H, norm=norm, cmap='BrBG')\n",
    "ax.set_aspect('equal')\n",
    "\n",
    "\n",
    "# Add colorbar, make sure to specify tick locations to match desired ticklabels\n",
    "#cbar = fig.colorbar(cax)\n",
    "#cbar.ax.set_yticklabels(['< -1', '0', '> 1'])  # vertically oriented colorbar\n",
    "\n"
   ]
  },
  {
   "cell_type": "code",
   "execution_count": null,
   "metadata": {
    "collapsed": false
   },
   "outputs": [],
   "source": [
    "plt.axis('equal')\n",
    "\n",
    "norm = colors.LogNorm(H.min()+0.01, H.max(), clip='False')\n",
    "im = plt.imshow(H, origin='low', norm=norm)\n",
    "\n",
    "#plt.colorbar(im)\n",
    "#ax[0].pcolor(x, y, im,\n",
    "#                   norm=colors.LogNorm(vmin=im.min(), vmax=im.max()),\n",
    "#                   cmap='PuBu_r')\n"
   ]
  },
  {
   "cell_type": "code",
   "execution_count": null,
   "metadata": {
    "collapsed": false
   },
   "outputs": [],
   "source": []
  },
  {
   "cell_type": "code",
   "execution_count": null,
   "metadata": {
    "collapsed": true
   },
   "outputs": [],
   "source": []
  }
 ],
 "metadata": {
  "anaconda-cloud": {},
  "kernelspec": {
   "display_name": "Python [Root]",
   "language": "python",
   "name": "Python [Root]"
  },
  "language_info": {
   "codemirror_mode": {
    "name": "ipython",
    "version": 3
   },
   "file_extension": ".py",
   "mimetype": "text/x-python",
   "name": "python",
   "nbconvert_exporter": "python",
   "pygments_lexer": "ipython3",
   "version": "3.5.1"
  }
 },
 "nbformat": 4,
 "nbformat_minor": 0
}
