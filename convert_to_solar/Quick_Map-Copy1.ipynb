{
 "cells": [
  {
   "cell_type": "markdown",
   "metadata": {},
   "source": [
    "# Quicklook Map Example\n"
   ]
  },
  {
   "cell_type": "markdown",
   "metadata": {},
   "source": [
    "### Load in the libraries that we'll use below:"
   ]
  },
  {
   "cell_type": "code",
   "execution_count": 1,
   "metadata": {
    "collapsed": false
   },
   "outputs": [
    {
     "name": "stderr",
     "output_type": "stream",
     "text": [
      "/Users/bwgref/science/local/anaconda/lib/python3.5/site-packages/glymur/config.py:171: UserWarning: Neither the openjp2 nor the openjpeg library could be loaded.  \n",
      "  warnings.warn(msg)\n",
      "WARNING: AstropyDeprecationWarning: astropy.utils.compat.odict.OrderedDict is now deprecated - import OrderedDict from the collections module instead [astropy.utils.compat.odict]\n"
     ]
    }
   ],
   "source": [
    "import sys\n",
    "from os.path import *\n",
    "import os\n",
    "\n",
    "from astropy.io import fits\n",
    "import matplotlib.pyplot as plt\n",
    "import matplotlib.colors as colors\n",
    "from matplotlib.colors import LogNorm\n",
    "\n",
    "from pylab import figure, cm\n",
    "\n",
    "\n",
    "import astropy.time\n",
    "import astropy.units as u\n",
    "from astropy.coordinates import get_sun\n",
    "\n",
    "import sunpy.map\n",
    "from sunpy import sun\n",
    "\n",
    "import numpy as np\n",
    "%matplotlib inline\n",
    "\n"
   ]
  },
  {
   "cell_type": "code",
   "execution_count": 16,
   "metadata": {
    "collapsed": false
   },
   "outputs": [],
   "source": [
    "import nustar_pysolar as nustar_test\n"
   ]
  },
  {
   "cell_type": "markdown",
   "metadata": {},
   "source": [
    "### Load in the data"
   ]
  },
  {
   "cell_type": "code",
   "execution_count": 5,
   "metadata": {
    "collapsed": true
   },
   "outputs": [],
   "source": [
    "infile = 'data/Sol_16208/20201001001/event_cl/nu20201001001A06_chu12_N_cl_sunpos.evt'"
   ]
  },
  {
   "cell_type": "code",
   "execution_count": 6,
   "metadata": {
    "collapsed": false
   },
   "outputs": [
    {
     "name": "stdout",
     "output_type": "stream",
     "text": [
      "Loaded:  728843  counts.\n",
      "Effective exposure:  30.8255227372596  seconds\n"
     ]
    }
   ],
   "source": [
    "hdulist = fits.open(infile)\n",
    "\n",
    "evtdata=hdulist[1].data\n",
    "hdr = hdulist[1].header\n",
    "\n",
    "print(\"Loaded: \", len(evtdata['X']), \" counts.\")\n",
    "print(\"Effective exposure: \", hdr['EXPOSURE'], ' seconds')\n",
    "hdulist.close()"
   ]
  },
  {
   "cell_type": "markdown",
   "metadata": {},
   "source": [
    "### Do some quick filtering"
   ]
  },
  {
   "cell_type": "code",
   "execution_count": 12,
   "metadata": {
    "collapsed": false
   },
   "outputs": [],
   "source": []
  },
  {
   "cell_type": "markdown",
   "metadata": {},
   "source": [
    "### Construct a map object compatible with sunpy"
   ]
  },
  {
   "cell_type": "code",
   "execution_count": 13,
   "metadata": {
    "collapsed": false
   },
   "outputs": [
    {
     "name": "stdout",
     "output_type": "stream",
     "text": [
      "\n",
      "\n"
     ]
    }
   ],
   "source": [
    "# Header keywords\n",
    "for field in hdr.keys():\n",
    "    if field.find('TYPE') != -1:\n",
    "        if hdr[field] == 'X':\n",
    "            print(hdr[field][5:8])\n",
    "            xval = field[5:8]\n",
    "        if hdr[field] == 'Y':\n",
    "            print(hdr[field][5:8])\n",
    "            yval = field[5:8]\n",
    "            \n",
    "min_x= hdr['TLMIN'+xval]\n",
    "min_y= hdr['TLMIN'+yval]\n",
    "max_x= hdr['TLMAX'+xval]\n",
    "max_y= hdr['TLMAX'+yval]\n",
    "\n",
    "delx = hdr['TCDLT'+xval]\n",
    "dely = hdr['TCDLT'+yval]\n",
    "\n",
    "x = evtdata['X'][goodinds]\n",
    "y = evtdata['Y'][goodinds]\n",
    "met = evtdata['TIME'][goodinds]*u.s\n",
    "mjdref=hdr['MJDREFI']\n",
    "mid_obs_time = astropy.time.Time(mjdref*u.d+met.mean(), format = 'mjd')\n",
    "\n",
    "# Use the native binning for now\n",
    "\n",
    "# Assume X and Y are the same size\n",
    "resample = 5.0\n",
    "scale = delx * resample\n",
    "bins = (max_x - min_x) / (resample)\n",
    "\n",
    "H, yedges, xedges = np.histogram2d(y, x, bins=bins, range = [[min_y,max_y], [min_x, max_x]])"
   ]
  },
  {
   "cell_type": "code",
   "execution_count": 23,
   "metadata": {
    "collapsed": false
   },
   "outputs": [
    {
     "data": {
      "text/plain": [
       "'2016-07-26 19:39:07.011'"
      ]
     },
     "execution_count": 23,
     "metadata": {},
     "output_type": "execute_result"
    }
   ],
   "source": []
  },
  {
   "cell_type": "code",
   "execution_count": 27,
   "metadata": {
    "collapsed": false
   },
   "outputs": [],
   "source": [
    "dict_header = {\n",
    "    \"DATE-OBS\": mid_obs_time.iso,\n",
    "    \"CDELT1\": scale,\n",
    "    \"NAXIS1\": bins,\n",
    "    \"CRVAL1\": 0.,\n",
    "    \"CRPIX1\": bins*0.5,\n",
    "    \"CUNIT1\": \"arcsec\",\n",
    "    \"CTYPE1\": \"HPLN-TAN\",\n",
    "    \"CDELT2\": scale,\n",
    "    \"NAXIS2\": bins,\n",
    "    \"CRVAL2\": 0.,\n",
    "    \"CRPIX2\": bins*0.5 + 0.5,\n",
    "    \"CUNIT2\": \"arcsec\",\n",
    "    \"CTYPE2\": \"HPLT-TAN\",\n",
    "    \"HGLT_OBS\": 0,\n",
    "    \"HGLN_OBS\": 0,\n",
    "    \"RSUN_OBS\": sun.solar_semidiameter_angular_size(mid_obs_time).value,\n",
    "    \"RSUN_REF\": sun.constants.radius.value\n",
    "}\n",
    "#    \"DSUN_OBS\": sun.sunearth_distance(mid_obs_time) * sun.constants.au.value\n",
    "# For some reason the DSUN_OBS crashed the save...\n",
    "\n",
    "header = sunpy.map.MapMeta(dict_header)\n",
    "\n",
    "nustar_map = sunpy.map.Map(H, header)\n",
    "nustar_map.plot_settings['norm'] = colors.LogNorm(0.01, nustar_map.max())\n",
    "nustar_map.plot_settings['cmap'] = cm.get_cmap('BrBG')\n",
    "\n",
    "\n",
    "# # Make the new filename:\n",
    "(sfile, ext)=splitext(infile)\n",
    "outfile=sfile+'_map.fits'\n",
    "\n",
    "# Remove output file if necessary\n",
    "if isfile(outfile):\n",
    "    print(outfile, 'exists! Removing old version...')\n",
    "    os.remove(outfile)\n",
    "\n",
    "nustar_map.save(outfile, filetype='auto')\n"
   ]
  },
  {
   "cell_type": "markdown",
   "metadata": {},
   "source": [
    "### Take a peak and see what you've got."
   ]
  },
  {
   "cell_type": "code",
   "execution_count": 25,
   "metadata": {
    "collapsed": false
   },
   "outputs": [
    {
     "name": "stderr",
     "output_type": "stream",
     "text": [
      "/Users/bwgref/science/local/anaconda/lib/python3.5/site-packages/sunpy/map/mapbase.py:1590: Warning: WCSAxes is installed but not being used. Plots may not have the expected behaviour.\n",
      "  Warning)\n"
     ]
    },
    {
     "data": {
      "text/plain": [
       "[<matplotlib.patches.Circle at 0x1268455f8>]"
      ]
     },
     "execution_count": 25,
     "metadata": {},
     "output_type": "execute_result"
    },
    {
     "data": {
      "image/png": "[encoded data removed]",
      "text/plain": [
       "<matplotlib.figure.Figure at 0x120c76908>"
      ]
     },
     "metadata": {},
     "output_type": "display_data"
    }
   ],
   "source": [
    "rangex = u.Quantity([500*u.arcsec, 1500 * u.arcsec])\n",
    "rangey = u.Quantity([-500 * u.arcsec, 500 * u.arcsec])\n",
    "\n",
    "nustar_submap = nustar_map.submap(rangex, rangey)\n",
    "plt.subplots(figsize=(20, 20))\n",
    "\n",
    "\n",
    "nustar_submap.plot()\n",
    "plt.colorbar()\n",
    "nustar_submap.draw_limb(color='r')\n"
   ]
  },
  {
   "cell_type": "code",
   "execution_count": null,
   "metadata": {
    "collapsed": false
   },
   "outputs": [],
   "source": []
  },
  {
   "cell_type": "code",
   "execution_count": null,
   "metadata": {
    "collapsed": false
   },
   "outputs": [],
   "source": []
  },
  {
   "cell_type": "code",
   "execution_count": null,
   "metadata": {
    "collapsed": true
   },
   "outputs": [],
   "source": []
  }
 ],
 "metadata": {
  "anaconda-cloud": {},
  "kernelspec": {
   "display_name": "Python [Root]",
   "language": "python",
   "name": "Python [Root]"
  },
  "language_info": {
   "codemirror_mode": {
    "name": "ipython",
    "version": 3
   },
   "file_extension": ".py",
   "mimetype": "text/x-python",
   "name": "python",
   "nbconvert_exporter": "python",
   "pygments_lexer": "ipython3",
   "version": "3.5.1"
  }
 },
 "nbformat": 4,
 "nbformat_minor": 0
}
