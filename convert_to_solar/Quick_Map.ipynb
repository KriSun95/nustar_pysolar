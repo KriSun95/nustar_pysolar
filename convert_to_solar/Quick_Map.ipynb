{
 "cells": [
  {
   "cell_type": "markdown",
   "metadata": {},
   "source": [
    "# Quicklook Map Example\n"
   ]
  },
  {
   "cell_type": "markdown",
   "metadata": {},
   "source": [
    "### Load in the libraries that we'll use below:"
   ]
  },
  {
   "cell_type": "code",
   "execution_count": 185,
   "metadata": {
    "collapsed": false
   },
   "outputs": [],
   "source": [
    "import sys\n",
    "from os.path import *\n",
    "import os\n",
    "\n",
    "from astropy.io import fits\n",
    "import matplotlib.pyplot as plt\n",
    "import matplotlib.colors as colors\n",
    "from matplotlib.colors import LogNorm\n",
    "\n",
    "from pylab import figure, cm\n",
    "\n",
    "\n",
    "import astropy.time\n",
    "import astropy.units as u\n",
    "from astropy.coordinates import get_sun\n",
    "\n",
    "import sunpy.map\n",
    "from sunpy import sun\n",
    "\n",
    "import numpy as np\n",
    "%matplotlib inline\n",
    "\n"
   ]
  },
  {
   "cell_type": "markdown",
   "metadata": {},
   "source": [
    "### Load in the data"
   ]
  },
  {
   "cell_type": "code",
   "execution_count": 186,
   "metadata": {
    "collapsed": true
   },
   "outputs": [],
   "source": [
    "infile = 'data/Sol_16208/20201001001/event_cl/nu20201001001A06_chu12_N_cl_sunpos.evt'"
   ]
  },
  {
   "cell_type": "code",
   "execution_count": 188,
   "metadata": {
    "collapsed": false
   },
   "outputs": [
    {
     "name": "stdout",
     "output_type": "stream",
     "text": [
      "Loaded:  728843  counts.\n",
      "Effective exposure:  30.8255227372596  seconds\n"
     ]
    },
    {
     "name": "stderr",
     "output_type": "stream",
     "text": [
      "/Users/bwgref/science/local/anaconda/lib/python3.5/site-packages/ipykernel/__main__.py:1: ResourceWarning: unclosed file <_io.FileIO name='data/Sol_16208/20201001001/event_cl/nu20201001001A06_chu12_N_cl_sunpos.evt' mode='rb' closefd=True>\n",
      "  if __name__ == '__main__':\n"
     ]
    }
   ],
   "source": [
    "hdulist = fits.open(infile)\n",
    "\n",
    "evtdata=hdulist[1].data\n",
    "hdr = hdulist[1].header\n",
    "\n",
    "print(\"Loaded: \", len(evtdata['X']), \" counts.\")\n",
    "print(\"Effective exposure: \", hdr['EXPOSURE'], ' seconds')\n",
    "hdulist.close()"
   ]
  },
  {
   "cell_type": "markdown",
   "metadata": {},
   "source": [
    "### Do some quick filtering"
   ]
  },
  {
   "cell_type": "code",
   "execution_count": 91,
   "metadata": {
    "collapsed": false
   },
   "outputs": [
    {
     "name": "stdout",
     "output_type": "stream",
     "text": [
      "Filtering bad pixels for FPMA.\n",
      "Found:  294285  good counts.\n"
     ]
    }
   ],
   "source": [
    "energy_low = 2.5\n",
    "energy_high = 10.\n",
    "pilow = (energy_low - 1.6) / 0.04\n",
    "pihigh = (energy_high - 1.60) /  0.04\n",
    "\n",
    "# Grade filter\n",
    "grade_filter = ( evtdata['GRADE'] == 0)\n",
    "pi_filter = ( ( evtdata['PI']>pilow ) &  ( evtdata['PI']<pihigh))\n",
    "\n",
    "# Hot pixel filters:\n",
    "# FPMA or FPMB\n",
    "if infile.find('B06') == -1 :\n",
    "    print(\"Filtering bad pixels for FPMA.\")\n",
    "    pix_filter = np.invert( ( (evtdata['DET_ID'] == 2) & (evtdata['RAWX'] == 16) & (evtdata['RAWY'] == 5) |\n",
    "                            (evtdata['DET_ID'] == 2) & (evtdata['RAWX'] == 24) & (evtdata['RAWY'] == 22) |\n",
    "                            (evtdata['DET_ID'] == 2) & (evtdata['RAWX'] == 27) & (evtdata['RAWY'] == 6) |\n",
    "                            (evtdata['DET_ID'] == 2) & (evtdata['RAWX'] == 27) & (evtdata['RAWY'] == 21) |\n",
    "                            (evtdata['DET_ID'] == 3) & (evtdata['RAWX'] == 22) & (evtdata['RAWY'] == 1) |\n",
    "                            (evtdata['DET_ID'] == 3) & (evtdata['RAWX'] == 15) & (evtdata['RAWY'] == 3) |\n",
    "                            (evtdata['DET_ID'] == 3) & (evtdata['RAWX'] == 5) & (evtdata['RAWY'] == 5) | \n",
    "                            (evtdata['DET_ID'] == 3) & (evtdata['RAWX'] == 22) & (evtdata['RAWY'] == 7) | \n",
    "                            (evtdata['DET_ID'] == 3) & (evtdata['RAWX'] == 16) & (evtdata['RAWY'] == 11) | \n",
    "                            (evtdata['DET_ID'] == 3) & (evtdata['RAWX'] == 18) & (evtdata['RAWY'] == 3) | \n",
    "                            (evtdata['DET_ID'] == 3) & (evtdata['RAWX'] == 24) & (evtdata['RAWY'] == 4) | \n",
    "                            (evtdata['DET_ID'] == 3) & (evtdata['RAWX'] == 25) & (evtdata['RAWY'] == 5) ) )\n",
    "\n",
    "\n",
    "\n",
    "else:\n",
    "    print(\"Filtering bad pixels for FPMB.\")\n",
    "    pix_filter = np.invert( ( (evtdata['DET_ID'] == 0) & (evtdata['RAWX'] == 24) & (evtdata['RAWY'] == 24)) )\n",
    "\n",
    "\n",
    "inds = (grade_filter & pi_filter & pix_filter).nonzero()\n",
    "goodinds=inds[0]\n",
    "\n",
    "print(\"Found: \", len(goodinds), \" good counts.\")\n",
    "\n",
    "\n",
    "\n",
    "\n"
   ]
  },
  {
   "cell_type": "markdown",
   "metadata": {},
   "source": [
    "### Construct a map object compatible with sunpy"
   ]
  },
  {
   "cell_type": "code",
   "execution_count": 181,
   "metadata": {
    "collapsed": false
   },
   "outputs": [
    {
     "name": "stdout",
     "output_type": "stream",
     "text": [
      "\n",
      "\n"
     ]
    }
   ],
   "source": [
    "# Header keywords\n",
    "for field in hdr.keys():\n",
    "    if field.find('TYPE') != -1:\n",
    "        if hdr[field] == 'X':\n",
    "            print(hdr[field][5:8])\n",
    "            xval = field[5:8]\n",
    "        if hdr[field] == 'Y':\n",
    "            print(hdr[field][5:8])\n",
    "            yval = field[5:8]\n",
    "            \n",
    "min_x= hdr['TLMIN'+xval]\n",
    "min_y= hdr['TLMIN'+yval]\n",
    "max_x= hdr['TLMAX'+xval]\n",
    "max_y= hdr['TLMAX'+yval]\n",
    "\n",
    "delx = hdr['TCDLT'+xval]\n",
    "dely = hdr['TCDLT'+yval]\n",
    "\n",
    "x = evtdata['X'][goodinds]\n",
    "y = evtdata['Y'][goodinds]\n",
    "\n",
    "# Use the native binning for now\n",
    "\n",
    "# Assume X and Y are the same size\n",
    "resample = 5.0\n",
    "scale = delx * resample\n",
    "bins = (max_x - min_x) / (resample)\n",
    "\n",
    "H, yedges, xedges = np.histogram2d(y, x, bins=bins, range = [[min_y,max_y], [min_x, max_x]])"
   ]
  },
  {
   "cell_type": "code",
   "execution_count": 182,
   "metadata": {
    "collapsed": false
   },
   "outputs": [
    {
     "name": "stdout",
     "output_type": "stream",
     "text": [
      "data/Sol_16208/20201001001/event_cl/nu20201001001A06_chu12_N_cl_sunpos_map.fits exists! Removing old version...\n"
     ]
    }
   ],
   "source": [
    "\n",
    "meta_nustar = {}\n",
    "meta_nustar['cdelt1'] = scale\n",
    "meta_nustar['cunit1'] = 'arcsec'\n",
    "meta_nustar['cdelt2'] = scale\n",
    "meta_nustar['cunit2'] = 'arcsec'\n",
    "\n",
    "\n",
    "nustar_map = sunpy.map.Map((H, meta_nustar))\n",
    "nustar_map.plot_settings['norm'] = colors.LogNorm(0.01, nustar_map.max())\n",
    "nustar_map.plot_settings['cmap'] = cm.get_cmap('BrBG')\n",
    "\n",
    "\n",
    "# # Make the new filename:\n",
    "(sfile, ext)=splitext(infile)\n",
    "outfile=sfile+'_map.fits'\n",
    "\n",
    "# Remove output file if necessary\n",
    "if isfile(outfile):\n",
    "    print(outfile, 'exists! Removing old version...')\n",
    "    os.remove(outfile)\n",
    "\n",
    "nustar_map.save(outfile, filetype='auto')\n"
   ]
  },
  {
   "cell_type": "markdown",
   "metadata": {},
   "source": [
    "### Take a peak and see what you've got."
   ]
  },
  {
   "cell_type": "code",
   "execution_count": 184,
   "metadata": {
    "collapsed": false
   },
   "outputs": [
    {
     "name": "stderr",
     "output_type": "stream",
     "text": [
      "/Users/bwgref/science/local/anaconda/lib/python3.5/site-packages/sunpy/map/mapbase.py:243: Warning: Missing metadata for heliographic latitude: assuming Earth-based observer\n",
      "  w2.heliographic_latitude = self.heliographic_latitude\n",
      "/Users/bwgref/science/local/anaconda/lib/python3.5/site-packages/sunpy/map/mapbase.py:245: Warning: Missing metadata for Sun-spacecraft separation: assuming Sun-Earth distance\n",
      "  w2.dsun = self.dsun\n",
      "/Users/bwgref/science/local/anaconda/lib/python3.5/site-packages/sunpy/map/mapbase.py:243: Warning: Missing metadata for heliographic latitude: assuming Earth-based observer\n",
      "  w2.heliographic_latitude = self.heliographic_latitude\n",
      "/Users/bwgref/science/local/anaconda/lib/python3.5/site-packages/sunpy/map/mapbase.py:245: Warning: Missing metadata for Sun-spacecraft separation: assuming Sun-Earth distance\n",
      "  w2.dsun = self.dsun\n",
      "/Users/bwgref/science/local/anaconda/lib/python3.5/site-packages/sunpy/map/mapbase.py:243: Warning: Missing metadata for heliographic latitude: assuming Earth-based observer\n",
      "  w2.heliographic_latitude = self.heliographic_latitude\n",
      "/Users/bwgref/science/local/anaconda/lib/python3.5/site-packages/sunpy/map/mapbase.py:245: Warning: Missing metadata for Sun-spacecraft separation: assuming Sun-Earth distance\n",
      "  w2.dsun = self.dsun\n",
      "/Users/bwgref/science/local/anaconda/lib/python3.5/site-packages/sunpy/map/mapbase.py:1590: Warning: WCSAxes is installed but not being used. Plots may not have the expected behaviour.\n",
      "  Warning)\n",
      "/Users/bwgref/science/local/anaconda/lib/python3.5/site-packages/sunpy/map/mapbase.py:243: Warning: Missing metadata for heliographic latitude: assuming Earth-based observer\n",
      "  w2.heliographic_latitude = self.heliographic_latitude\n",
      "/Users/bwgref/science/local/anaconda/lib/python3.5/site-packages/sunpy/map/mapbase.py:245: Warning: Missing metadata for Sun-spacecraft separation: assuming Sun-Earth distance\n",
      "  w2.dsun = self.dsun\n",
      "/Users/bwgref/science/local/anaconda/lib/python3.5/site-packages/sunpy/map/mapbase.py:1377: Warning: Missing metadata for solar radius: assuming photospheric limb as seen from Earth\n",
      "  radius = self.rsun_obs.value\n"
     ]
    },
    {
     "data": {
      "text/plain": [
       "[<matplotlib.patches.Circle at 0x12a0cb550>]"
      ]
     },
     "execution_count": 184,
     "metadata": {},
     "output_type": "execute_result"
    },
    {
     "data": {
      "image/png": "[encoded data removed]",
      "text/plain": [
       "<matplotlib.figure.Figure at 0x123176358>"
      ]
     },
     "metadata": {},
     "output_type": "display_data"
    }
   ],
   "source": [
    "rangex = u.Quantity([500*u.arcsec, 1500 * u.arcsec])\n",
    "rangey = u.Quantity([-500 * u.arcsec, 500 * u.arcsec])\n",
    "\n",
    "nustar_submap = nustar_map.submap(rangex, rangey)\n",
    "plt.subplots(figsize=(20, 20))\n",
    "\n",
    "\n",
    "nustar_submap.plot()\n",
    "plt.colorbar()\n",
    "nustar_submap.draw_limb()\n"
   ]
  },
  {
   "cell_type": "code",
   "execution_count": null,
   "metadata": {
    "collapsed": false
   },
   "outputs": [],
   "source": []
  },
  {
   "cell_type": "code",
   "execution_count": null,
   "metadata": {
    "collapsed": false
   },
   "outputs": [],
   "source": []
  },
  {
   "cell_type": "code",
   "execution_count": null,
   "metadata": {
    "collapsed": true
   },
   "outputs": [],
   "source": []
  }
 ],
 "metadata": {
  "kernelspec": {
   "display_name": "Python [Root]",
   "language": "python",
   "name": "Python [Root]"
  },
  "language_info": {
   "codemirror_mode": {
    "name": "ipython",
    "version": 3
   },
   "file_extension": ".py",
   "mimetype": "text/x-python",
   "name": "python",
   "nbconvert_exporter": "python",
   "pygments_lexer": "ipython3",
   "version": "3.5.1"
  }
 },
 "nbformat": 4,
 "nbformat_minor": 0
}
