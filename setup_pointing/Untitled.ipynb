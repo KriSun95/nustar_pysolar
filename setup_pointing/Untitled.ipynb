{
 "cells": [
  {
   "cell_type": "code",
   "execution_count": 1,
   "metadata": {
    "collapsed": false
   },
   "outputs": [
    {
     "name": "stderr",
     "output_type": "stream",
     "text": [
      "WARNING: AstropyDeprecationWarning: astropy.utils.compat.odict.OrderedDict is now deprecated - import OrderedDict from the collections module instead [astropy.utils.compat.odict]\n"
     ]
    }
   ],
   "source": [
    "from nustar_pysolar import planning"
   ]
  },
  {
   "cell_type": "code",
   "execution_count": 2,
   "metadata": {
    "collapsed": false
   },
   "outputs": [
    {
     "name": "stdout",
     "output_type": "stream",
     "text": [
      "../data/NUSTAR.2017_067.SHADOW_ANALYSIS.txt\n"
     ]
    }
   ],
   "source": [
    "fname = planning.download_occultation_times(outdir='../data/')\n",
    "print(fname)"
   ]
  },
  {
   "cell_type": "code",
   "execution_count": 7,
   "metadata": {
    "collapsed": false
   },
   "outputs": [],
   "source": [
    "tstart = '2017-03-14T00:00:00'\n",
    "tend = '2017-03-14T12:00:00'\n",
    "orbits = planning.sunlight_periods(fname, tstart, tend)"
   ]
  },
  {
   "cell_type": "code",
   "execution_count": 8,
   "metadata": {
    "collapsed": false
   },
   "outputs": [
    {
     "name": "stdout",
     "output_type": "stream",
     "text": [
      "2017-03-13T23:29:40 2017-03-14T00:31:00\n",
      "2017-03-14T01:06:20 2017-03-14T02:07:50\n",
      "2017-03-14T02:43:00 2017-03-14T03:44:30\n",
      "2017-03-14T04:19:40 2017-03-14T05:21:10\n",
      "2017-03-14T05:56:30 2017-03-14T06:57:50\n",
      "2017-03-14T07:33:10 2017-03-14T08:34:30\n",
      "2017-03-14T09:09:50 2017-03-14T10:11:10\n",
      "2017-03-14T10:46:30 2017-03-14T11:47:50\n"
     ]
    }
   ],
   "source": [
    "for orbit in orbits:\n",
    "    print(orbit[0].isoformat(), orbit[1].isoformat())"
   ]
  },
  {
   "cell_type": "code",
   "execution_count": null,
   "metadata": {
    "collapsed": true
   },
   "outputs": [],
   "source": []
  }
 ],
 "metadata": {
  "anaconda-cloud": {},
  "kernelspec": {
   "display_name": "Python [default]",
   "language": "python",
   "name": "python3"
  },
  "language_info": {
   "codemirror_mode": {
    "name": "ipython",
    "version": 3
   },
   "file_extension": ".py",
   "mimetype": "text/x-python",
   "name": "python",
   "nbconvert_exporter": "python",
   "pygments_lexer": "ipython3",
   "version": "3.5.1"
  }
 },
 "nbformat": 4,
 "nbformat_minor": 2
}
