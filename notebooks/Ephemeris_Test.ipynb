{
 "cells": [
  {
   "cell_type": "code",
   "execution_count": 1,
   "metadata": {
    "collapsed": false
   },
   "outputs": [
    {
     "name": "stderr",
     "output_type": "stream",
     "text": [
      "WARNING: AstropyDeprecationWarning: astropy.utils.compat.odict.OrderedDict is now deprecated - import OrderedDict from the collections module instead [astropy.utils.compat.odict]\n"
     ]
    }
   ],
   "source": [
    "from nustar_pysolar import planning\n",
    "import astropy.units as u\n",
    "from astropy.time import Time\n",
    "from astropy.coordinates import get_body, solar_system_ephemeris, get_body_barycentric, SkyCoord"
   ]
  },
  {
   "cell_type": "code",
   "execution_count": 2,
   "metadata": {
    "collapsed": false
   },
   "outputs": [
    {
     "name": "stdout",
     "output_type": "stream",
     "text": [
      "../data/NUSTAR.2017_129.SHADOW_ANALYSIS.txt\n"
     ]
    }
   ],
   "source": [
    "fname = planning.download_occultation_times(outdir='../data/')\n",
    "print(fname)"
   ]
  },
  {
   "cell_type": "code",
   "execution_count": 3,
   "metadata": {
    "collapsed": false
   },
   "outputs": [
    {
     "data": {
      "text/plain": [
       "<ScienceState solar_system_ephemeris: 'jpl'>"
      ]
     },
     "execution_count": 3,
     "metadata": {},
     "output_type": "execute_result"
    }
   ],
   "source": [
    "tstart = '2017-05-19T01:43:00'\n",
    "tend = '2017-05-19T11:43:00'\n",
    "orbits = planning.sunlight_periods(fname, tstart, tend)\n",
    "solar_system_ephemeris.set('jpl') "
   ]
  },
  {
   "cell_type": "code",
   "execution_count": 4,
   "metadata": {
    "collapsed": false
   },
   "outputs": [
    {
     "name": "stderr",
     "output_type": "stream",
     "text": [
      "[#################################] 100% deltat.data\n",
      "[#################################] 100% deltat.preds\n",
      "[#################################] 100% Leap_Second.dat\n",
      "[#################################] 100% jup310.bsp\n"
     ]
    }
   ],
   "source": [
    "from skyfield.api import Loader\n",
    "load = Loader('../data')\n",
    "ts = load.timescale()\n",
    "planets = load('jup310.bsp')\n"
   ]
  },
  {
   "cell_type": "markdown",
   "metadata": {},
   "source": [
    "# Use the astropy interface to get the location of Jupiter as the time that you want to use."
   ]
  },
  {
   "cell_type": "code",
   "execution_count": 5,
   "metadata": {
    "collapsed": false
   },
   "outputs": [
    {
     "name": "stdout",
     "output_type": "stream",
     "text": [
      "\n",
      "Time used for ephemeris:  2017-05-19T01:45:00\n",
      "\n",
      "Horizons offset to jplephem:  0d00m13.0448s\n",
      "\n",
      "Horizons offset to \"built in\" ephemeris:  0d00m15.7584s\n",
      "\n",
      "Horizons offset to Skyfield ephemeris:  0d00m01.6335s\n",
      "\n"
     ]
    }
   ],
   "source": [
    "dt = 0.\n",
    "\n",
    "# Using JPL Horizons web interface at 2017-05-19T01:34:40\n",
    "horizon_ephem = SkyCoord(*[193.1535, -4.01689]*u.deg)\n",
    "\n",
    "\n",
    "for orbit in orbits:\n",
    "    tstart = orbit[0]\n",
    "    tend = orbit[1]\n",
    "    print()\n",
    "#    print('Orbit duration: ', tstart.isoformat(), tend.isoformat())\n",
    "    on_time = (tend - tstart).total_seconds()\n",
    "    \n",
    "    point_time = tstart + 0.5*(tend - tstart)\n",
    "    print('Time used for ephemeris: ', point_time.isoformat())\n",
    "    \n",
    "    astro_time = Time(point_time)\n",
    "    solar_system_ephemeris.set('jpl')\n",
    "\n",
    "\n",
    "    jupiter = get_body('Jupiter', astro_time)\n",
    "    \n",
    "    jplephem = SkyCoord(jupiter.ra.deg*u.deg, jupiter.dec.deg*u.deg)\n",
    "    \n",
    "    # Switch to the built in ephemris\n",
    "    solar_system_ephemeris.set('builtin')\n",
    "    jupiter = get_body('Jupiter', astro_time)\n",
    "    \n",
    "    builtin_ephem = SkyCoord(jupiter.ra.deg*u.deg, jupiter.dec.deg*u.deg)\n",
    "    \n",
    "    t = ts.from_astropy(astro_time)\n",
    "    jupiter, earth = planets['jupiter'], planets['earth']\n",
    "    astrometric = earth.at(t).observe(jupiter)\n",
    "    ra, dec, distance = astrometric.radec()\n",
    "    radeg = ra.to(u.deg)\n",
    "    decdeg = dec.to(u.deg)\n",
    "    skyfield_ephem = SkyCoord(radeg, decdeg)\n",
    "    \n",
    "    \n",
    "    print()\n",
    "    print('Horizons offset to jplephem: ', horizon_ephem.separation(jplephem))\n",
    "    print()\n",
    "    print('Horizons offset to \"built in\" ephemeris: ', horizon_ephem.separation(builtin_ephem))\n",
    "    print()\n",
    "    print('Horizons offset to Skyfield ephemeris: ', horizon_ephem.separation(skyfield_ephem))\n",
    "\n",
    "    print()\n",
    "    break\n"
   ]
  },
  {
   "cell_type": "markdown",
   "metadata": {},
   "source": [
    "# Conclusion: Use skyfield if you want to reproduce the JPL ephemerides\n",
    "\n",
    "## Use the jup310.bsp file for Jupiter. Need to confirm which of the avaiable .bsp files are approriate for inner solar system objects as well as the Sun/Moon"
   ]
  },
  {
   "cell_type": "code",
   "execution_count": 7,
   "metadata": {
    "collapsed": false
   },
   "outputs": [
    {
     "name": "stdout",
     "output_type": "stream",
     "text": [
      "\n",
      "Time used for ephemeris:  2017-05-19T01:45:00\n",
      "\n",
      "Skyfield offset to jplephem:  0d00m14.6773s\n",
      "\n",
      "Skyfield offset to \"built in\" ephemeris:  0d00m17.3375s\n",
      "\n",
      "\n",
      "Time used for ephemeris:  2017-05-19T03:21:45\n",
      "\n",
      "Skyfield offset to jplephem:  0d00m14.6587s\n",
      "\n",
      "Skyfield offset to \"built in\" ephemeris:  0d00m17.315s\n",
      "\n",
      "\n",
      "Time used for ephemeris:  2017-05-19T04:58:25\n",
      "\n",
      "Skyfield offset to jplephem:  0d00m14.64s\n",
      "\n",
      "Skyfield offset to \"built in\" ephemeris:  0d00m17.2925s\n",
      "\n",
      "\n",
      "Time used for ephemeris:  2017-05-19T06:35:05\n",
      "\n",
      "Skyfield offset to jplephem:  0d00m14.6213s\n",
      "\n",
      "Skyfield offset to \"built in\" ephemeris:  0d00m17.2699s\n",
      "\n",
      "\n",
      "Time used for ephemeris:  2017-05-19T08:11:50\n",
      "\n",
      "Skyfield offset to jplephem:  0d00m14.6026s\n",
      "\n",
      "Skyfield offset to \"built in\" ephemeris:  0d00m17.2474s\n",
      "\n",
      "\n",
      "Time used for ephemeris:  2017-05-19T09:48:30\n",
      "\n",
      "Skyfield offset to jplephem:  0d00m14.584s\n",
      "\n",
      "Skyfield offset to \"built in\" ephemeris:  0d00m17.225s\n",
      "\n"
     ]
    }
   ],
   "source": [
    "dt = 0.\n",
    "\n",
    "for orbit in orbits:\n",
    "    tstart = orbit[0]\n",
    "    tend = orbit[1]\n",
    "    print()\n",
    "    on_time = (tend - tstart).total_seconds()\n",
    "    \n",
    "    point_time = tstart + 0.5*(tend - tstart)\n",
    "    print('Time used for ephemeris: ', point_time.isoformat())\n",
    "    \n",
    "    astro_time = Time(point_time)\n",
    "    solar_system_ephemeris.set('jpl')\n",
    "\n",
    "\n",
    "    jupiter = get_body('Jupiter', astro_time)\n",
    "    \n",
    "    jplephem = SkyCoord(jupiter.ra.deg*u.deg, jupiter.dec.deg*u.deg)\n",
    "    \n",
    "    # Switch to the built in ephemris\n",
    "    solar_system_ephemeris.set('builtin')\n",
    "    jupiter = get_body('Jupiter', astro_time)\n",
    "    \n",
    "    builtin_ephem = SkyCoord(jupiter.ra.deg*u.deg, jupiter.dec.deg*u.deg)\n",
    "    \n",
    "    t = ts.from_astropy(astro_time)\n",
    "    jupiter, earth = planets['jupiter'], planets['earth']\n",
    "    astrometric = earth.at(t).observe(jupiter)\n",
    "    ra, dec, distance = astrometric.radec()\n",
    "    radeg = ra.to(u.deg)\n",
    "    decdeg = dec.to(u.deg)\n",
    "    skyfield_ephem = SkyCoord(radeg, decdeg)\n",
    "    \n",
    "    \n",
    "    print()\n",
    "    print('Skyfield offset to jplephem: ', skyfield_ephem.separation(jplephem))\n",
    "    print()\n",
    "    print('Skyfield offset to \"built in\" ephemeris: ', skyfield_ephem.separation(builtin_ephem))\n",
    "\n",
    "    print()\n",
    "\n"
   ]
  },
  {
   "cell_type": "code",
   "execution_count": 6,
   "metadata": {
    "collapsed": false
   },
   "outputs": [
    {
     "name": "stderr",
     "output_type": "stream",
     "text": [
      "Emepheris location for files like \"jup*.bsp\"\n",
      "http://naif.jpl.nasa.gov/pub/naif/generic_kernels/spk/satellites/\n",
      "11-Dec-2013 12:31 jup300.bsp 138M\n",
      "11-Dec-2013 12:41 jup310.bsp 931M\n",
      "09-Mar-2015 17:59 jup329.bsp 51M\n",
      "28-Sep-2012 10:13 mar097.bsp 448M\n",
      "29-Apr-2015 12:21 nep081.bsp 151M\n",
      "12-Dec-2013 14:16 nep086.bsp 21M\n",
      "11-Dec-2013 12:46 nep087.bsp 64M\n",
      "29-Apr-2015 12:31 nep088.bsp 505M\n",
      "06-Nov-2015 11:27 plu055.bsp 81M\n",
      "08-May-2009 08:35 sat319.bsp 52M\n",
      "11-Aug-2014 08:02 sat368.bsp 82M\n",
      "24-Jul-2015 16:30 sat375.bsp 280M\n",
      "11-Oct-2016 14:43 sat393-rocks_pan.bsp 7.0K\n",
      "11-Oct-2016 14:22 sat393.bsp 586M\n",
      "11-Oct-2016 14:32 sat393_daphnis.bsp 9.0K\n",
      "12-Dec-2013 14:48 ura091-rocks-merge.bsp 9.4M\n",
      "24-Oct-2013 12:12 ura091-rocks.bsp-source 22K\n",
      "08-Jan-2014 17:29 ura111.bsp 162M\n",
      "08-Jan-2014 17:31 ura112.bsp 30M\n",
      "\n",
      "Emepheris location for files like \"*.bsp\"\n",
      "ftp://ssd.jpl.nasa.gov/pub/eph/planets/bsp/\n",
      "Sep 10 2015 TTmTDB.de430.19feb2015.bsp 31.4M\n",
      "Mar 24 2011 de102.bsp 228.1M\n",
      "Mar 18 2011 de200.bsp 54.2M\n",
      "Mar 28 2011 de202.bsp 14.3M\n",
      "Oct 10 2000 de403.bsp 62.3M\n",
      "Oct 10 2000 de405.bsp 62.4M\n",
      "Feb 26 2002 de405_1960_2020.bsp 6.2M\n",
      "Oct 10 2000 de406.bsp 286.9M\n",
      "Mar 18 2011 de410.bsp 12.5M\n",
      "Mar 18 2011 de413.bsp 15.6M\n",
      "Mar 18 2011 de414.bsp 62.4M\n",
      "Mar 18 2011 de418.bsp 15.7M\n",
      "Feb 12 2008 de421.bsp 16.0M\n",
      "May 11 2012 de422.bsp 622.7M\n",
      "Sep 29 2009 de422_1850_2050.bsp 20.8M\n",
      "Feb 12 2010 de423.bsp 41.5M\n",
      "Feb 06 2012 de424.bsp 62.3M\n",
      "Feb 01 2013 de424s.bsp 6.2M\n",
      "Apr 02 2014 de425.bsp 62.3M\n",
      "Jun 30 2014 de430_1850-2150.bsp 31.2M\n",
      "Jun 30 2014 de430_plus_MarsPC.bsp 132.3M\n",
      "Jun 30 2014 de430t.bsp 127.7M\n",
      "Jun 30 2014 de431t.bsp 3525.1M\n",
      "Jun 30 2014 de432t.bsp 127.7M\n",
      "Feb 11 2015 de433.bsp 15.7M\n",
      "Feb 11 2015 de433_plus_MarsPC.bsp 129.4M\n",
      "Feb 20 2016 de434.bsp 114.2M\n",
      "Feb 20 2016 de434s.bsp 20.8M\n",
      "Feb 20 2016 de434t.bsp 145.6M\n",
      "Mar 05 2016 de435.bsp 114.2M\n",
      "Mar 05 2016 de435s.bsp 20.8M\n",
      "Mar 05 2016 de435t.bsp 145.6M\n",
      "Nov 02 2016 de436.bsp 114.2M\n",
      "Nov 02 2016 de436s.bsp 20.8M\n",
      "Nov 02 2016 de436t.bsp 145.6M\n",
      "\n",
      "[#################################] 100% de436.bsp\n"
     ]
    }
   ],
   "source": [
    "from skyfield.api import Loader, load\n",
    "load = Loader('../data')\n",
    "ts = load.timescale()\n",
    "load.list_bsp()\n",
    "planets = load('de436.bsp')"
   ]
  },
  {
   "cell_type": "code",
   "execution_count": 7,
   "metadata": {
    "collapsed": false
   },
   "outputs": [
    {
     "name": "stdout",
     "output_type": "stream",
     "text": [
      "SPICE kernel file 'de436.bsp' has 14 segments\n",
      "  JD 2287184.50 - JD 2688976.50  (1549-12-30 through 2650-01-24)\n",
      "      0 -> 1    SOLAR SYSTEM BARYCENTER -> MERCURY BARYCENTER\n",
      "      0 -> 2    SOLAR SYSTEM BARYCENTER -> VENUS BARYCENTER\n",
      "      0 -> 3    SOLAR SYSTEM BARYCENTER -> EARTH BARYCENTER\n",
      "      0 -> 4    SOLAR SYSTEM BARYCENTER -> MARS BARYCENTER\n",
      "      0 -> 5    SOLAR SYSTEM BARYCENTER -> JUPITER BARYCENTER\n",
      "      0 -> 6    SOLAR SYSTEM BARYCENTER -> SATURN BARYCENTER\n",
      "      0 -> 7    SOLAR SYSTEM BARYCENTER -> URANUS BARYCENTER\n",
      "      0 -> 8    SOLAR SYSTEM BARYCENTER -> NEPTUNE BARYCENTER\n",
      "      0 -> 9    SOLAR SYSTEM BARYCENTER -> PLUTO BARYCENTER\n",
      "      0 -> 10   SOLAR SYSTEM BARYCENTER -> SUN\n",
      "      3 -> 301  EARTH BARYCENTER -> MOON\n",
      "      3 -> 399  EARTH BARYCENTER -> EARTH\n",
      "      1 -> 199  MERCURY BARYCENTER -> MERCURY\n",
      "      2 -> 299  VENUS BARYCENTER -> VENUS\n"
     ]
    }
   ],
   "source": [
    "print(planets)"
   ]
  },
  {
   "cell_type": "code",
   "execution_count": null,
   "metadata": {
    "collapsed": true
   },
   "outputs": [],
   "source": []
  }
 ],
 "metadata": {
  "anaconda-cloud": {},
  "kernelspec": {
   "display_name": "Python [default]",
   "language": "python",
   "name": "python3"
  },
  "language_info": {
   "codemirror_mode": {
    "name": "ipython",
    "version": 3
   },
   "file_extension": ".py",
   "mimetype": "text/x-python",
   "name": "python",
   "nbconvert_exporter": "python",
   "pygments_lexer": "ipython3",
   "version": "3.5.2"
  }
 },
 "nbformat": 4,
 "nbformat_minor": 2
}
