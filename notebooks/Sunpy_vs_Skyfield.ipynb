{
 "cells": [
  {
   "cell_type": "code",
   "execution_count": 1,
   "metadata": {
    "collapsed": false
   },
   "outputs": [
    {
     "name": "stderr",
     "output_type": "stream",
     "text": [
      "WARNING: AstropyDeprecationWarning: astropy.utils.compat.odict.OrderedDict is now deprecated - import OrderedDict from the collections module instead [astropy.utils.compat.odict]\n"
     ]
    }
   ],
   "source": [
    "from nustar_pysolar import planning, io\n",
    "import astropy.units as u"
   ]
  },
  {
   "cell_type": "markdown",
   "metadata": {},
   "source": [
    "# Download the list of occultation periods from the MOC at Berkeley.\n",
    "\n",
    "## Note that the occultation periods typically only are stored at Berkeley for the *future* and not for the past. So this is only really useful for observation planning."
   ]
  },
  {
   "cell_type": "code",
   "execution_count": 2,
   "metadata": {
    "collapsed": false
   },
   "outputs": [
    {
     "name": "stdout",
     "output_type": "stream",
     "text": [
      "../data/NUSTAR.2017_150.SHADOW_ANALYSIS.txt\n"
     ]
    }
   ],
   "source": [
    "fname = io.download_occultation_times(outdir='../data/')\n",
    "print(fname)"
   ]
  },
  {
   "cell_type": "markdown",
   "metadata": {},
   "source": [
    "# Download the NuSTAR TLE archive.\n",
    "\n",
    "This contains every two-line element (TLE) that we've received for the whole mission. We'll expand on how to use this later.\n",
    "\n",
    "The `times`, `line1`, and `line2` elements are now the TLE elements for each epoch."
   ]
  },
  {
   "cell_type": "code",
   "execution_count": 3,
   "metadata": {
    "collapsed": false
   },
   "outputs": [
    {
     "name": "stdout",
     "output_type": "stream",
     "text": [
      "../data/NuSTAR.tle\n"
     ]
    }
   ],
   "source": [
    "tlefile = io.download_tle(outdir='../data')\n",
    "print(tlefile)\n",
    "times, line1, line2 = io.read_tle_file(tlefile)"
   ]
  },
  {
   "cell_type": "markdown",
   "metadata": {},
   "source": [
    "# Here is where we define the observing window that we want to use.\n",
    "\n",
    "Note that tstart and tend must be in the future otherwise you won't find any occultation times and sunlight_periods will return an error."
   ]
  },
  {
   "cell_type": "code",
   "execution_count": 4,
   "metadata": {
    "collapsed": true
   },
   "outputs": [],
   "source": [
    "tstart = '2017-06-10T12:00:00'\n",
    "tend = '2017-06-10T20:00:00'\n",
    "orbits = planning.sunlight_periods(fname, tstart, tend)"
   ]
  },
  {
   "cell_type": "markdown",
   "metadata": {},
   "source": [
    "# We want to know how to orient NuSTAR for the Sun.\n",
    "\n",
    "We can more or less pick any angle that we want. But this angle has to be specified a little in advance so that the NuSTAR SOC can plan the \"slew in\" maneuvers. Below puts DET0 in the top left corner (north-east with respect to RA/Dec coordinates).\n",
    "\n",
    "### This is what you tell the SOC you want the \"Sky PA angle\" to be."
   ]
  },
  {
   "cell_type": "code",
   "execution_count": 5,
   "metadata": {
    "collapsed": false
   },
   "outputs": [
    {
     "name": "stdout",
     "output_type": "stream",
     "text": [
      "NuSTAR Roll angle for Det0 in NE quadrant: 348.3764402915343 deg\n"
     ]
    }
   ],
   "source": [
    "pa = planning.get_nustar_roll(tstart, 0)\n",
    "print(\"NuSTAR Roll angle for Det0 in NE quadrant: {}\".format(pa))"
   ]
  },
  {
   "cell_type": "markdown",
   "metadata": {},
   "source": [
    "# Set up the offset you want to use here:\n",
    "\n",
    "The first element is the direction +WEST of the center of the Sun, the second is the offset +NORTH of the center of the Sun.\n",
    "\n",
    "If you want multiple pointing locations you can either specify an array of offsets or do this \"by hand\" below."
   ]
  },
  {
   "cell_type": "code",
   "execution_count": 6,
   "metadata": {
    "collapsed": false
   },
   "outputs": [],
   "source": [
    "offset = [-190., -47.]*u.arcsec"
   ]
  },
  {
   "cell_type": "markdown",
   "metadata": {},
   "source": [
    "# Loop over each orbit and correct the pointing for the same heliocentric pointing position.\n",
    "\n",
    "Note that you may want to update the pointing for solar rotation. That's up to the user to decide and is not done here."
   ]
  },
  {
   "cell_type": "code",
   "execution_count": 15,
   "metadata": {
    "collapsed": false
   },
   "outputs": [
    {
     "name": "stdout",
     "output_type": "stream",
     "text": [
      "Orbit: 0\n",
      "Orbit start: 2017-06-10T11:25:40 Orbit end: 2017-06-10T12:27:30\n",
      "Aim time: 2017-06-10T11:56:35 RA (deg): 78.33340314957628 deg Dec (deg): 23.010821208082966 deg\n",
      "\n",
      "Orbit: 0\n",
      "Orbit start: 2017-06-10T11:25:40 Orbit end: 2017-06-10T12:27:30\n",
      "Aim time: 2017-06-10T11:56:35 RA (deg): 78.33946831867041 deg Dec (deg): 23.01126001159926 deg\n",
      "\n",
      "0d00m20.1592s\n",
      "Orbit: 1\n",
      "Orbit start: 2017-06-10T13:02:20 Orbit end: 2017-06-10T14:04:10\n",
      "Aim time: 2017-06-10T13:33:15 RA (deg): 78.40288022210223 deg Dec (deg): 23.015967821749665 deg\n",
      "\n",
      "Orbit: 1\n",
      "Orbit start: 2017-06-10T13:02:20 Orbit end: 2017-06-10T14:04:10\n",
      "Aim time: 2017-06-10T13:33:15 RA (deg): 78.40894581446256 deg Dec (deg): 23.016403969986666 deg\n",
      "\n",
      "0d00m20.1591s\n",
      "Orbit: 2\n",
      "Orbit start: 2017-06-10T14:39:00 Orbit end: 2017-06-10T15:40:50\n",
      "Aim time: 2017-06-10T15:09:55 RA (deg): 78.47236160213244 deg Dec (deg): 23.02108406768503 deg\n",
      "\n",
      "Orbit: 2\n",
      "Orbit start: 2017-06-10T14:39:00 Orbit end: 2017-06-10T15:40:50\n",
      "Aim time: 2017-06-10T15:09:55 RA (deg): 78.47842761562647 deg Dec (deg): 23.02151755992181 deg\n",
      "\n",
      "0d00m20.159s\n",
      "Orbit: 3\n",
      "Orbit start: 2017-06-10T16:15:40 Orbit end: 2017-06-10T17:17:30\n",
      "Aim time: 2017-06-10T16:46:35 RA (deg): 78.54184726708151 deg Dec (deg): 23.026169938109458 deg\n",
      "\n",
      "Orbit: 3\n",
      "Orbit start: 2017-06-10T16:15:40 Orbit end: 2017-06-10T17:17:30\n",
      "Aim time: 2017-06-10T16:46:35 RA (deg): 78.5479136995709 deg Dec (deg): 23.026600773631806 deg\n",
      "\n",
      "0d00m20.1589s\n",
      "Orbit: 4\n",
      "Orbit start: 2017-06-10T17:52:20 Orbit end: 2017-06-10T18:54:20\n",
      "Aim time: 2017-06-10T18:23:20 RA (deg): 78.61139710126774 deg Dec (deg): 23.031229770361662 deg\n",
      "\n",
      "Orbit: 4\n",
      "Orbit start: 2017-06-10T17:52:20 Orbit end: 2017-06-10T18:54:20\n",
      "Aim time: 2017-06-10T18:23:20 RA (deg): 78.61746395064105 deg Dec (deg): 23.03165794614789 deg\n",
      "\n",
      "0d00m20.1588s\n"
     ]
    }
   ],
   "source": [
    "from astropy.coordinates import SkyCoord\n",
    "for ind, orbit in enumerate(orbits):\n",
    "    midTime = (0.5*(orbit[1] - orbit[0]) + orbit[0])\n",
    "    sky_pos = planning.get_sky_position(midTime, offset)\n",
    "    print(\"Orbit: {}\".format(ind))\n",
    "    print(\"Orbit start: {} Orbit end: {}\".format(orbit[0].isoformat(), orbit[1].isoformat()))\n",
    "    print('Aim time: {} RA (deg): {} Dec (deg): {}'.format(midTime.isoformat(), sky_pos[0], sky_pos[1]))\n",
    "    print(\"\")\n",
    "    \n",
    "    skyfield_pos = planning.get_skyfield_position(midTime, offset, load_path='../data')\n",
    "    print(\"Orbit: {}\".format(ind))\n",
    "    print(\"Orbit start: {} Orbit end: {}\".format(orbit[0].isoformat(), orbit[1].isoformat()))\n",
    "    print('Aim time: {} RA (deg): {} Dec (deg): {}'.format(midTime.isoformat(), skyfield_pos[0], skyfield_pos[1]))\n",
    "    print(\"\")\n",
    "    \n",
    "    skyfield_ephem = SkyCoord(skyfield_pos[0], skyfield_pos[1])\n",
    "    sunpy_ephem = SkyCoord(sky_pos[0], sky_pos[1])\n",
    "    print(skyfield_ephem.separation(sunpy_ephem))\n",
    "    \n",
    "    "
   ]
  },
  {
   "cell_type": "markdown",
   "metadata": {
    "collapsed": true
   },
   "source": [
    "# Sanity check: Reproduce the 2016-07-26 pointing.\n",
    "\n",
    "Based on the IDL version of this code, when the aim time was 2016-07-26 19:53:15.00 the NP was 8.86 degrees and the RA and Dec were 126.04630 and 19.33532 deg, respectively for an offset of +1000 arcseconds West and +150 arcseconds North of the center of the Sun."
   ]
  },
  {
   "cell_type": "code",
   "execution_count": 8,
   "metadata": {
    "collapsed": false
   },
   "outputs": [
    {
     "name": "stdout",
     "output_type": "stream",
     "text": [
      "[ 126.04053869   19.33666449] deg\n"
     ]
    }
   ],
   "source": [
    "aim_time = '2016-07-26T19:53:15.00'\n",
    "offset = [1000, 150]*u.arcsec\n",
    "sky_pos = planning.get_sky_position(aim_time, offset)\n",
    "print(sky_pos)"
   ]
  },
  {
   "cell_type": "code",
   "execution_count": 9,
   "metadata": {
    "collapsed": false
   },
   "outputs": [
    {
     "name": "stdout",
     "output_type": "stream",
     "text": [
      "8.865884432089102 deg\n"
     ]
    }
   ],
   "source": [
    "np = planning.get_nustar_roll(aim_time, 0)\n",
    "print(np)"
   ]
  }
 ],
 "metadata": {
  "anaconda-cloud": {},
  "kernelspec": {
   "display_name": "Python [default]",
   "language": "python",
   "name": "python3"
  },
  "language_info": {
   "codemirror_mode": {
    "name": "ipython",
    "version": 3
   },
   "file_extension": ".py",
   "mimetype": "text/x-python",
   "name": "python",
   "nbconvert_exporter": "python",
   "pygments_lexer": "ipython3",
   "version": "3.5.2"
  }
 },
 "nbformat": 4,
 "nbformat_minor": 2
}
