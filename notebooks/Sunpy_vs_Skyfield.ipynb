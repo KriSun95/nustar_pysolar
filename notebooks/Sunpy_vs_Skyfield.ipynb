{
 "cells": [
  {
   "cell_type": "code",
   "execution_count": 13,
   "metadata": {
    "collapsed": false
   },
   "outputs": [],
   "source": [
    "from nustar_pysolar import planning, io\n",
    "from imp import reload\n",
    "reload(planning)\n",
    "import astropy.units as u"
   ]
  },
  {
   "cell_type": "markdown",
   "metadata": {},
   "source": [
    "# Download the list of occultation periods from the MOC at Berkeley.\n",
    "\n",
    "## Note that the occultation periods typically only are stored at Berkeley for the *future* and not for the past. So this is only really useful for observation planning."
   ]
  },
  {
   "cell_type": "code",
   "execution_count": 4,
   "metadata": {
    "collapsed": false
   },
   "outputs": [
    {
     "name": "stdout",
     "output_type": "stream",
     "text": [
      "../data/NUSTAR.2017_187.SHADOW_ANALYSIS.txt\n"
     ]
    }
   ],
   "source": [
    "fname = io.download_occultation_times(outdir='../data/')\n",
    "print(fname)"
   ]
  },
  {
   "cell_type": "markdown",
   "metadata": {},
   "source": [
    "# Download the NuSTAR TLE archive.\n",
    "\n",
    "This contains every two-line element (TLE) that we've received for the whole mission. We'll expand on how to use this later.\n",
    "\n",
    "The `times`, `line1`, and `line2` elements are now the TLE elements for each epoch."
   ]
  },
  {
   "cell_type": "code",
   "execution_count": 5,
   "metadata": {
    "collapsed": false
   },
   "outputs": [
    {
     "name": "stdout",
     "output_type": "stream",
     "text": [
      "../data/NuSTAR.tle\n"
     ]
    }
   ],
   "source": [
    "tlefile = io.download_tle(outdir='../data')\n",
    "print(tlefile)\n",
    "times, line1, line2 = io.read_tle_file(tlefile)"
   ]
  },
  {
   "cell_type": "markdown",
   "metadata": {},
   "source": [
    "# Here is where we define the observing window that we want to use.\n",
    "\n",
    "Note that tstart and tend must be in the future otherwise you won't find any occultation times and sunlight_periods will return an error."
   ]
  },
  {
   "cell_type": "code",
   "execution_count": 6,
   "metadata": {
    "collapsed": false
   },
   "outputs": [],
   "source": [
    "tstart = '2017-07-10T12:00:00'\n",
    "tend = '2017-07-10T20:00:00'\n",
    "orbits = planning.sunlight_periods(fname, tstart, tend)"
   ]
  },
  {
   "cell_type": "markdown",
   "metadata": {},
   "source": [
    "# We want to know how to orient NuSTAR for the Sun.\n",
    "\n",
    "We can more or less pick any angle that we want. But this angle has to be specified a little in advance so that the NuSTAR SOC can plan the \"slew in\" maneuvers. Below puts DET0 in the top left corner (north-east with respect to RA/Dec coordinates).\n",
    "\n",
    "### This is what you tell the SOC you want the \"Sky PA angle\" to be."
   ]
  },
  {
   "cell_type": "code",
   "execution_count": 7,
   "metadata": {
    "collapsed": false
   },
   "outputs": [
    {
     "name": "stdout",
     "output_type": "stream",
     "text": [
      "NuSTAR Roll angle for Det0 in NE quadrant: 1.6726899146043444 deg\n"
     ]
    }
   ],
   "source": [
    "pa = planning.get_nustar_roll(tstart, 0)\n",
    "print(\"NuSTAR Roll angle for Det0 in NE quadrant: {}\".format(pa))"
   ]
  },
  {
   "cell_type": "markdown",
   "metadata": {},
   "source": [
    "# Set up the offset you want to use here:\n",
    "\n",
    "The first element is the direction +WEST of the center of the Sun, the second is the offset +NORTH of the center of the Sun.\n",
    "\n",
    "If you want multiple pointing locations you can either specify an array of offsets or do this \"by hand\" below."
   ]
  },
  {
   "cell_type": "code",
   "execution_count": 8,
   "metadata": {
    "collapsed": false
   },
   "outputs": [],
   "source": [
    "offset = [-190., -47.]*u.arcsec"
   ]
  },
  {
   "cell_type": "markdown",
   "metadata": {},
   "source": [
    "# Loop over each orbit and see what the difference between the two methods is\n",
    "\n",
    "Note that you may want to update the pointing for solar rotation. That's up to the user to decide and is not done here.\n",
    "\n",
    "*Looks like a fixed shift...probably some time-ephemeris issue.*"
   ]
  },
  {
   "cell_type": "code",
   "execution_count": null,
   "metadata": {
    "collapsed": false
   },
   "outputs": [],
   "source": [
    "from astropy.coordinates import SkyCoord\n",
    "for ind, orbit in enumerate(orbits):\n",
    "    midTime = (0.5*(orbit[1] - orbit[0]) + orbit[0])\n",
    "    sky_pos = planning.get_sky_position(midTime, offset)\n",
    "    print(\"Orbit: {}\".format(ind))\n",
    "    print(\"Orbit start: {} Orbit end: {}\".format(orbit[0].isoformat(), orbit[1].isoformat()))\n",
    "    print('Aim time: {} RA (deg): {} Dec (deg): {}'.format(midTime.isoformat(), sky_pos[0], sky_pos[1]))\n",
    "    skyfield_pos = planning.get_skyfield_position(midTime, offset, load_path='../data')\n",
    "    print('SkyField Aim time: {} RA (deg): {} Dec (deg): {}'.format(midTime.isoformat(), skyfield_pos[0], skyfield_pos[1]))\n",
    "    skyfield_ephem = SkyCoord(skyfield_pos[0], skyfield_pos[1])\n",
    "    sunpy_ephem = SkyCoord(sky_pos[0], sky_pos[1])\n",
    "    print(\"\")\n",
    "    print(\"Offset between SkyField and Astropy: {} arcsec\".format(skyfield_ephem.separation(sunpy_ephem).arcsec))\n",
    "    print(\"\")\n",
    "         "
   ]
  },
  {
   "cell_type": "markdown",
   "metadata": {},
   "source": [
    "# Okay, now check to see what the parallax does in each orbit.\n",
    "\n",
    "### Compare Astropy/Sunpy to what you get when you correct for the orbital parallax. Every step below is 100 seconds.\n",
    "\n"
   ]
  },
  {
   "cell_type": "code",
   "execution_count": 14,
   "metadata": {
    "collapsed": false
   },
   "outputs": [
    {
     "name": "stdout",
     "output_type": "stream",
     "text": [
      "Offset between parallax-corrected positions and Astropy/Sunpy is 28.804130300968243 arcsec\n",
      "Offset between parallax-corrected positions and Astropy/Sunpy is 29.11092994485269 arcsec\n",
      "Offset between parallax-corrected positions and Astropy/Sunpy is 29.31998114909861 arcsec\n",
      "Offset between parallax-corrected positions and Astropy/Sunpy is 29.428259848188272 arcsec\n",
      "Offset between parallax-corrected positions and Astropy/Sunpy is 29.433848538491734 arcsec\n",
      "Offset between parallax-corrected positions and Astropy/Sunpy is 29.335964581677946 arcsec\n",
      "Offset between parallax-corrected positions and Astropy/Sunpy is 29.13498993058334 arcsec\n",
      "Offset between parallax-corrected positions and Astropy/Sunpy is 28.832463108343067 arcsec\n",
      "Offset between parallax-corrected positions and Astropy/Sunpy is 28.431081770853208 arcsec\n",
      "Offset between parallax-corrected positions and Astropy/Sunpy is 27.934668090283882 arcsec\n",
      "Offset between parallax-corrected positions and Astropy/Sunpy is 27.348144635592675 arcsec\n",
      "Offset between parallax-corrected positions and Astropy/Sunpy is 26.677476260388847 arcsec\n",
      "Offset between parallax-corrected positions and Astropy/Sunpy is 25.92962360626741 arcsec\n",
      "Offset between parallax-corrected positions and Astropy/Sunpy is 25.11246671625199 arcsec\n",
      "Offset between parallax-corrected positions and Astropy/Sunpy is 24.234742775471528 arcsec\n",
      "Offset between parallax-corrected positions and Astropy/Sunpy is 23.30595907700689 arcsec\n",
      "Offset between parallax-corrected positions and Astropy/Sunpy is 22.336323787705947 arcsec\n",
      "Offset between parallax-corrected positions and Astropy/Sunpy is 21.336657990329062 arcsec\n",
      "Offset between parallax-corrected positions and Astropy/Sunpy is 20.318329924618766 arcsec\n",
      "Offset between parallax-corrected positions and Astropy/Sunpy is 19.293175887650712 arcsec\n",
      "Offset between parallax-corrected positions and Astropy/Sunpy is 18.27344621381925 arcsec\n",
      "Offset between parallax-corrected positions and Astropy/Sunpy is 17.271738352629107 arcsec\n",
      "Offset between parallax-corrected positions and Astropy/Sunpy is 16.300949218064233 arcsec\n",
      "Offset between parallax-corrected positions and Astropy/Sunpy is 15.374199078388322 arcsec\n",
      "Offset between parallax-corrected positions and Astropy/Sunpy is 14.504745127834525 arcsec\n",
      "Offset between parallax-corrected positions and Astropy/Sunpy is 13.70581722502344 arcsec\n",
      "Offset between parallax-corrected positions and Astropy/Sunpy is 12.990375349143171 arcsec\n",
      "Offset between parallax-corrected positions and Astropy/Sunpy is 12.370709233490548 arcsec\n",
      "Offset between parallax-corrected positions and Astropy/Sunpy is 11.857897490772078 arcsec\n",
      "Offset between parallax-corrected positions and Astropy/Sunpy is 11.461107878368626 arcsec\n",
      "Offset between parallax-corrected positions and Astropy/Sunpy is 11.186876628288719 arcsec\n",
      "Offset between parallax-corrected positions and Astropy/Sunpy is 11.038503603289085 arcsec\n",
      "Offset between parallax-corrected positions and Astropy/Sunpy is 11.015770762532682 arcsec\n",
      "Offset between parallax-corrected positions and Astropy/Sunpy is 11.115127618350245 arcsec\n",
      "Offset between parallax-corrected positions and Astropy/Sunpy is 11.330285798491873 arcsec\n",
      "Offset between parallax-corrected positions and Astropy/Sunpy is 11.653103435946763 arcsec\n",
      "Offset between parallax-corrected positions and Astropy/Sunpy is 12.074472111434815 arcsec\n",
      "Offset between parallax-corrected positions and Astropy/Sunpy is 12.58506055065147 arcsec\n"
     ]
    }
   ],
   "source": [
    "from astropy.coordinates import SkyCoord\n",
    "from datetime import timedelta\n",
    "\n",
    "\n",
    "for ind, orbit in enumerate(orbits):\n",
    "    midTime = orbit[0]\n",
    "    while(midTime < orbit[1]):\n",
    "        \n",
    "        sky_pos = planning.get_sky_position(midTime, offset)\n",
    "\n",
    "        skyfield_pos = planning.get_skyfield_position(midTime, offset, load_path='../data', parallax_correction=True)\n",
    "\n",
    "        skyfield_ephem = SkyCoord(skyfield_pos[0], skyfield_pos[1])\n",
    "        sunpy_ephem = SkyCoord(sky_pos[0], sky_pos[1])\n",
    "        print('Offset between parallax-corrected positions and Astropy/Sunpy is {} arcsec'.format(\n",
    "            skyfield_ephem.separation(sunpy_ephem).arcsec)\n",
    "             )\n",
    "        midTime += timedelta(seconds=100)\n",
    "        \n",
    "    break"
   ]
  },
  {
   "cell_type": "code",
   "execution_count": null,
   "metadata": {
    "collapsed": true
   },
   "outputs": [],
   "source": []
  }
 ],
 "metadata": {
  "anaconda-cloud": {},
  "kernelspec": {
   "display_name": "Python [default]",
   "language": "python",
   "name": "python3"
  },
  "language_info": {
   "codemirror_mode": {
    "name": "ipython",
    "version": 3
   },
   "file_extension": ".py",
   "mimetype": "text/x-python",
   "name": "python",
   "nbconvert_exporter": "python",
   "pygments_lexer": "ipython3",
   "version": "3.5.2"
  }
 },
 "nbformat": 4,
 "nbformat_minor": 2
}
