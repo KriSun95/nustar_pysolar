{
 "cells": [
  {
   "cell_type": "code",
   "execution_count": 1,
   "metadata": {},
   "outputs": [],
   "source": [
    "from nustar_pysolar import planning, io\n",
    "import astropy.units as u\n",
    "import warnings\n",
    "warnings.filterwarnings('ignore')"
   ]
  },
  {
   "cell_type": "markdown",
   "metadata": {},
   "source": [
    "# Download the list of occultation periods from the MOC at Berkeley.\n",
    "\n",
    "## Note that the occultation periods typically only are stored at Berkeley for the *future* and not for the past. So this is only really useful for observation planning."
   ]
  },
  {
   "cell_type": "code",
   "execution_count": 2,
   "metadata": {},
   "outputs": [
    {
     "name": "stdout",
     "output_type": "stream",
     "text": [
      "../data/NUSTAR.2020_252.SHADOW_ANALYSIS.txt\n"
     ]
    }
   ],
   "source": [
    "fname = io.download_occultation_times(outdir='../data/')\n",
    "print(fname)"
   ]
  },
  {
   "cell_type": "markdown",
   "metadata": {},
   "source": [
    "# Download the NuSTAR TLE archive.\n",
    "\n",
    "This contains every two-line element (TLE) that we've received for the whole mission. We'll expand on how to use this later.\n",
    "\n",
    "The `times`, `line1`, and `line2` elements are now the TLE elements for each epoch."
   ]
  },
  {
   "cell_type": "code",
   "execution_count": 3,
   "metadata": {},
   "outputs": [
    {
     "name": "stdout",
     "output_type": "stream",
     "text": [
      "../data/NuSTAR.tle\n"
     ]
    }
   ],
   "source": [
    "tlefile = io.download_tle(outdir='../data')\n",
    "print(tlefile)\n",
    "times, line1, line2 = io.read_tle_file(tlefile)"
   ]
  },
  {
   "cell_type": "markdown",
   "metadata": {},
   "source": [
    "# Here is where we define the observing window that we want to use.\n",
    "\n",
    "Note that tstart and tend must be in the future otherwise you won't find any occultation times and sunlight_periods will return an error."
   ]
  },
  {
   "cell_type": "code",
   "execution_count": 13,
   "metadata": {},
   "outputs": [],
   "source": [
    "tstart = '2020-09-12T08:30:00'\n",
    "tend = '2020-09-13T01:00:00'\n",
    "orbits = planning.sunlight_periods(fname, tstart, tend)"
   ]
  },
  {
   "cell_type": "markdown",
   "metadata": {},
   "source": [
    "# We want to know how to orient NuSTAR for the Sun.\n",
    "\n",
    "We can more or less pick any angle that we want. But this angle has to be specified a little in advance so that the NuSTAR SOC can plan the \"slew in\" maneuvers. Below puts DET0 in the top left corner (north-east with respect to RA/Dec coordinates).\n",
    "\n",
    "### This is what you tell the SOC you want the \"Sky PA angle\" to be."
   ]
  },
  {
   "cell_type": "code",
   "execution_count": 11,
   "metadata": {},
   "outputs": [
    {
     "name": "stdout",
     "output_type": "stream",
     "text": [
      "2020-09-12T08:30:00\n",
      "NuSTAR Roll angle for Det0 in NE quadrant: 23.630807678782805 deg\n"
     ]
    }
   ],
   "source": [
    "pa = planning.get_nustar_roll(tstart, 0)\n",
    "print(tstart)\n",
    "print(\"NuSTAR Roll angle for Det0 in NE quadrant: {}\".format(pa))"
   ]
  },
  {
   "cell_type": "code",
   "execution_count": 20,
   "metadata": {},
   "outputs": [
    {
     "data": {
      "text/plain": [
       "[[<Time object: scale='utc' format='isot' value=2020-09-12T09:04:40.000>,\n",
       "  <Time object: scale='utc' format='isot' value=2020-09-12T10:06:00.000>],\n",
       " [<Time object: scale='utc' format='isot' value=2020-09-12T10:41:20.000>,\n",
       "  <Time object: scale='utc' format='isot' value=2020-09-12T11:42:40.000>],\n",
       " [<Time object: scale='utc' format='isot' value=2020-09-12T12:18:00.000>,\n",
       "  <Time object: scale='utc' format='isot' value=2020-09-12T13:19:20.000>],\n",
       " [<Time object: scale='utc' format='isot' value=2020-09-12T13:54:40.000>,\n",
       "  <Time object: scale='utc' format='isot' value=2020-09-12T14:55:50.000>],\n",
       " [<Time object: scale='utc' format='isot' value=2020-09-12T15:31:20.000>,\n",
       "  <Time object: scale='utc' format='isot' value=2020-09-12T16:32:30.000>],\n",
       " [<Time object: scale='utc' format='isot' value=2020-09-12T17:08:00.000>,\n",
       "  <Time object: scale='utc' format='isot' value=2020-09-12T18:09:10.000>],\n",
       " [<Time object: scale='utc' format='isot' value=2020-09-12T18:44:40.000>,\n",
       "  <Time object: scale='utc' format='isot' value=2020-09-12T19:45:50.000>],\n",
       " [<Time object: scale='utc' format='isot' value=2020-09-12T20:21:10.000>,\n",
       "  <Time object: scale='utc' format='isot' value=2020-09-12T21:22:30.000>],\n",
       " [<Time object: scale='utc' format='isot' value=2020-09-12T21:57:50.000>,\n",
       "  <Time object: scale='utc' format='isot' value=2020-09-12T22:59:10.000>],\n",
       " [<Time object: scale='utc' format='isot' value=2020-09-12T23:34:30.000>,\n",
       "  <Time object: scale='utc' format='isot' value=2020-09-13T00:35:40.000>]]"
      ]
     },
     "execution_count": 20,
     "metadata": {},
     "output_type": "execute_result"
    }
   ],
   "source": [
    "orbits"
   ]
  },
  {
   "cell_type": "code",
   "execution_count": 31,
   "metadata": {},
   "outputs": [
    {
     "name": "stdout",
     "output_type": "stream",
     "text": [
      "952.5099666382587\n"
     ]
    }
   ],
   "source": [
    "# Get the solar parameter\n",
    "from sunpy.coordinates import sun\n",
    "\n",
    "angular_size = sun.angular_radius(t='now')\n",
    "dx = angular_size.arcsec\n",
    "print(dx)"
   ]
  },
  {
   "cell_type": "code",
   "execution_count": 35,
   "metadata": {},
   "outputs": [
    {
     "name": "stdout",
     "output_type": "stream",
     "text": [
      "Orbit: 0\n",
      "Orbit start: 2020-09-12 09:04:40.000 Orbit end: 2020-09-12 10:06:00.000\n",
      "Aim time: 2020-09-12 09:35:20.000 RA (deg):  170.384 deg Dec (deg):    4.145 deg\n",
      "\n",
      "Orbit: 1\n",
      "Orbit start: 2020-09-12 10:41:20.000 Orbit end: 2020-09-12 11:42:40.000\n",
      "Aim time: 2020-09-12 11:12:00.000 RA (deg):  170.444 deg Dec (deg):    4.119 deg\n",
      "\n",
      "Orbit: 2\n",
      "Orbit start: 2020-09-12 12:18:00.000 Orbit end: 2020-09-12 13:19:20.000\n",
      "Aim time: 2020-09-12 12:48:40.000 RA (deg):  170.504 deg Dec (deg):    4.094 deg\n",
      "\n",
      "Orbit: 3\n",
      "Orbit start: 2020-09-12 13:54:40.000 Orbit end: 2020-09-12 14:55:50.000\n",
      "Aim time: 2020-09-12 14:25:15.000 RA (deg):  170.565 deg Dec (deg):    4.068 deg\n",
      "\n",
      "Orbit: 4\n",
      "Orbit start: 2020-09-12 15:31:20.000 Orbit end: 2020-09-12 16:32:30.000\n",
      "Aim time: 2020-09-12 16:01:55.000 RA (deg):  170.625 deg Dec (deg):    4.043 deg\n",
      "\n",
      "Orbit: 5\n",
      "Orbit start: 2020-09-12 17:08:00.000 Orbit end: 2020-09-12 18:09:10.000\n",
      "Aim time: 2020-09-12 17:38:35.000 RA (deg):  170.685 deg Dec (deg):    4.017 deg\n",
      "\n",
      "Orbit: 6\n",
      "Orbit start: 2020-09-12 18:44:40.000 Orbit end: 2020-09-12 19:45:50.000\n",
      "Aim time: 2020-09-12 19:15:15.000 RA (deg):  170.745 deg Dec (deg):    3.991 deg\n",
      "\n",
      "Orbit: 7\n",
      "Orbit start: 2020-09-12 20:21:10.000 Orbit end: 2020-09-12 21:22:30.000\n",
      "Aim time: 2020-09-12 20:51:50.000 RA (deg):  170.806 deg Dec (deg):    3.966 deg\n",
      "\n",
      "Orbit: 8\n",
      "Orbit start: 2020-09-12 21:57:50.000 Orbit end: 2020-09-12 22:59:10.000\n",
      "Aim time: 2020-09-12 22:28:30.000 RA (deg):  170.866 deg Dec (deg):    3.940 deg\n",
      "\n",
      "Orbit: 9\n",
      "Orbit start: 2020-09-12 23:34:30.000 Orbit end: 2020-09-13 00:35:40.000\n",
      "Aim time: 2020-09-13 00:05:05.000 RA (deg):  170.926 deg Dec (deg):    3.915 deg\n",
      "\n"
     ]
    }
   ],
   "source": [
    "offset = [dx, 0]*u.arcsec\n",
    "for ind, orbit in enumerate(orbits):\n",
    "    midTime = (0.5*(orbit[1] - orbit[0]) + orbit[0])\n",
    "    sky_pos = planning.get_skyfield_position(midTime, offset, load_path='./data', parallax_correction=True)\n",
    "    print(\"Orbit: {}\".format(ind))\n",
    "    print(\"Orbit start: {} Orbit end: {}\".format(orbit[0].iso, orbit[1].iso))\n",
    "    print(f'Aim time: {midTime.iso} RA (deg): {sky_pos[0]:8.3f} Dec (deg): {sky_pos[1]:8.3f}')\n",
    "    print(\"\")"
   ]
  },
  {
   "cell_type": "markdown",
   "metadata": {},
   "source": [
    "# This is where you actually make the Mosaic for Orbit 1"
   ]
  },
  {
   "cell_type": "code",
   "execution_count": null,
   "metadata": {},
   "outputs": [],
   "source": [
    "# Just use the first orbit...or choose one. This may download a ton of deltat.preds, which is a known \n",
    "# bug to be fixed.\n",
    "orbit = orbits[0].copy()\n",
    "print(orbit)\n",
    "#...adjust the index above to get the correct orbit. Then uncomment below.\n",
    "\n",
    "planning.make_mosaic(orbit, make_regions=True, outfile='orbit1_mosaic.txt', write_output=True)\n",
    "\n"
   ]
  }
 ],
 "metadata": {
  "anaconda-cloud": {},
  "kernelspec": {
   "display_name": "Python 3",
   "language": "python",
   "name": "python3"
  },
  "language_info": {
   "codemirror_mode": {
    "name": "ipython",
    "version": 3
   },
   "file_extension": ".py",
   "mimetype": "text/x-python",
   "name": "python",
   "nbconvert_exporter": "python",
   "pygments_lexer": "ipython3",
   "version": "3.7.8"
  }
 },
 "nbformat": 4,
 "nbformat_minor": 4
}
