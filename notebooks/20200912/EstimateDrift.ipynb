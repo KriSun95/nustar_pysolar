{
 "cells": [
  {
   "cell_type": "code",
   "execution_count": 16,
   "metadata": {},
   "outputs": [],
   "source": [
    "from nustar_pysolar import planning, io\n",
    "import astropy.units as u\n",
    "from astropy.coordinates import SkyCoord\n",
    "import warnings\n",
    "warnings.filterwarnings('ignore')"
   ]
  },
  {
   "cell_type": "markdown",
   "metadata": {},
   "source": [
    "# Download the list of occultation periods from the MOC at Berkeley.\n",
    "\n",
    "## Note that the occultation periods typically only are stored at Berkeley for the *future* and not for the past. So this is only really useful for observation planning."
   ]
  },
  {
   "cell_type": "code",
   "execution_count": 10,
   "metadata": {},
   "outputs": [
    {
     "name": "stdout",
     "output_type": "stream",
     "text": [
      "../data/NUSTAR.2020_253.SHADOW_ANALYSIS.txt\n"
     ]
    }
   ],
   "source": [
    "#fname = io.download_occultation_times(outdir='../data/')\n",
    "fname = '../data/NUSTAR.2020_253.SHADOW_ANALYSIS.txt'\n",
    "print(fname)"
   ]
  },
  {
   "cell_type": "markdown",
   "metadata": {},
   "source": [
    "# Download the NuSTAR TLE archive.\n",
    "\n",
    "This contains every two-line element (TLE) that we've received for the whole mission. We'll expand on how to use this later.\n",
    "\n",
    "The `times`, `line1`, and `line2` elements are now the TLE elements for each epoch."
   ]
  },
  {
   "cell_type": "code",
   "execution_count": 11,
   "metadata": {},
   "outputs": [
    {
     "name": "stdout",
     "output_type": "stream",
     "text": [
      "../data/NuSTAR.tle\n"
     ]
    }
   ],
   "source": [
    "tlefile = io.download_tle(outdir='../data')\n",
    "print(tlefile)\n",
    "times, line1, line2 = io.read_tle_file(tlefile)"
   ]
  },
  {
   "cell_type": "markdown",
   "metadata": {},
   "source": [
    "# Here is where we define the observing window that we want to use.\n",
    "\n",
    "Note that tstart and tend must be in the future otherwise you won't find any occultation times and sunlight_periods will return an error."
   ]
  },
  {
   "cell_type": "code",
   "execution_count": 12,
   "metadata": {},
   "outputs": [],
   "source": [
    "tstart = '2020-09-12T08:30:00'\n",
    "tend = '2020-09-13T01:00:00'\n",
    "orbits = planning.sunlight_periods(fname, tstart, tend)"
   ]
  },
  {
   "cell_type": "code",
   "execution_count": 13,
   "metadata": {},
   "outputs": [
    {
     "data": {
      "text/plain": [
       "[[<Time object: scale='utc' format='isot' value=2020-09-12T09:04:40.000>,\n",
       "  <Time object: scale='utc' format='isot' value=2020-09-12T10:06:00.000>],\n",
       " [<Time object: scale='utc' format='isot' value=2020-09-12T10:41:20.000>,\n",
       "  <Time object: scale='utc' format='isot' value=2020-09-12T11:42:40.000>],\n",
       " [<Time object: scale='utc' format='isot' value=2020-09-12T12:18:00.000>,\n",
       "  <Time object: scale='utc' format='isot' value=2020-09-12T13:19:20.000>],\n",
       " [<Time object: scale='utc' format='isot' value=2020-09-12T13:54:40.000>,\n",
       "  <Time object: scale='utc' format='isot' value=2020-09-12T14:55:50.000>],\n",
       " [<Time object: scale='utc' format='isot' value=2020-09-12T15:31:20.000>,\n",
       "  <Time object: scale='utc' format='isot' value=2020-09-12T16:32:30.000>],\n",
       " [<Time object: scale='utc' format='isot' value=2020-09-12T17:08:00.000>,\n",
       "  <Time object: scale='utc' format='isot' value=2020-09-12T18:09:10.000>],\n",
       " [<Time object: scale='utc' format='isot' value=2020-09-12T18:44:40.000>,\n",
       "  <Time object: scale='utc' format='isot' value=2020-09-12T19:45:50.000>],\n",
       " [<Time object: scale='utc' format='isot' value=2020-09-12T20:21:10.000>,\n",
       "  <Time object: scale='utc' format='isot' value=2020-09-12T21:22:30.000>],\n",
       " [<Time object: scale='utc' format='isot' value=2020-09-12T21:57:50.000>,\n",
       "  <Time object: scale='utc' format='isot' value=2020-09-12T22:59:10.000>],\n",
       " [<Time object: scale='utc' format='isot' value=2020-09-12T23:34:30.000>,\n",
       "  <Time object: scale='utc' format='isot' value=2020-09-13T00:35:40.000>]]"
      ]
     },
     "execution_count": 13,
     "metadata": {},
     "output_type": "execute_result"
    }
   ],
   "source": [
    "orbits"
   ]
  },
  {
   "cell_type": "code",
   "execution_count": 14,
   "metadata": {},
   "outputs": [
    {
     "name": "stdout",
     "output_type": "stream",
     "text": [
      "966.9561774762417\n"
     ]
    }
   ],
   "source": [
    "# Get the solar parameter\n",
    "from sunpy.coordinates import sun\n",
    "\n",
    "angular_size = sun.angular_radius(t='now')\n",
    "dx = angular_size.arcsec\n",
    "print(dx)"
   ]
  },
  {
   "cell_type": "code",
   "execution_count": 20,
   "metadata": {},
   "outputs": [
    {
     "name": "stdout",
     "output_type": "stream",
     "text": [
      "Orbit: 0\n",
      "2.2111582806337773\n",
      "\n",
      "Orbit: 1\n",
      "2.2112607739273686\n",
      "\n",
      "Orbit: 2\n",
      "2.2113651790011533\n",
      "\n",
      "Orbit: 3\n",
      "2.2040182473660463\n",
      "\n",
      "Orbit: 4\n",
      "2.204123214049978\n",
      "\n",
      "Orbit: 5\n",
      "2.2042300358707654\n",
      "\n",
      "Orbit: 6\n",
      "2.2043387164349113\n",
      "\n",
      "Orbit: 7\n",
      "2.21183089850589\n",
      "\n",
      "Orbit: 8\n",
      "2.2119406948504854\n",
      "\n",
      "Orbit: 9\n",
      "2.204597793498247\n",
      "\n"
     ]
    }
   ],
   "source": [
    "offset = [-dx, 0]*u.arcsec\n",
    "for ind, orbit in enumerate(orbits):\n",
    "#    midTime = (0.5*(orbit[1] - orbit[0]) + orbit[0])\n",
    "#    sky_pos = planning.get_skyfield_position(midTime, offset, load_path='./data', parallax_correction=True)\n",
    "\n",
    "    \n",
    "    midTime = (0.5*(orbit[1] - orbit[0]) + orbit[0])\n",
    "    sky_pos_beginning = planning.get_skyfield_position(orbit[0], offset, load_path='./data', parallax_correction=True)\n",
    "    sky_pos_end = planning.get_skyfield_position(orbit[1], offset, load_path='./data', parallax_correction=True)\n",
    "\n",
    "    pos1 = SkyCoord(sky_pos_beginning[0], sky_pos_beginning[1], unit='deg')\n",
    "    pos2 = SkyCoord(sky_pos_end[0], sky_pos_end[1], unit='deg')\n",
    "    \n",
    "    print(\"Orbit: {}\".format(ind))\n",
    "#     print(\"Orbit start: {} Orbit end: {}\".format(orbit[0].iso, orbit[1].iso))\n",
    "#     print(f'Aim time: {midTime.iso} RA (deg): {sky_pos[0]:8.3f} Dec (deg): {sky_pos[1]:8.3f}')\n",
    "    \n",
    "\n",
    "    print(pos1.separation(pos2).arcmin)\n",
    "    \n",
    "    \n",
    "    print(\"\")\n",
    "    \n",
    "    "
   ]
  },
  {
   "cell_type": "markdown",
   "metadata": {},
   "source": [
    "# This is where you actually make the Mosaic for Orbit 0"
   ]
  },
  {
   "cell_type": "code",
   "execution_count": 12,
   "metadata": {},
   "outputs": [
    {
     "data": {
      "text/plain": [
       "<module 'nustar_pysolar.planning' from '/Users/bwgref/science/local/git/nustar_pysolar/build/lib.macosx-10.9-x86_64-3.7/nustar_pysolar/planning.py'>"
      ]
     },
     "execution_count": 12,
     "metadata": {},
     "output_type": "execute_result"
    }
   ],
   "source": [
    "from importlib import reload\n",
    "reload(planning)"
   ]
  },
  {
   "cell_type": "code",
   "execution_count": 14,
   "metadata": {},
   "outputs": [
    {
     "name": "stdout",
     "output_type": "stream",
     "text": [
      "2020-09-12T08:30:00\n",
      "NuSTAR Roll angle for Det0 in NE quadrant: 23.630807678782805 deg\n",
      "Extra roll used: 126.3691923212172 deg\n",
      "[<Time object: scale='utc' format='isot' value=2020-09-12T09:04:40.000>, <Time object: scale='utc' format='isot' value=2020-09-12T10:06:00.000>]\n",
      "Orbit start: 2020-09-12 09:04:40.000 Orbit end: 2020-09-12 10:06:00.000\n",
      "('Dwell per position:', 147.19999999999973)\n",
      "\n",
      "NuSTAR Roll Angle to get roll relative to Sun of 126.37 is 150.00 deg\n",
      "Step of FOV PA direction is 240.00 deg\n",
      "\n"
     ]
    }
   ],
   "source": [
    "pa = planning.get_nustar_roll(tstart, 0)\n",
    "print(tstart)\n",
    "print(\"NuSTAR Roll angle for Det0 in NE quadrant: {}\".format(pa))\n",
    "\n",
    "# We're actually using a SKY PA of 340. So...we'll need to rotate \n",
    "target_pa = 150\n",
    "extra_roll = ( 150 - pa.value ) * u.deg\n",
    "print(f'Extra roll used: {extra_roll}')\n",
    "\n",
    "\n",
    "# Just use the first orbit...or choose one. This may download a ton of deltat.preds, which is a known \n",
    "# bug to be fixed.\n",
    "orbit = orbits[0].copy()\n",
    "print(orbit)\n",
    "#...adjust the index above to get the correct orbit. Then uncomment below.\n",
    "\n",
    "planning.make_mosaic(orbit, make_regions=True, extra_roll = extra_roll, outfile='orbit0_mosaic.txt', write_output=True)"
   ]
  },
  {
   "cell_type": "code",
   "execution_count": null,
   "metadata": {},
   "outputs": [],
   "source": []
  }
 ],
 "metadata": {
  "anaconda-cloud": {},
  "kernelspec": {
   "display_name": "Python 3",
   "language": "python",
   "name": "python3"
  },
  "language_info": {
   "codemirror_mode": {
    "name": "ipython",
    "version": 3
   },
   "file_extension": ".py",
   "mimetype": "text/x-python",
   "name": "python",
   "nbconvert_exporter": "python",
   "pygments_lexer": "ipython3",
   "version": "3.8.2"
  }
 },
 "nbformat": 4,
 "nbformat_minor": 4
}
