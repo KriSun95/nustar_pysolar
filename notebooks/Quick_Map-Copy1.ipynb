{
 "cells": [
  {
   "cell_type": "markdown",
   "metadata": {},
   "source": [
    "# Quicklook Map Example\n"
   ]
  },
  {
   "cell_type": "markdown",
   "metadata": {},
   "source": [
    "### Load in the libraries that we'll use below:"
   ]
  },
  {
   "cell_type": "code",
   "execution_count": 3,
   "metadata": {
    "collapsed": false
   },
   "outputs": [],
   "source": [
    "import sys\n",
    "from os.path import *\n",
    "import os\n",
    "\n",
    "from astropy.io import fits\n",
    "import matplotlib.pyplot as plt\n",
    "import matplotlib.colors as colors\n",
    "from matplotlib.colors import LogNorm\n",
    "\n",
    "from pylab import figure, cm\n",
    "\n",
    "\n",
    "import astropy.time\n",
    "import astropy.units as u\n",
    "from astropy.coordinates import get_sun\n",
    "\n",
    "import sunpy.map\n",
    "from sunpy import sun\n",
    "\n",
    "import numpy as np\n",
    "%matplotlib inline\n",
    "\n"
   ]
  },
  {
   "cell_type": "code",
   "execution_count": 4,
   "metadata": {
    "collapsed": false
   },
   "outputs": [],
   "source": [
    "import nustar_pysolar as nustar"
   ]
  },
  {
   "cell_type": "markdown",
   "metadata": {},
   "source": [
    "### Load in the data"
   ]
  },
  {
   "cell_type": "code",
   "execution_count": 5,
   "metadata": {
    "collapsed": true
   },
   "outputs": [],
   "source": [
    "infile = 'data/Sol_16208/20201001001/event_cl/nu20201001001A06_chu12_N_cl_sunpos.evt'"
   ]
  },
  {
   "cell_type": "code",
   "execution_count": 6,
   "metadata": {
    "collapsed": false
   },
   "outputs": [
    {
     "name": "stdout",
     "output_type": "stream",
     "text": [
      "Loaded:  728843  counts.\n",
      "Effective exposure:  30.8255227372596  seconds\n"
     ]
    }
   ],
   "source": [
    "hdulist = fits.open(infile)\n",
    "\n",
    "evtdata=hdulist[1].data\n",
    "hdr = hdulist[1].header\n",
    "\n",
    "print(\"Loaded: \", len(evtdata['X']), \" counts.\")\n",
    "print(\"Effective exposure: \", hdr['EXPOSURE'], ' seconds')\n",
    "hdulist.close()"
   ]
  },
  {
   "cell_type": "markdown",
   "metadata": {},
   "source": [
    "### Do some quick filtering"
   ]
  },
  {
   "cell_type": "code",
   "execution_count": 9,
   "metadata": {
    "collapsed": false
   },
   "outputs": [
    {
     "name": "stdout",
     "output_type": "stream",
     "text": [
      "726414\n",
      "684743\n",
      "316461\n"
     ]
    }
   ],
   "source": [
    "goodinds = nustar.filter.bad_pix(evtdata, fpm='A')\n",
    "evtdata_nobad = evtdata[goodinds]\n",
    "print(len(goodinds))\n",
    "goodinds=nustar.filter.gradezero(evtdata_nobad)\n",
    "evtdata_nobad_g0only = evtdata[goodinds]\n",
    "print(len(goodinds))\n",
    "goodinds = nustar.filter.by_energy(evtdata_nobad_g0only, energy_low=2.5, energy_high=10)\n",
    "print(len(goodinds))"
   ]
  },
  {
   "cell_type": "markdown",
   "metadata": {},
   "source": [
    "### Construct a map object compatible with sunpy"
   ]
  },
  {
   "cell_type": "code",
   "execution_count": null,
   "metadata": {
    "collapsed": false
   },
   "outputs": [],
   "source": []
  },
  {
   "cell_type": "code",
   "execution_count": null,
   "metadata": {
    "collapsed": false
   },
   "outputs": [],
   "source": []
  },
  {
   "cell_type": "code",
   "execution_count": null,
   "metadata": {
    "collapsed": false
   },
   "outputs": [],
   "source": [
    "dict_header = {\n",
    "    \"DATE-OBS\": mid_obs_time.iso,\n",
    "    \"CDELT1\": scale,\n",
    "    \"NAXIS1\": bins,\n",
    "    \"CRVAL1\": 0.,\n",
    "    \"CRPIX1\": bins*0.5,\n",
    "    \"CUNIT1\": \"arcsec\",\n",
    "    \"CTYPE1\": \"HPLN-TAN\",\n",
    "    \"CDELT2\": scale,\n",
    "    \"NAXIS2\": bins,\n",
    "    \"CRVAL2\": 0.,\n",
    "    \"CRPIX2\": bins*0.5 + 0.5,\n",
    "    \"CUNIT2\": \"arcsec\",\n",
    "    \"CTYPE2\": \"HPLT-TAN\",\n",
    "    \"HGLT_OBS\": 0,\n",
    "    \"HGLN_OBS\": 0,\n",
    "    \"RSUN_OBS\": sun.solar_semidiameter_angular_size(mid_obs_time).value,\n",
    "    \"RSUN_REF\": sun.constants.radius.value\n",
    "}\n",
    "#    \"DSUN_OBS\": sun.sunearth_distance(mid_obs_time) * sun.constants.au.value\n",
    "# For some reason the DSUN_OBS crashed the save...\n",
    "\n",
    "header = sunpy.map.MapMeta(dict_header)\n",
    "\n",
    "nustar_map = sunpy.map.Map(H, header)\n",
    "nustar_map.plot_settings['norm'] = colors.LogNorm(0.01, nustar_map.max())\n",
    "nustar_map.plot_settings['cmap'] = cm.get_cmap('BrBG')\n",
    "\n",
    "\n",
    "# # Make the new filename:\n",
    "(sfile, ext)=splitext(infile)\n",
    "outfile=sfile+'_map.fits'\n",
    "\n",
    "# Remove output file if necessary\n",
    "if isfile(outfile):\n",
    "    print(outfile, 'exists! Removing old version...')\n",
    "    os.remove(outfile)\n",
    "\n",
    "nustar_map.save(outfile, filetype='auto')\n"
   ]
  },
  {
   "cell_type": "markdown",
   "metadata": {},
   "source": [
    "### Take a peak and see what you've got."
   ]
  },
  {
   "cell_type": "code",
   "execution_count": null,
   "metadata": {
    "collapsed": false
   },
   "outputs": [],
   "source": [
    "rangex = u.Quantity([500*u.arcsec, 1500 * u.arcsec])\n",
    "rangey = u.Quantity([-500 * u.arcsec, 500 * u.arcsec])\n",
    "\n",
    "nustar_submap = nustar_map.submap(rangex, rangey)\n",
    "plt.subplots(figsize=(20, 20))\n",
    "\n",
    "\n",
    "nustar_submap.plot()\n",
    "plt.colorbar()\n",
    "nustar_submap.draw_limb(color='r')\n"
   ]
  },
  {
   "cell_type": "code",
   "execution_count": null,
   "metadata": {
    "collapsed": false
   },
   "outputs": [],
   "source": []
  },
  {
   "cell_type": "code",
   "execution_count": null,
   "metadata": {
    "collapsed": false
   },
   "outputs": [],
   "source": []
  },
  {
   "cell_type": "code",
   "execution_count": null,
   "metadata": {
    "collapsed": true
   },
   "outputs": [],
   "source": []
  }
 ],
 "metadata": {
  "anaconda-cloud": {},
  "kernelspec": {
   "display_name": "Python [Root]",
   "language": "python",
   "name": "Python [Root]"
  },
  "language_info": {
   "codemirror_mode": {
    "name": "ipython",
    "version": 3
   },
   "file_extension": ".py",
   "mimetype": "text/x-python",
   "name": "python",
   "nbconvert_exporter": "python",
   "pygments_lexer": "ipython3",
   "version": "3.5.1"
  }
 },
 "nbformat": 4,
 "nbformat_minor": 0
}
