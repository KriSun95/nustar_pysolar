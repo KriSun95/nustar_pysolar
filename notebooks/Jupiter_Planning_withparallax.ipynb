{
 "cells": [
  {
   "cell_type": "code",
   "execution_count": 5,
   "metadata": {
    "collapsed": false
   },
   "outputs": [],
   "source": [
    "from nustar_pysolar import planning\n",
    "from nustar_lunar_pointing.tracking import get_epoch_tle\n",
    "import astropy.units as u\n",
    "from astropy.time import Time\n",
    "from astropy.coordinates import SkyCoord\n",
<<<<<<< Updated upstream
    "from datetime import datetime\n",
    "\n",
    "from importlib import reload"
=======
    "from datetime import datetime"
   ]
  },
  {
   "cell_type": "code",
   "execution_count": 6,
   "metadata": {
    "collapsed": false
   },
   "outputs": [
    {
     "name": "stdout",
     "output_type": "stream",
     "text": [
      "../data/NUSTAR.2017_136.SHADOW_ANALYSIS.txt\n"
     ]
    }
   ],
   "source": [
    "fname = planning.download_occultation_times(outdir='../data/')\n",
    "print(fname)\n"
>>>>>>> Stashed changes
   ]
  },
  {
   "cell_type": "markdown",
   "metadata": {},
   "source": [
    "# Parse the TLE and find the one that's closest to the time you want to observe:"
   ]
  },
  {
   "cell_type": "code",
<<<<<<< Updated upstream
   "execution_count": 2,
=======
   "execution_count": 7,
>>>>>>> Stashed changes
   "metadata": {
    "collapsed": false
   },
   "outputs": [],
   "source": [
    "tlefile = '../data/NuSTAR.tle'\n",
    "tstamp = '2017:137:09:15:00'\n",
    "tstart = datetime.strptime(tstamp, '%Y:%j:%H:%M:%S')                \n",
    "mindt, line1, line2 = get_epoch_tle(tstart, tlefile)"
   ]
  },
  {
   "cell_type": "markdown",
   "metadata": {},
   "source": [
    "# Find the unocculted times that you want to us:"
   ]
  },
  {
   "cell_type": "code",
   "execution_count": 8,
   "metadata": {
    "collapsed": false,
    "scrolled": true
   },
   "outputs": [],
   "source": [
    "reload(planning)\n",
    "occfile = '../data/90310001_Jupiter_Juno_PJ6-occ.dat'\n",
    "\n",
    "tstamp = '2017-05-16T12:30:00'\n",
    "\n",
    "tstart = datetime.strptime(tstamp, '%Y-%m-%dT%H:%M:%S')\n",
    "\n",
    "\n",
    "tstamp = '2017-05-19T17:40:00'\n",
    "tend = datetime.strptime(tstamp, '%Y-%m-%dT%H:%M:%S')\n",
    "\n",
    "\n",
    "orbits = planning.unocculted_periods(occfile, tstart, tend)"
   ]
  },
  {
   "cell_type": "markdown",
   "metadata": {},
   "source": [
    "# Set up the Skyfield geometry (including parallax from NuSTAR's orbit)"
   ]
  },
  {
   "cell_type": "code",
<<<<<<< Updated upstream
   "execution_count": 3,
=======
   "execution_count": 9,
>>>>>>> Stashed changes
   "metadata": {
    "collapsed": false
   },
   "outputs": [
    {
     "name": "stderr",
     "output_type": "stream",
     "text": [
      "[#################################] 100% deltat.data\n",
      "[#################################] 100% deltat.preds\n",
      "[#################################] 100% Leap_Second.dat\n",
      "[#################################] 100% jup310.bsp\n",
      "[#################################] 100% deltat.data\n",
      "[#################################] 100% deltat.preds\n",
      "[#################################] 100% Leap_Second.dat\n"
     ]
    }
   ],
   "source": [
    "from skyfield.api import Loader, EarthSatellite\n",
    "load = Loader('../data')\n",
    "\n",
    "ts = load.timescale()\n",
    "planets = load('jup310.bsp')\n",
    "\n",
    "jupiter, earth = planets['jupiter'], planets['earth']\n",
    "\n",
    "nustar_geo = EarthSatellite(line1, line2)\n",
    "nustar = nustar_geo + earth\n",
    "\n"
   ]
  },
  {
   "cell_type": "markdown",
   "metadata": {},
   "source": [
    "# Use the Skyfield interface to get the J2000 coordinates of Juptier for each orbit."
   ]
  },
  {
   "cell_type": "code",
<<<<<<< Updated upstream
   "execution_count": 5,
=======
   "execution_count": 10,
>>>>>>> Stashed changes
   "metadata": {
    "collapsed": false,
    "scrolled": false
   },
   "outputs": [
    {
     "name": "stdout",
     "output_type": "stream",
     "text": [
      "\n",
      "\n",
<<<<<<< Updated upstream
      "Time used to aim:  2017-05-16 13:08:52\n",
      "Pointing Information:  2017-05-16T12:40:54 193.3124210141889  -4.073244450302107\n",
      "Parallax difference at start of orbit:  0d00m00.2037s\n",
      "\n",
      "\n",
      "Time used to aim:  2017-05-16 14:45:31.500000\n",
      "Pointing Information:  2017-05-16T14:17:34 193.30798194938944  -4.071653105526816\n",
      "Parallax difference at start of orbit:  0d00m00.2054s\n",
      "\n",
      "\n",
      "Time used to aim:  2017-05-16 16:22:11.500000\n",
      "Pointing Information:  2017-05-16T15:54:14 193.30355345455675  -4.070066448278327\n",
      "Parallax difference at start of orbit:  0d00m00.2071s\n",
      "\n",
      "\n",
      "Time used to aim:  2017-05-16 17:58:51.500000\n",
      "Pointing Information:  2017-05-16T17:30:54 193.29913594279523  -4.068484628435624\n",
      "Parallax difference at start of orbit:  0d00m00.2088s\n",
      "\n",
      "\n",
      "Time used to aim:  2017-05-16 19:35:31\n",
      "Pointing Information:  2017-05-16T19:07:33 193.29472982132015  -4.066907793013701\n",
      "Parallax difference at start of orbit:  0d00m00.2104s\n",
      "\n",
      "\n",
      "Time used to aim:  2017-05-16 21:12:11\n",
      "Pointing Information:  2017-05-16T20:44:13 193.29033435507247  -4.065335679778239\n",
      "Parallax difference at start of orbit:  0d00m00.2121s\n",
      "\n",
      "\n",
      "Time used to aim:  2017-05-16 22:48:50.500000\n",
      "Pointing Information:  2017-05-16T22:20:53 193.2859503227652  -4.063768567556234\n",
      "Parallax difference at start of orbit:  0d00m00.2137s\n",
      "\n",
      "\n",
      "Time used to aim:  2017-05-17 00:25:30.500000\n",
      "Pointing Information:  2017-05-16T23:57:33 193.28157698527212  -4.062206191946669\n",
      "Parallax difference at start of orbit:  0d00m00.2154s\n",
      "\n",
      "\n",
      "Time used to aim:  2017-05-17 02:02:10\n",
      "Pointing Information:  2017-05-17T01:34:12 193.2772151086644  -4.060648825954552\n",
      "Parallax difference at start of orbit:  0d00m00.217s\n",
      "\n",
      "\n",
      "Time used to aim:  2017-05-17 03:38:50\n",
      "Pointing Information:  2017-05-17T03:10:52 193.27286394848858  -4.059096202688461\n",
      "Parallax difference at start of orbit:  0d00m00.2187s\n",
      "\n",
      "\n",
      "Time used to aim:  2017-05-17 05:15:30\n",
      "Pointing Information:  2017-05-17T04:47:32 193.26852388457135  -4.057548456377239\n",
      "Parallax difference at start of orbit:  0d00m00.2203s\n",
      "\n",
      "\n",
      "Time used to aim:  2017-05-17 06:52:09.500000\n",
      "Pointing Information:  2017-05-17T06:24:12 193.26419528912743  -4.056005717988622\n",
      "Parallax difference at start of orbit:  0d00m00.2219s\n",
      "\n",
      "\n",
      "Time used to aim:  2017-05-17 08:28:49\n",
      "Pointing Information:  2017-05-17T08:00:51 193.25987778395788  -4.054467850853053\n",
      "Parallax difference at start of orbit:  0d00m00.2235s\n",
      "\n",
      "\n",
      "Time used to aim:  2017-05-17 10:05:29\n",
      "Pointing Information:  2017-05-17T09:37:31 193.2555709924818  -4.0529347192128355\n",
      "Parallax difference at start of orbit:  0d00m00.2252s\n",
      "\n",
      "\n",
      "Time used to aim:  2017-05-17 11:42:09\n",
      "Pointing Information:  2017-05-17T11:14:11 193.25127528066128  -4.05140645187609\n",
      "Parallax difference at start of orbit:  0d00m00.2268s\n",
      "\n",
      "\n",
      "Time used to aim:  2017-05-17 13:18:48.500000\n",
      "Pointing Information:  2017-05-17T12:50:51 193.2469910107587  -4.049883176292058\n",
      "Parallax difference at start of orbit:  0d00m00.2284s\n",
      "\n",
      "\n",
      "Time used to aim:  2017-05-17 14:55:28\n",
      "Pointing Information:  2017-05-17T14:27:30 193.24271780658384  -4.04836475764299\n",
      "Parallax difference at start of orbit:  0d00m00.23s\n",
      "\n",
      "\n",
      "Time used to aim:  2017-05-17 16:32:08\n",
      "Pointing Information:  2017-05-17T16:04:10 193.23845529803611  -4.0468510640509034\n",
      "Parallax difference at start of orbit:  0d00m00.2316s\n",
      "\n",
      "\n",
      "Time used to aim:  2017-05-17 18:08:48\n",
      "Pointing Information:  2017-05-17T17:40:50 193.23420385422767  -4.0453422267325925\n",
      "Parallax difference at start of orbit:  0d00m00.2332s\n",
      "\n",
      "\n",
      "Time used to aim:  2017-05-17 19:45:28\n",
      "Pointing Information:  2017-05-17T19:17:30 193.22996347921253  -4.043838247660078\n",
      "Parallax difference at start of orbit:  0d00m00.2348s\n",
      "\n",
      "\n",
      "Time used to aim:  2017-05-17 21:22:07\n",
      "Pointing Information:  2017-05-17T20:54:09 193.22573490969867  -4.042339388929444\n",
      "Parallax difference at start of orbit:  0d00m00.2363s\n",
      "\n",
      "\n",
      "Time used to aim:  2017-05-17 22:58:47\n",
      "Pointing Information:  2017-05-17T22:30:49 193.22151670033298  -4.040845139718254\n",
      "Parallax difference at start of orbit:  0d00m00.2379s\n",
      "\n",
      "\n",
      "Time used to aim:  2017-05-18 00:35:27\n",
      "Pointing Information:  2017-05-18T00:07:29 193.21730959857817  -4.039355766927596\n",
      "Parallax difference at start of orbit:  0d00m00.2395s\n",
      "\n",
      "\n",
      "Time used to aim:  2017-05-18 02:12:07\n",
      "Pointing Information:  2017-05-18T01:44:09 193.21311362588605  -4.037871280316302\n",
      "Parallax difference at start of orbit:  0d00m00.2411s\n",
      "\n",
      "\n",
      "Time used to aim:  2017-05-18 03:48:46.500000\n",
      "Pointing Information:  2017-05-18T03:20:48 193.20892916739066  -4.036391818356225\n",
      "Parallax difference at start of orbit:  0d00m00.2426s\n",
      "\n",
      "\n",
      "Time used to aim:  2017-05-18 05:25:26\n",
      "Pointing Information:  2017-05-18T04:57:28 193.2047558882687  -4.034917264922951\n",
      "Parallax difference at start of orbit:  0d00m00.2441s\n",
      "\n",
      "\n",
      "Time used to aim:  2017-05-18 07:02:06\n",
      "Pointing Information:  2017-05-18T06:34:08 193.20059345931114  -4.033447506138497\n",
      "Parallax difference at start of orbit:  0d00m00.2457s\n",
      "\n",
      "\n",
      "Time used to aim:  2017-05-18 08:38:46\n",
      "Pointing Information:  2017-05-18T08:10:48 193.19644227045688  -4.031982681926614\n",
      "Parallax difference at start of orbit:  0d00m00.2472s\n",
      "\n",
      "\n",
      "Time used to aim:  2017-05-18 10:15:26\n",
      "Pointing Information:  2017-05-18T09:47:28 193.19230235107344  -4.030522804473281\n",
      "Parallax difference at start of orbit:  0d00m00.2488s\n",
      "\n",
      "\n",
      "Time used to aim:  2017-05-18 11:52:05.500000\n",
      "Pointing Information:  2017-05-18T11:24:07 193.18817408439344  -4.0290680102037815\n",
      "Parallax difference at start of orbit:  0d00m00.2502s\n",
      "\n",
      "\n",
      "Time used to aim:  2017-05-18 13:28:45\n",
      "Pointing Information:  2017-05-18T13:00:47 193.1840571384669  -4.027618182956633\n",
      "Parallax difference at start of orbit:  0d00m00.2517s\n",
      "\n",
      "\n",
      "Time used to aim:  2017-05-18 15:05:25\n",
      "Pointing Information:  2017-05-18T14:37:27 193.17995118210507  -4.026173206642581\n",
      "Parallax difference at start of orbit:  0d00m00.2532s\n",
      "\n",
      "\n",
      "Time used to aim:  2017-05-18 16:42:05\n",
      "Pointing Information:  2017-05-18T16:14:07 193.17585658872872  -4.024733212650552\n",
      "Parallax difference at start of orbit:  0d00m00.2548s\n",
      "\n",
      "\n",
      "Time used to aim:  2017-05-18 18:18:44.500000\n",
      "Pointing Information:  2017-05-18T17:50:46 193.17177372345137  -4.023298328547699\n",
      "Parallax difference at start of orbit:  0d00m00.2562s\n",
      "\n",
      "\n",
      "Time used to aim:  2017-05-18 19:55:24.500000\n",
      "Pointing Information:  2017-05-18T19:27:26 193.1677018910471  -4.021868308762177\n",
      "Parallax difference at start of orbit:  0d00m00.2577s\n",
      "\n",
      "\n",
      "Time used to aim:  2017-05-18 21:32:04\n",
      "Pointing Information:  2017-05-18T21:04:06 193.16364179734742  -4.0204433994612305\n",
      "Parallax difference at start of orbit:  0d00m00.2591s\n",
      "\n",
      "\n",
      "Time used to aim:  2017-05-18 23:08:44\n",
      "Pointing Information:  2017-05-18T22:40:46 193.15959274139044  -4.019023352531352\n",
      "Parallax difference at start of orbit:  0d00m00.2606s\n",
      "\n",
      "\n",
      "Time used to aim:  2017-05-19 00:45:23.500000\n",
      "Pointing Information:  2017-05-19T00:17:25 193.1555554162258  -4.0176084086423005\n",
      "Parallax difference at start of orbit:  0d00m00.262s\n",
      "\n",
      "\n",
      "Time used to aim:  2017-05-19 02:22:03.500000\n",
      "Pointing Information:  2017-05-19T01:54:05 193.1515291170464  -4.016198318234577\n",
      "Parallax difference at start of orbit:  0d00m00.2635s\n",
      "\n",
      "\n",
      "Time used to aim:  2017-05-19 03:58:43.500000\n",
      "Pointing Information:  2017-05-19T03:30:45 193.14751418120576  -4.014793197017428\n",
      "Parallax difference at start of orbit:  0d00m00.265s\n",
      "\n",
      "\n",
      "Time used to aim:  2017-05-19 05:35:23\n",
      "Pointing Information:  2017-05-19T05:07:25 193.14351094070398  -4.013393158618562\n",
      "Parallax difference at start of orbit:  0d00m00.2664s\n",
      "\n",
      "\n",
      "Time used to aim:  2017-05-19 07:12:02.500000\n",
      "Pointing Information:  2017-05-19T06:44:04 193.13951903600991  -4.011998074997392\n",
      "Parallax difference at start of orbit:  0d00m00.2677s\n",
      "\n",
      "\n",
      "Time used to aim:  2017-05-19 08:48:42.500000\n",
      "Pointing Information:  2017-05-19T08:20:44 193.13553811232111  -4.010607820497964\n",
      "Parallax difference at start of orbit:  0d00m00.2692s\n",
      "\n",
      "\n",
      "Time used to aim:  2017-05-19 10:25:22.500000\n",
      "Pointing Information:  2017-05-19T09:57:24 193.13156850446694  -4.009222510892417\n",
      "Parallax difference at start of orbit:  0d00m00.2706s\n",
      "\n",
      "\n",
      "Time used to aim:  2017-05-19 12:02:02.500000\n",
      "Pointing Information:  2017-05-19T11:34:04 193.12761020560197  -4.007842143055039\n",
      "Parallax difference at start of orbit:  0d00m00.272s\n",
      "\n",
      "\n",
      "Time used to aim:  2017-05-19 13:38:42.500000\n",
      "Pointing Information:  2017-05-19T13:10:44 193.1236632129623  -4.006466715893985\n",
      "Parallax difference at start of orbit:  0d00m00.2734s\n",
      "\n",
      "\n",
      "Time used to aim:  2017-05-19 15:15:21.500000\n",
      "Pointing Information:  2017-05-19T14:47:23 193.11972820588358  -4.005096466352154\n",
      "Parallax difference at start of orbit:  0d00m00.2747s\n",
      "\n",
      "\n",
      "Time used to aim:  2017-05-19 16:52:01.500000\n",
      "Pointing Information:  2017-05-19T16:24:03 193.1158038338052  -4.003730925182228\n",
      "Parallax difference at start of orbit:  0d00m00.2761s\n",
      "Total exposure: 161.095 ks\n"
=======
      "Time used to aim:  2017-05-17 09:27:55\n",
      "Pointing Information:  2017-05-17T08:56:40 193.25724338413698  -4.0535299478020965\n",
      "Parallax difference at start of orbit:  0d00m01.3474s\n",
      "Total exposure: 3.75 ks\n"
>>>>>>> Stashed changes
     ]
    }
   ],
   "source": [
    "dt = 0.\n",
    "\n",
    "# Using JPL Horizons web interface at 2017-05-19T01:34:40\n",
    "horizon_ephem = SkyCoord(*[193.1535, -4.01689]*u.deg)\n",
    "\n",
    "f = open('jupiter_20170517to20170520_pointing_v2.txt', 'w')\n",
    "last_ephem = None\n",
    "for orbit in orbits:\n",
    "    tstart = orbit[0]\n",
    "    tend = orbit[1]\n",
    "    print()\n",
    "    on_time = (tend - tstart).total_seconds()\n",
    "    \n",
    "    point_time = tstart + 0.5*(tend - tstart)\n",
    "    \n",
    "    astro_time = Time(point_time)\n",
    "    t = ts.from_astropy(astro_time)\n",
    "    \n",
    "    # Get the SkyField ephemeris:\n",
    "    astrometric = earth.at(t).observe(jupiter)\n",
    "    ra, dec, distance = astrometric.radec()\n",
    "    radeg = ra.to(u.deg)\n",
    "    decdeg = dec.to(u.deg)\n",
    "    skyfield_ephem = SkyCoord(radeg, decdeg)\n",
    "    \n",
    "    \n",
    "    print()\n",
    "    print('Time used to aim: ', point_time)\n",
    "    print('Pointing Information: ', tstart.isoformat()+' {}  {}'.format(radeg.value, decdeg.value))\n",
    "    f.write(tstart.isoformat()+' {}  {}'.format(radeg.value, decdeg.value)+'\\n')\n",
    "    \n",
    "    astrometric_parallax = nustar.at(t).observe(jupiter)\n",
    "    ra, dec, distance = astrometric_parallax.radec()\n",
    "    radeg = ra.to(u.deg)\n",
    "    decdeg = dec.to(u.deg)\n",
    "    skyfield_ephem_parallax = SkyCoord(radeg, decdeg)\n",
    "\n",
    "\n",
    "    print('Parallax difference at mid-point of orbit: ', skyfield_ephem_parallax.separation(skyfield_ephem))\n",
    "\n",
    "    dt += on_time\n",
    "    break\n",
    "\n",
    "    \n",
    "f.close()\n",
    "    \n",
    "print('Total exposure: {} ks'.format(dt*1e-3))"
   ]
  },
  {
   "cell_type": "code",
<<<<<<< Updated upstream
   "execution_count": 6,
=======
   "execution_count": 17,
   "metadata": {
    "collapsed": true
   },
   "outputs": [],
   "source": [
    "ra, dec =  201.2958333,    -11.1611111"
   ]
  },
  {
   "cell_type": "code",
   "execution_count": 18,
>>>>>>> Stashed changes
   "metadata": {
    "collapsed": false
   },
   "outputs": [
    {
     "data": {
<<<<<<< Updated upstream
      "text/plain": [
       "[[datetime.datetime(2017, 5, 16, 12, 40, 54),\n",
       "  datetime.datetime(2017, 5, 16, 13, 36, 50)],\n",
       " [datetime.datetime(2017, 5, 16, 14, 17, 34),\n",
       "  datetime.datetime(2017, 5, 16, 15, 13, 29)],\n",
       " [datetime.datetime(2017, 5, 16, 15, 54, 14),\n",
       "  datetime.datetime(2017, 5, 16, 16, 50, 9)],\n",
       " [datetime.datetime(2017, 5, 16, 17, 30, 54),\n",
       "  datetime.datetime(2017, 5, 16, 18, 26, 49)],\n",
       " [datetime.datetime(2017, 5, 16, 19, 7, 33),\n",
       "  datetime.datetime(2017, 5, 16, 20, 3, 29)],\n",
       " [datetime.datetime(2017, 5, 16, 20, 44, 13),\n",
       "  datetime.datetime(2017, 5, 16, 21, 40, 9)],\n",
       " [datetime.datetime(2017, 5, 16, 22, 20, 53),\n",
       "  datetime.datetime(2017, 5, 16, 23, 16, 48)],\n",
       " [datetime.datetime(2017, 5, 16, 23, 57, 33),\n",
       "  datetime.datetime(2017, 5, 17, 0, 53, 28)],\n",
       " [datetime.datetime(2017, 5, 17, 1, 34, 12),\n",
       "  datetime.datetime(2017, 5, 17, 2, 30, 8)],\n",
       " [datetime.datetime(2017, 5, 17, 3, 10, 52),\n",
       "  datetime.datetime(2017, 5, 17, 4, 6, 48)],\n",
       " [datetime.datetime(2017, 5, 17, 4, 47, 32),\n",
       "  datetime.datetime(2017, 5, 17, 5, 43, 28)],\n",
       " [datetime.datetime(2017, 5, 17, 6, 24, 12),\n",
       "  datetime.datetime(2017, 5, 17, 7, 20, 7)],\n",
       " [datetime.datetime(2017, 5, 17, 8, 0, 51),\n",
       "  datetime.datetime(2017, 5, 17, 8, 56, 47)],\n",
       " [datetime.datetime(2017, 5, 17, 9, 37, 31),\n",
       "  datetime.datetime(2017, 5, 17, 10, 33, 27)],\n",
       " [datetime.datetime(2017, 5, 17, 11, 14, 11),\n",
       "  datetime.datetime(2017, 5, 17, 12, 10, 7)],\n",
       " [datetime.datetime(2017, 5, 17, 12, 50, 51),\n",
       "  datetime.datetime(2017, 5, 17, 13, 46, 46)],\n",
       " [datetime.datetime(2017, 5, 17, 14, 27, 30),\n",
       "  datetime.datetime(2017, 5, 17, 15, 23, 26)],\n",
       " [datetime.datetime(2017, 5, 17, 16, 4, 10),\n",
       "  datetime.datetime(2017, 5, 17, 17, 0, 6)],\n",
       " [datetime.datetime(2017, 5, 17, 17, 40, 50),\n",
       "  datetime.datetime(2017, 5, 17, 18, 36, 46)],\n",
       " [datetime.datetime(2017, 5, 17, 19, 17, 30),\n",
       "  datetime.datetime(2017, 5, 17, 20, 13, 26)],\n",
       " [datetime.datetime(2017, 5, 17, 20, 54, 9),\n",
       "  datetime.datetime(2017, 5, 17, 21, 50, 5)],\n",
       " [datetime.datetime(2017, 5, 17, 22, 30, 49),\n",
       "  datetime.datetime(2017, 5, 17, 23, 26, 45)],\n",
       " [datetime.datetime(2017, 5, 18, 0, 7, 29),\n",
       "  datetime.datetime(2017, 5, 18, 1, 3, 25)],\n",
       " [datetime.datetime(2017, 5, 18, 1, 44, 9),\n",
       "  datetime.datetime(2017, 5, 18, 2, 40, 5)],\n",
       " [datetime.datetime(2017, 5, 18, 3, 20, 48),\n",
       "  datetime.datetime(2017, 5, 18, 4, 16, 45)],\n",
       " [datetime.datetime(2017, 5, 18, 4, 57, 28),\n",
       "  datetime.datetime(2017, 5, 18, 5, 53, 24)],\n",
       " [datetime.datetime(2017, 5, 18, 6, 34, 8),\n",
       "  datetime.datetime(2017, 5, 18, 7, 30, 4)],\n",
       " [datetime.datetime(2017, 5, 18, 8, 10, 48),\n",
       "  datetime.datetime(2017, 5, 18, 9, 6, 44)],\n",
       " [datetime.datetime(2017, 5, 18, 9, 47, 28),\n",
       "  datetime.datetime(2017, 5, 18, 10, 43, 24)],\n",
       " [datetime.datetime(2017, 5, 18, 11, 24, 7),\n",
       "  datetime.datetime(2017, 5, 18, 12, 20, 4)],\n",
       " [datetime.datetime(2017, 5, 18, 13, 0, 47),\n",
       "  datetime.datetime(2017, 5, 18, 13, 56, 43)],\n",
       " [datetime.datetime(2017, 5, 18, 14, 37, 27),\n",
       "  datetime.datetime(2017, 5, 18, 15, 33, 23)],\n",
       " [datetime.datetime(2017, 5, 18, 16, 14, 7),\n",
       "  datetime.datetime(2017, 5, 18, 17, 10, 3)],\n",
       " [datetime.datetime(2017, 5, 18, 17, 50, 46),\n",
       "  datetime.datetime(2017, 5, 18, 18, 46, 43)],\n",
       " [datetime.datetime(2017, 5, 18, 19, 27, 26),\n",
       "  datetime.datetime(2017, 5, 18, 20, 23, 23)],\n",
       " [datetime.datetime(2017, 5, 18, 21, 4, 6),\n",
       "  datetime.datetime(2017, 5, 18, 22, 0, 2)],\n",
       " [datetime.datetime(2017, 5, 18, 22, 40, 46),\n",
       "  datetime.datetime(2017, 5, 18, 23, 36, 42)],\n",
       " [datetime.datetime(2017, 5, 19, 0, 17, 25),\n",
       "  datetime.datetime(2017, 5, 19, 1, 13, 22)],\n",
       " [datetime.datetime(2017, 5, 19, 1, 54, 5),\n",
       "  datetime.datetime(2017, 5, 19, 2, 50, 2)],\n",
       " [datetime.datetime(2017, 5, 19, 3, 30, 45),\n",
       "  datetime.datetime(2017, 5, 19, 4, 26, 42)],\n",
       " [datetime.datetime(2017, 5, 19, 5, 7, 25),\n",
       "  datetime.datetime(2017, 5, 19, 6, 3, 21)],\n",
       " [datetime.datetime(2017, 5, 19, 6, 44, 4),\n",
       "  datetime.datetime(2017, 5, 19, 7, 40, 1)],\n",
       " [datetime.datetime(2017, 5, 19, 8, 20, 44),\n",
       "  datetime.datetime(2017, 5, 19, 9, 16, 41)],\n",
       " [datetime.datetime(2017, 5, 19, 9, 57, 24),\n",
       "  datetime.datetime(2017, 5, 19, 10, 53, 21)],\n",
       " [datetime.datetime(2017, 5, 19, 11, 34, 4),\n",
       "  datetime.datetime(2017, 5, 19, 12, 30, 1)],\n",
       " [datetime.datetime(2017, 5, 19, 13, 10, 44),\n",
       "  datetime.datetime(2017, 5, 19, 14, 6, 41)],\n",
       " [datetime.datetime(2017, 5, 19, 14, 47, 23),\n",
       "  datetime.datetime(2017, 5, 19, 15, 43, 20)],\n",
       " [datetime.datetime(2017, 5, 19, 16, 24, 3),\n",
       "  datetime.datetime(2017, 5, 19, 17, 20)]]"
      ]
     },
     "execution_count": 6,
=======
      "text/latex": [
       "$10^\\circ40{}^\\prime22.6345{}^{\\prime\\prime}$"
      ],
      "text/plain": [
       "<Angle 10.672954029068638 deg>"
      ]
     },
     "execution_count": 18,
>>>>>>> Stashed changes
     "metadata": {},
     "output_type": "execute_result"
    }
   ],
   "source": [
<<<<<<< Updated upstream
    "orbits"
=======
    "random_star = SkyCoord(ra*u.deg, dec*u.deg)\n",
    "random_star.separation(skyfield_ephem_parallax)\n"
>>>>>>> Stashed changes
   ]
  },
  {
   "cell_type": "code",
   "execution_count": null,
   "metadata": {
    "collapsed": true
   },
   "outputs": [],
   "source": []
  }
 ],
 "metadata": {
  "anaconda-cloud": {},
  "kernelspec": {
   "display_name": "Python [default]",
   "language": "python",
   "name": "python3"
  },
  "language_info": {
   "codemirror_mode": {
    "name": "ipython",
    "version": 3
   },
   "file_extension": ".py",
   "mimetype": "text/x-python",
   "name": "python",
   "nbconvert_exporter": "python",
   "pygments_lexer": "ipython3",
   "version": "3.5.1"
  }
 },
 "nbformat": 4,
 "nbformat_minor": 2
}
