{
 "cells": [
  {
   "cell_type": "code",
   "execution_count": 1,
   "metadata": {},
   "outputs": [],
   "source": [
    "from nustar_pysolar import planning, io\n",
    "import astropy.units as u\n",
    "from astropy.coordinates import SkyCoord\n",
    "from astropy.time import TimeDelta\n",
    "import warnings\n",
    "warnings.filterwarnings('ignore')"
   ]
  },
  {
   "cell_type": "markdown",
   "metadata": {},
   "source": [
    "# Download the list of occultation periods from the MOC at Berkeley.\n",
    "\n",
    "## Note that the occultation periods typically only are stored at Berkeley for the *future* and not for the past. So this is only really useful for observation planning."
   ]
  },
  {
   "cell_type": "code",
   "execution_count": 2,
   "metadata": {},
   "outputs": [
    {
     "name": "stdout",
     "output_type": "stream",
     "text": [
      "../data/NUSTAR.2021_115.SHADOW_ANALYSIS.txt\n"
     ]
    }
   ],
   "source": [
    "fname = io.download_occultation_times(outdir='../data/')\n",
    "print(fname)"
   ]
  },
  {
   "cell_type": "markdown",
   "metadata": {},
   "source": [
    "# Download the NuSTAR TLE archive.\n",
    "\n",
    "This contains every two-line element (TLE) that we've received for the whole mission. We'll expand on how to use this later.\n",
    "\n",
    "The `times`, `line1`, and `line2` elements are now the TLE elements for each epoch."
   ]
  },
  {
   "cell_type": "code",
   "execution_count": 3,
   "metadata": {},
   "outputs": [
    {
     "name": "stdout",
     "output_type": "stream",
     "text": [
      "../data/NuSTAR.tle\n"
     ]
    }
   ],
   "source": [
    "tlefile = io.download_tle(outdir='../data')\n",
    "print(tlefile)\n",
    "times, line1, line2 = io.read_tle_file(tlefile)"
   ]
  },
  {
   "cell_type": "markdown",
   "metadata": {},
   "source": [
    "# Here is where we define the observing window that we want to use.\n",
    "\n",
    "Note that tstart and tend must be in the future otherwise you won't find any occultation times and sunlight_periods will return an error."
   ]
  },
  {
   "cell_type": "code",
   "execution_count": 9,
   "metadata": {},
   "outputs": [],
   "source": [
    "tstart = '2021-04-29T14:20:00'\n",
    "tend = '2021-04-29T23:00:00'\n",
    "orbits = planning.sunlight_periods(fname, tstart, tend)"
   ]
  },
  {
   "cell_type": "code",
   "execution_count": 10,
   "metadata": {},
   "outputs": [
    {
     "data": {
      "text/plain": [
       "[[<Time object: scale='utc' format='isot' value=2021-04-29T14:52:50.000>,\n",
       "  <Time object: scale='utc' format='isot' value=2021-04-29T15:55:00.000>],\n",
       " [<Time object: scale='utc' format='isot' value=2021-04-29T16:29:30.000>,\n",
       "  <Time object: scale='utc' format='isot' value=2021-04-29T17:31:40.000>],\n",
       " [<Time object: scale='utc' format='isot' value=2021-04-29T18:06:10.000>,\n",
       "  <Time object: scale='utc' format='isot' value=2021-04-29T19:08:20.000>],\n",
       " [<Time object: scale='utc' format='isot' value=2021-04-29T19:42:50.000>,\n",
       "  <Time object: scale='utc' format='isot' value=2021-04-29T20:45:00.000>],\n",
       " [<Time object: scale='utc' format='isot' value=2021-04-29T21:19:20.000>,\n",
       "  <Time object: scale='utc' format='isot' value=2021-04-29T22:21:30.000>]]"
      ]
     },
     "execution_count": 10,
     "metadata": {},
     "output_type": "execute_result"
    }
   ],
   "source": [
    "orbits"
   ]
  },
  {
   "cell_type": "code",
   "execution_count": 11,
   "metadata": {},
   "outputs": [
    {
     "name": "stdout",
     "output_type": "stream",
     "text": [
      "953.091960344499\n"
     ]
    }
   ],
   "source": [
    "# Get the solar parameter\n",
    "from sunpy.coordinates import sun\n",
    "\n",
    "angular_size = sun.angular_radius(t='now')\n",
    "dx = angular_size.arcsec\n",
    "print(dx)"
   ]
  },
  {
   "cell_type": "code",
   "execution_count": 16,
   "metadata": {},
   "outputs": [
    {
     "name": "stdout",
     "output_type": "stream",
     "text": [
      "2021-04-29T14:20:00\n",
      "NuSTAR Roll angle for Det0 in NE quadrant: 20.663394935490903 deg\n"
     ]
    }
   ],
   "source": [
    "sun_pa = planning.get_nustar_roll(tstart, 0.)\n",
    "\n",
    "\n",
    "pa = planning.get_nustar_roll(tstart, 45*u.deg)\n",
    "print(tstart)\n",
    "print(\"NuSTAR Roll angle for Det0 in NE quadrant: {}\".format(pa))\n",
    "\n"
   ]
  },
  {
   "cell_type": "code",
   "execution_count": 15,
   "metadata": {},
   "outputs": [
    {
     "name": "stdout",
     "output_type": "stream",
     "text": [
      "Orbit: 1\n",
      "Solar offset: [0. 0.] arcsec\n",
      "Orbit start: 2021-04-29 14:52:50.000 Orbit end: 2021-04-29 15:55:00.000\n",
      "Aim time: 2021-04-29 15:23:55.000 RA (deg):  36.8471 deg Dec (deg):  14.5729 deg\n",
      "\n",
      "Orbit: 1\n",
      "Solar offset: [ 900. -300.] arcsec\n",
      "Orbit start: 2021-04-29 14:52:50.000 Orbit end: 2021-04-29 15:55:00.000\n",
      "Aim time: 2021-04-29 15:23:55.000 RA (deg):  36.6472 deg Dec (deg):  14.3939 deg\n",
      "\n",
      "[<Time object: scale='utc' format='isot' value=2021-04-29T16:29:30.000>, <Time object: scale='utc' format='isot' value=2021-04-29T17:31:40.000>]\n",
      "Orbit: 2a\n",
      "Solar offset: [ 900. -300.] arcsec\n",
      "Orbit start: 2021-04-29 16:29:30.000 Orbit end: 2021-04-29 17:16:40.000\n",
      "Aim time: 2021-04-29 16:53:05.000 RA (deg):  36.7074 deg Dec (deg):  14.4130 deg\n",
      "\n",
      "Orbit: 2b\n",
      "Solar offset: [ 900. -300.] arcsec\n",
      "Orbit start: 2021-04-29 17:16:40.000 Orbit end: 2021-04-29 17:31:40.000\n",
      "Aim time: 2021-04-29 17:24:10.000 RA (deg):  36.7239 deg Dec (deg):  14.4189 deg\n",
      "\n",
      "Orbit: 3\n",
      "Solar offset: [ 900. -300.] arcsec\n",
      "Orbit start: 2021-04-29 18:06:10.000 Orbit end: 2021-04-29 19:08:20.000\n",
      "Aim time: 2021-04-29 18:37:15.000 RA (deg):  36.7748 deg Dec (deg):  14.4355 deg\n",
      "\n",
      "Orbit: 4\n",
      "Solar offset: [ 900. -300.] arcsec\n",
      "Orbit start: 2021-04-29 19:42:50.000 Orbit end: 2021-04-29 20:45:00.000\n",
      "Aim time: 2021-04-29 20:13:55.000 RA (deg):  36.8387 deg Dec (deg):  14.4562 deg\n",
      "\n"
     ]
    }
   ],
   "source": [
    "\n",
    "# Orbit 1 (AR)\n",
    "offset = [0, 0.]*u.arcsec\n",
    "\n",
    "ind = 1\n",
    "orbit = orbits[0]\n",
    "midTime = (0.5*(orbit[1] - orbit[0]) + orbit[0])\n",
    "sky_pos = planning.get_skyfield_position(midTime, offset, load_path='./data', parallax_correction=True)\n",
    "print(\"Orbit: {}\".format(ind))\n",
    "print(f\"Solar offset: {offset}\")\n",
    "print(\"Orbit start: {} Orbit end: {}\".format(orbit[0].iso, orbit[1].iso))\n",
    "print(f'Aim time: {midTime.iso} RA (deg): {sky_pos[0]:8.4f} Dec (deg): {sky_pos[1]:8.4f}')\n",
    "print(\"\")\n",
    "\n",
    "\n",
    "\n",
    "# Orbit 1 (AR)\n",
    "offset = [900, -300.]*u.arcsec\n",
    "\n",
    "ind = 1\n",
    "orbit = orbits[0]\n",
    "midTime = (0.5*(orbit[1] - orbit[0]) + orbit[0])\n",
    "sky_pos = planning.get_skyfield_position(midTime, offset, load_path='./data', parallax_correction=True)\n",
    "print(\"Orbit: {}\".format(ind))\n",
    "print(f\"Solar offset: {offset}\")\n",
    "print(\"Orbit start: {} Orbit end: {}\".format(orbit[0].iso, orbit[1].iso))\n",
    "print(f'Aim time: {midTime.iso} RA (deg): {sky_pos[0]:8.4f} Dec (deg): {sky_pos[1]:8.4f}')\n",
    "print(\"\")\n",
    "\n",
    "\n",
    "# Orbit 2a (AR)\n",
    "offset = [900, -300.]*u.arcsec\n",
    "\n",
    "\n",
    "ind = 2\n",
    "orbit = orbits[1].copy()\n",
    "print(orbit)\n",
    "oldend = orbit[1]\n",
    "newend = orbit[1] - TimeDelta(15*60., format = 'sec') # 15 minutes early\n",
    "orbit[1] = newend\n",
    "\n",
    "midTime = (0.5*(orbit[1] - orbit[0]) + orbit[0])\n",
    "sky_pos = planning.get_skyfield_position(midTime, offset, load_path='./data', parallax_correction=True)\n",
    "print(f\"Orbit: {ind}a\")\n",
    "print(f\"Solar offset: {offset}\")\n",
    "print(\"Orbit start: {} Orbit end: {}\".format(orbit[0].iso, orbit[1].iso))\n",
    "print(f'Aim time: {midTime.iso} RA (deg): {sky_pos[0]:8.4f} Dec (deg): {sky_pos[1]:8.4f}')\n",
    "print(\"\")\n",
    "\n",
    "\n",
    "# Orbit 2b (small thing)\n",
    "offset = [900, -300.]*u.arcsec\n",
    "\n",
    "orbit[0] = newend\n",
    "orbit[1] = oldend\n",
    "midTime = (0.5*(orbit[1] - orbit[0]) + orbit[0])\n",
    "sky_pos = planning.get_skyfield_position(midTime, offset, load_path='./data', parallax_correction=True)\n",
    "print(f\"Orbit: {ind}b\")\n",
    "print(f\"Solar offset: {offset}\")\n",
    "print(\"Orbit start: {} Orbit end: {}\".format(orbit[0].iso, orbit[1].iso))\n",
    "print(f'Aim time: {midTime.iso} RA (deg): {sky_pos[0]:8.4f} Dec (deg): {sky_pos[1]:8.4f}')\n",
    "print(\"\")\n",
    "\n",
    "\n",
    "\n",
    "\n",
    "\n",
    "\n",
    "# Orbit 3, 4 (PSP Footpoints)\n",
    "offset = [900, -300.]*u.arcsec\n",
    "\n",
    "for oi in [2, 3]:\n",
    "    ind = oi+1\n",
    "\n",
    "    orbit = orbits[oi]\n",
    "    midTime = (0.5*(orbit[1] - orbit[0]) + orbit[0])\n",
    "    sky_pos = planning.get_skyfield_position(midTime, offset, load_path='./data', parallax_correction=True)\n",
    "    print(\"Orbit: {}\".format(ind))\n",
    "    print(f\"Solar offset: {offset}\")\n",
    "    print(\"Orbit start: {} Orbit end: {}\".format(orbit[0].iso, orbit[1].iso))\n",
    "    print(f'Aim time: {midTime.iso} RA (deg): {sky_pos[0]:8.4f} Dec (deg): {sky_pos[1]:8.4f}')\n",
    "    print(\"\")\n",
    "\n",
    "\n"
   ]
  },
  {
   "cell_type": "code",
   "execution_count": 47,
   "metadata": {},
   "outputs": [
    {
     "data": {
      "text/latex": [
       "$0^\\circ00{}^\\prime20.9707{}^{\\prime\\prime}$"
      ],
      "text/plain": [
       "<Angle 0.00582518 deg>"
      ]
     },
     "execution_count": 47,
     "metadata": {},
     "output_type": "execute_result"
    }
   ],
   "source": [
    "test1 = SkyCoord(289.3792274160115,  -22.304595055979675, unit = 'deg')\n",
    "orb1 = SkyCoord(289.3855, -22.3051, unit = 'deg')\n",
    "orb1.separation(test1)"
   ]
  },
  {
   "cell_type": "code",
   "execution_count": 10,
   "metadata": {},
   "outputs": [
    {
     "data": {
      "text/plain": [
       "[<Time object: scale='utc' format='isot' value=2021-01-14T11:10:00.000>,\n",
       " <Time object: scale='utc' format='isot' value=2021-01-14T12:12:50.000>]"
      ]
     },
     "execution_count": 10,
     "metadata": {},
     "output_type": "execute_result"
    }
   ],
   "source": [
    "orbit"
   ]
  },
  {
   "cell_type": "code",
   "execution_count": 38,
   "metadata": {},
   "outputs": [],
   "source": [
    "import sunpy"
   ]
  },
  {
   "cell_type": "code",
   "execution_count": 39,
   "metadata": {},
   "outputs": [
    {
     "data": {
      "text/plain": [
       "'2.0.1'"
      ]
     },
     "execution_count": 39,
     "metadata": {},
     "output_type": "execute_result"
    }
   ],
   "source": [
    "sunpy.__version__"
   ]
  },
  {
   "cell_type": "code",
   "execution_count": 49,
   "metadata": {},
   "outputs": [
    {
     "data": {
      "text/latex": [
       "$0^\\circ00{}^\\prime20.9007{}^{\\prime\\prime}$"
      ],
      "text/plain": [
       "<Angle 0.00580576 deg>"
      ]
     },
     "execution_count": 49,
     "metadata": {},
     "output_type": "execute_result"
    }
   ],
   "source": [
    "test1 = SkyCoord(289.898451566591, -22.158432904027155 , unit = 'deg')\n",
    "orb1 = SkyCoord(289.9047,  -22.1589, unit = 'deg')\n",
    "orb1.separation(test1)"
   ]
  },
  {
   "cell_type": "code",
   "execution_count": 35,
   "metadata": {},
   "outputs": [
    {
     "name": "stdout",
     "output_type": "stream",
     "text": [
      "20.663394935490903 deg\n"
     ]
    }
   ],
   "source": [
    "sun_pa = planning.get_nustar_roll(tstart, 0.)\n",
    "\n",
    "\n",
    "pa = planning.get_nustar_roll(tstart, 45*u.deg)\n",
    "\n",
    "\n",
    "\n",
    "offset = [0, 0.]*u.arcsec\n",
    "\n",
    "ind = 1\n",
    "orbit = orbits[0]\n",
    "midTime = (0.5*(orbit[1] - orbit[0]) + orbit[0])\n",
    "sun_pos = planning.get_skyfield_position(midTime, offset, load_path='./data', parallax_correction=True)\n",
    "\n",
    "\n",
    "\n",
    "# Orbit 1 (AR)\n",
    "offset = [900, -300.]*u.arcsec\n",
    "\n",
    "ind = 1\n",
    "orbit = orbits[0]\n",
    "midTime = (0.5*(orbit[1] - orbit[0]) + orbit[0])\n",
    "sky_pos = planning.get_skyfield_position(midTime, offset, load_path='./data', parallax_correction=True)\n",
    "\n",
    "planning.make_test_region(sky_pos[0], sky_pos[1], pa, sun_pos[0], sun_pos[1], sun_pa)\n",
    "print(pa)"
   ]
  },
  {
   "cell_type": "code",
   "execution_count": 21,
   "metadata": {},
   "outputs": [
    {
     "data": {
      "text/latex": [
       "$[36.847139,~14.572872] \\; \\mathrm{{}^{\\circ}}$"
      ],
      "text/plain": [
       "<Quantity [36.84713877, 14.57287177] deg>"
      ]
     },
     "execution_count": 21,
     "metadata": {},
     "output_type": "execute_result"
    }
   ],
   "source": []
  },
  {
   "cell_type": "code",
   "execution_count": null,
   "metadata": {},
   "outputs": [],
   "source": []
  }
 ],
 "metadata": {
  "anaconda-cloud": {},
  "kernelspec": {
   "display_name": "Python 3",
   "language": "python",
   "name": "python3"
  },
  "language_info": {
   "codemirror_mode": {
    "name": "ipython",
    "version": 3
   },
   "file_extension": ".py",
   "mimetype": "text/x-python",
   "name": "python",
   "nbconvert_exporter": "python",
   "pygments_lexer": "ipython3",
   "version": "3.7.8"
  }
 },
 "nbformat": 4,
 "nbformat_minor": 4
}
