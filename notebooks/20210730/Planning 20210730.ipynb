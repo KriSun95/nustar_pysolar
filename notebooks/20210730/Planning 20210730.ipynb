{
 "cells": [
  {
   "cell_type": "code",
   "execution_count": 1,
   "metadata": {},
   "outputs": [],
   "source": [
    "from nustar_pysolar import planning, io\n",
    "import astropy.units as u\n",
    "from astropy.coordinates import SkyCoord\n",
    "from astropy.time import TimeDelta\n",
    "import warnings\n",
    "warnings.filterwarnings('ignore')"
   ]
  },
  {
   "cell_type": "markdown",
   "metadata": {},
   "source": [
    "# Download the list of occultation periods from the MOC at Berkeley.\n",
    "\n",
    "## Note that the occultation periods typically only are stored at Berkeley for the *future* and not for the past. So this is only really useful for observation planning."
   ]
  },
  {
   "cell_type": "code",
   "execution_count": 2,
   "metadata": {},
   "outputs": [
    {
     "name": "stdout",
     "output_type": "stream",
     "text": [
      "../data/NUSTAR.2021_206.SHADOW_ANALYSIS.txt\n"
     ]
    }
   ],
   "source": [
    "fname = io.download_occultation_times(outdir='../data/')\n",
    "print(fname)"
   ]
  },
  {
   "cell_type": "markdown",
   "metadata": {},
   "source": [
    "# Download the NuSTAR TLE archive.\n",
    "\n",
    "This contains every two-line element (TLE) that we've received for the whole mission. We'll expand on how to use this later.\n",
    "\n",
    "The `times`, `line1`, and `line2` elements are now the TLE elements for each epoch."
   ]
  },
  {
   "cell_type": "code",
   "execution_count": 3,
   "metadata": {},
   "outputs": [
    {
     "name": "stdout",
     "output_type": "stream",
     "text": [
      "../data/NuSTAR.tle\n"
     ]
    }
   ],
   "source": [
    "tlefile = io.download_tle(outdir='../data')\n",
    "print(tlefile)\n",
    "times, line1, line2 = io.read_tle_file(tlefile)"
   ]
  },
  {
   "cell_type": "markdown",
   "metadata": {},
   "source": [
    "# Here is where we define the observing window that we want to use.\n",
    "\n",
    "Note that tstart and tend must be in the future otherwise you won't find any occultation times and sunlight_periods will return an error."
   ]
  },
  {
   "cell_type": "code",
   "execution_count": 6,
   "metadata": {},
   "outputs": [],
   "source": [
    "tstart = '2021-07-30T18:00:00'\n",
    "tend = '2021-07-30T23:00:00'\n",
    "orbits = planning.sunlight_periods(fname, tstart, tend)"
   ]
  },
  {
   "cell_type": "code",
   "execution_count": 7,
   "metadata": {},
   "outputs": [
    {
     "name": "stdout",
     "output_type": "stream",
     "text": [
      "2021-07-30T18:04:10.000 2021-07-30T19:06:30.000\n",
      "2021-07-30T19:40:50.000 2021-07-30T20:43:10.000\n",
      "2021-07-30T21:17:30.000 2021-07-30T22:19:50.000\n"
     ]
    }
   ],
   "source": [
    "for orbit in orbits:\n",
    "    print(orbit[0], orbit[1])"
   ]
  },
  {
   "cell_type": "code",
   "execution_count": 8,
   "metadata": {},
   "outputs": [
    {
     "name": "stdout",
     "output_type": "stream",
     "text": [
      "944.5417588990247\n"
     ]
    }
   ],
   "source": [
    "# Get the solar parameter\n",
    "from sunpy.coordinates import sun\n",
    "\n",
    "angular_size = sun.angular_radius(t='now')\n",
    "dx = angular_size.arcsec\n",
    "print(dx)"
   ]
  },
  {
   "cell_type": "code",
   "execution_count": 9,
   "metadata": {},
   "outputs": [
    {
     "name": "stdout",
     "output_type": "stream",
     "text": [
      "2021-07-30T18:00:00\n",
      "NuSTAR Roll angle for Det0 in NE quadrant: 10.369796154862838 deg\n"
     ]
    }
   ],
   "source": [
    "sun_pa = planning.get_nustar_roll(tstart, 0.)\n",
    "\n",
    "\n",
    "pa = planning.get_nustar_roll(tstart, 0*u.deg)\n",
    "print(tstart)\n",
    "print(\"NuSTAR Roll angle for Det0 in NE quadrant: {}\".format(pa))\n",
    "\n"
   ]
  },
  {
   "cell_type": "code",
   "execution_count": 12,
   "metadata": {},
   "outputs": [
    {
     "name": "stdout",
     "output_type": "stream",
     "text": [
      "Orbit: 0\n",
      "Solar offset: [-1050.  -350.] arcsec\n",
      "Orbit start: 2021-07-20 00:23:00.000 Orbit end: 2021-07-20 01:25:30.000\n",
      "Aim time: 2021-07-20 00:54:15.000 RA (deg): 119.6195 deg Dec (deg):  20.5794 deg\n",
      "\n",
      "Orbit: 1\n",
      "Solar offset: [-1050.  -350.] arcsec\n",
      "Orbit start: 2021-07-20 01:59:40.000 Orbit end: 2021-07-20 03:02:10.000\n",
      "Aim time: 2021-07-20 02:30:55.000 RA (deg): 119.6866 deg Dec (deg):  20.5667 deg\n",
      "\n",
      "Orbit: 2\n",
      "Solar offset: [-1050.  -350.] arcsec\n",
      "Orbit start: 2021-07-20 03:36:20.000 Orbit end: 2021-07-20 04:38:50.000\n",
      "Aim time: 2021-07-20 04:07:35.000 RA (deg): 119.7536 deg Dec (deg):  20.5541 deg\n",
      "\n",
      "Orbit: 3\n",
      "Solar offset: [-1050.  -350.] arcsec\n",
      "Orbit start: 2021-07-20 05:12:50.000 Orbit end: 2021-07-20 06:15:30.000\n",
      "Aim time: 2021-07-20 05:44:10.000 RA (deg): 119.8206 deg Dec (deg):  20.5414 deg\n",
      "\n",
      "Orbit: 4\n",
      "Solar offset: [-1050.  -350.] arcsec\n",
      "Orbit start: 2021-07-20 06:49:30.000 Orbit end: 2021-07-20 07:52:00.000\n",
      "Aim time: 2021-07-20 07:20:45.000 RA (deg): 119.8876 deg Dec (deg):  20.5287 deg\n",
      "\n",
      "Orbit: 5\n",
      "Solar offset: [-1050.  -350.] arcsec\n",
      "Orbit start: 2021-07-20 08:26:10.000 Orbit end: 2021-07-20 09:28:40.000\n",
      "Aim time: 2021-07-20 08:57:25.000 RA (deg): 119.9546 deg Dec (deg):  20.5160 deg\n",
      "\n",
      "Orbit: 6\n",
      "Solar offset: [-1050.  -350.] arcsec\n",
      "Orbit start: 2021-07-20 10:02:50.000 Orbit end: 2021-07-20 11:05:20.000\n",
      "Aim time: 2021-07-20 10:34:05.000 RA (deg): 120.0216 deg Dec (deg):  20.5032 deg\n",
      "\n",
      "Orbit: 7\n",
      "Solar offset: [-1050.  -350.] arcsec\n",
      "Orbit start: 2021-07-20 11:39:30.000 Orbit end: 2021-07-20 12:42:00.000\n",
      "Aim time: 2021-07-20 12:10:45.000 RA (deg): 120.0886 deg Dec (deg):  20.4904 deg\n",
      "\n",
      "Orbit: 8\n",
      "Solar offset: [-1050.  -350.] arcsec\n",
      "Orbit start: 2021-07-20 13:16:00.000 Orbit end: 2021-07-20 14:18:40.000\n",
      "Aim time: 2021-07-20 13:47:20.000 RA (deg): 120.1555 deg Dec (deg):  20.4776 deg\n",
      "\n"
     ]
    }
   ],
   "source": [
    "\n",
    "# Orbit 1 (Eastern limb)\n",
    "offset = [-1050, -350.]*u.arcsec\n",
    "\n",
    "for ind, orbit in enumerate(orbits):\n",
    "    midTime = (0.5*(orbit[1] - orbit[0]) + orbit[0])\n",
    "    sky_pos = planning.get_skyfield_position(midTime, offset, load_path='./data', parallax_correction=True)\n",
    "    print(\"Orbit: {}\".format(ind))\n",
    "    print(f\"Solar offset: {offset}\")\n",
    "    print(\"Orbit start: {} Orbit end: {}\".format(orbit[0].iso, orbit[1].iso))\n",
    "    print(f'Aim time: {midTime.iso} RA (deg): {sky_pos[0]:8.4f} Dec (deg): {sky_pos[1]:8.4f}')\n",
    "    print(\"\")\n",
    "\n"
   ]
  },
  {
   "cell_type": "code",
   "execution_count": 47,
   "metadata": {},
   "outputs": [
    {
     "data": {
      "text/latex": [
       "$0^\\circ00{}^\\prime20.9707{}^{\\prime\\prime}$"
      ],
      "text/plain": [
       "<Angle 0.00582518 deg>"
      ]
     },
     "execution_count": 47,
     "metadata": {},
     "output_type": "execute_result"
    }
   ],
   "source": [
    "test1 = SkyCoord(289.3792274160115,  -22.304595055979675, unit = 'deg')\n",
    "orb1 = SkyCoord(289.3855, -22.3051, unit = 'deg')\n",
    "orb1.separation(test1)"
   ]
  },
  {
   "cell_type": "code",
   "execution_count": 10,
   "metadata": {},
   "outputs": [
    {
     "data": {
      "text/plain": [
       "[<Time object: scale='utc' format='isot' value=2021-01-14T11:10:00.000>,\n",
       " <Time object: scale='utc' format='isot' value=2021-01-14T12:12:50.000>]"
      ]
     },
     "execution_count": 10,
     "metadata": {},
     "output_type": "execute_result"
    }
   ],
   "source": [
    "orbit"
   ]
  },
  {
   "cell_type": "code",
   "execution_count": 38,
   "metadata": {},
   "outputs": [],
   "source": [
    "import sunpy"
   ]
  },
  {
   "cell_type": "code",
   "execution_count": 39,
   "metadata": {},
   "outputs": [
    {
     "data": {
      "text/plain": [
       "'2.0.1'"
      ]
     },
     "execution_count": 39,
     "metadata": {},
     "output_type": "execute_result"
    }
   ],
   "source": [
    "sunpy.__version__"
   ]
  },
  {
   "cell_type": "code",
   "execution_count": 49,
   "metadata": {},
   "outputs": [
    {
     "data": {
      "text/latex": [
       "$0^\\circ00{}^\\prime20.9007{}^{\\prime\\prime}$"
      ],
      "text/plain": [
       "<Angle 0.00580576 deg>"
      ]
     },
     "execution_count": 49,
     "metadata": {},
     "output_type": "execute_result"
    }
   ],
   "source": [
    "test1 = SkyCoord(289.898451566591, -22.158432904027155 , unit = 'deg')\n",
    "orb1 = SkyCoord(289.9047,  -22.1589, unit = 'deg')\n",
    "orb1.separation(test1)"
   ]
  },
  {
   "cell_type": "code",
   "execution_count": 35,
   "metadata": {},
   "outputs": [
    {
     "name": "stdout",
     "output_type": "stream",
     "text": [
      "20.663394935490903 deg\n"
     ]
    }
   ],
   "source": [
    "sun_pa = planning.get_nustar_roll(tstart, 0.)\n",
    "\n",
    "\n",
    "pa = planning.get_nustar_roll(tstart, 45*u.deg)\n",
    "\n",
    "\n",
    "\n",
    "offset = [0, 0.]*u.arcsec\n",
    "\n",
    "ind = 1\n",
    "orbit = orbits[0]\n",
    "midTime = (0.5*(orbit[1] - orbit[0]) + orbit[0])\n",
    "sun_pos = planning.get_skyfield_position(midTime, offset, load_path='./data', parallax_correction=True)\n",
    "\n",
    "\n",
    "\n",
    "# Orbit 1 (AR)\n",
    "offset = [900, -300.]*u.arcsec\n",
    "\n",
    "ind = 1\n",
    "orbit = orbits[0]\n",
    "midTime = (0.5*(orbit[1] - orbit[0]) + orbit[0])\n",
    "sky_pos = planning.get_skyfield_position(midTime, offset, load_path='./data', parallax_correction=True)\n",
    "\n",
    "planning.make_test_region(sky_pos[0], sky_pos[1], pa, sun_pos[0], sun_pos[1], sun_pa)\n",
    "print(pa)"
   ]
  },
  {
   "cell_type": "code",
   "execution_count": 21,
   "metadata": {},
   "outputs": [
    {
     "data": {
      "text/latex": [
       "$[36.847139,~14.572872] \\; \\mathrm{{}^{\\circ}}$"
      ],
      "text/plain": [
       "<Quantity [36.84713877, 14.57287177] deg>"
      ]
     },
     "execution_count": 21,
     "metadata": {},
     "output_type": "execute_result"
    }
   ],
   "source": []
  },
  {
   "cell_type": "code",
   "execution_count": null,
   "metadata": {},
   "outputs": [],
   "source": []
  }
 ],
 "metadata": {
  "anaconda-cloud": {},
  "kernelspec": {
   "display_name": "Python 3",
   "language": "python",
   "name": "python3"
  },
  "language_info": {
   "codemirror_mode": {
    "name": "ipython",
    "version": 3
   },
   "file_extension": ".py",
   "mimetype": "text/x-python",
   "name": "python",
   "nbconvert_exporter": "python",
   "pygments_lexer": "ipython3",
   "version": "3.7.8"
  }
 },
 "nbformat": 4,
 "nbformat_minor": 4
}
