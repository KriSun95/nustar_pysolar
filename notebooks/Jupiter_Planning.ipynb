{
 "cells": [
  {
   "cell_type": "code",
   "execution_count": 2,
   "metadata": {
    "collapsed": false
   },
   "outputs": [
    {
     "name": "stderr",
     "output_type": "stream",
     "text": [
      "WARNING: AstropyDeprecationWarning: astropy.utils.compat.odict.OrderedDict is now deprecated - import OrderedDict from the collections module instead [astropy.utils.compat.odict]\n"
     ]
    }
   ],
   "source": [
    "from nustar_pysolar import planning\n",
    "from nustar_pysolar.planning import _parse_timestamp as parse_timestamp\n",
    "import astropy.units as u\n",
    "from astropy.time import Time\n",
    "from astropy.coordinates import get_body, solar_system_ephemeris, get_body_barycentric, SkyCoord\n",
    "from datetime import datetime"
   ]
  },
  {
   "cell_type": "code",
   "execution_count": 3,
   "metadata": {
    "collapsed": false
   },
   "outputs": [
    {
     "name": "stdout",
     "output_type": "stream",
     "text": [
      "../data/NUSTAR.2017_129.SHADOW_ANALYSIS.txt\n"
     ]
    }
   ],
   "source": [
    "fname = planning.download_occultation_times(outdir='../data/')\n",
    "print(fname)"
   ]
  },
  {
   "cell_type": "code",
   "execution_count": 4,
   "metadata": {
    "collapsed": false
   },
   "outputs": [
    {
     "data": {
      "text/plain": [
       "<ScienceState solar_system_ephemeris: 'jpl'>"
      ]
     },
     "execution_count": 4,
     "metadata": {},
     "output_type": "execute_result"
    }
   ],
   "source": [
    "tstart = '2017-05-19T01:43:00'\n",
    "tend = '2017-05-19T11:43:00'\n",
    "\n",
    "tstamp = '2017:137:09:15:00'\n",
    "tstart = datetime.strptime(tstamp, '%Y:%j:%H:%M:%S')                \n",
    "tstamp = '2017:140:13:05:00'\n",
    "tend = datetime.strptime(tstamp, '%Y:%j:%H:%M:%S')                \n",
    "\n",
    "orbits = planning.sunlight_periods(fname, tstart, tend)\n",
    "solar_system_ephemeris.set('jpl')\n",
    "\n"
   ]
  },
  {
   "cell_type": "code",
   "execution_count": 6,
   "metadata": {
    "collapsed": false
   },
   "outputs": [],
   "source": [
    "from skyfield.api import Loader\n",
    "load = Loader('../data')\n",
    "\n",
    "ts = load.timescale()\n",
    "planets = load('jup310.bsp')\n"
   ]
  },
  {
   "cell_type": "markdown",
   "metadata": {},
   "source": [
    "# Use the astropy interface to get the location of Juptier as the time that you want to use."
   ]
  },
  {
   "cell_type": "code",
   "execution_count": 10,
   "metadata": {
    "collapsed": false,
    "scrolled": false
   },
   "outputs": [
    {
     "name": "stdout",
     "output_type": "stream",
     "text": [
      "\n",
      "\n",
      "2017-05-17T08:56:40 193.25724338413698  -4.0535299478020965\n",
      "\n",
      "Offset from last pointing:  0d00m16.3945s\n",
      "\n",
      "2017-05-17T10:33:20 193.25294336736857  -4.051999790568206\n",
      "\n",
      "Offset from last pointing:  0d00m16.3512s\n",
      "\n",
      "2017-05-17T12:10:00 193.24865442609843  -4.0504744953151635\n",
      "\n",
      "Offset from last pointing:  0d00m16.3219s\n",
      "\n",
      "2017-05-17T13:46:40 193.24437287127267  -4.048952750184888\n",
      "\n",
      "Offset from last pointing:  0d00m16.2646s\n",
      "\n",
      "2017-05-17T15:23:20 193.2401060744517  -4.047437174497219\n",
      "\n",
      "Offset from last pointing:  0d00m16.2213s\n",
      "\n",
      "2017-05-17T17:00:00 193.23585034187317  -4.045926454839385\n",
      "\n",
      "Offset from last pointing:  0d00m16.178s\n",
      "\n",
      "2017-05-17T18:36:40 193.23160567596435  -4.04442059240225\n",
      "\n",
      "Offset from last pointing:  0d00m16.1347s\n",
      "\n",
      "2017-05-17T20:13:20 193.22737208353217  -4.042919590454218\n",
      "\n",
      "Offset from last pointing:  0d00m16.0914s\n",
      "\n",
      "2017-05-17T21:50:00 193.22314957580977  -4.04142345430578\n",
      "\n",
      "Offset from last pointing:  0d00m16.048s\n",
      "\n",
      "2017-05-17T23:26:40 193.21893816847412  -4.039932191248995\n",
      "\n",
      "Offset from last pointing:  0d00m16.0183s\n",
      "\n",
      "2017-05-18T01:03:30 193.21473426530906  -4.038444531153776\n",
      "\n",
      "Offset from last pointing:  0d00m15.9746s\n",
      "\n",
      "2017-05-18T02:40:10 193.21054152534077  -4.0369617723767295\n",
      "\n",
      "Offset from last pointing:  0d00m15.9172s\n",
      "\n",
      "2017-05-18T04:16:50 193.20636357200726  -4.035485197493987\n",
      "\n",
      "Offset from last pointing:  0d00m15.8734s\n",
      "\n",
      "2017-05-18T05:53:30 193.20219681768165  -4.034013539678312\n",
      "\n",
      "Offset from last pointing:  0d00m15.8295s\n",
      "\n",
      "2017-05-18T07:30:10 193.19804129210436  -4.032546811647618\n",
      "\n",
      "Offset from last pointing:  0d00m15.7854s\n",
      "\n",
      "2017-05-18T09:06:50 193.19389702472895  -4.031085025734626\n",
      "\n",
      "Offset from last pointing:  0d00m15.7413s\n",
      "\n",
      "2017-05-18T10:43:30 193.18976404414605  -4.029628193610123\n",
      "\n",
      "Offset from last pointing:  0d00m15.6971s\n",
      "\n",
      "2017-05-18T12:20:10 193.18564237683546  -4.028176325738304\n",
      "\n",
      "Offset from last pointing:  0d00m15.6662s\n",
      "\n",
      "2017-05-18T13:56:50 193.18152850787286  -4.0267281858702635\n",
      "\n",
      "Offset from last pointing:  0d00m15.6217s\n",
      "\n",
      "2017-05-18T15:33:40 193.17742601504668  -4.025285034770949\n",
      "\n",
      "Offset from last pointing:  0d00m15.5638s\n",
      "\n",
      "2017-05-18T17:10:20 193.173338432683  -4.023848113959822\n",
      "\n",
      "Offset from last pointing:  0d00m15.5193s\n",
      "\n",
      "2017-05-18T18:47:00 193.16926223287626  -4.022416180936555\n",
      "\n",
      "Offset from last pointing:  0d00m15.4748s\n",
      "\n",
      "2017-05-18T20:23:40 193.16519742135262  -4.020989236170717\n",
      "\n",
      "Offset from last pointing:  0d00m15.4303s\n",
      "\n",
      "2017-05-18T22:00:20 193.16114399899024  -4.019567277999726\n",
      "\n",
      "Offset from last pointing:  0d00m15.3858s\n",
      "\n",
      "2017-05-18T23:37:00 193.1571019621942  -4.0181503028624235\n",
      "\n",
      "Offset from last pointing:  0d00m15.3413s\n",
      "\n",
      "2017-05-19T01:13:40 193.15307130363266  -4.016738305687281\n",
      "\n",
      "Offset from last pointing:  0d00m15.3101s\n",
      "\n",
      "2017-05-19T02:50:20 193.14904855295322  -4.015330069463435\n",
      "\n",
      "Offset from last pointing:  0d00m15.2525s\n",
      "\n",
      "2017-05-19T04:27:00 193.14504062770362  -4.013928013295934\n",
      "\n",
      "Offset from last pointing:  0d00m15.2082s\n",
      "\n",
      "2017-05-19T06:03:40 193.14104404516723  -4.012530915286263\n",
      "\n",
      "Offset from last pointing:  0d00m15.1769s\n",
      "\n",
      "2017-05-19T07:40:30 193.13705536199063  -4.011137571058174\n",
      "\n",
      "Offset from last pointing:  0d00m15.1196s\n",
      "\n",
      "2017-05-19T09:17:10 193.13308143849537  -4.009750375597025\n",
      "\n",
      "Offset from last pointing:  0d00m15.0754s\n",
      "\n",
      "2017-05-19T10:53:50 193.1291188262183  -4.008368122896475\n",
      "\n",
      "Offset from last pointing:  0d00m15.0313s\n",
      "\n",
      "2017-05-19T12:30:30 193.125167520687  -4.006990811029064\n",
      "\n",
      "Offset from last pointing:  0d00m15s\n",
      "\n",
      "2017-05-19T14:07:10 193.12122413027384  -4.005617259313088\n",
      "\n",
      "Offset from last pointing:  0d00m14.9428s\n",
      "\n",
      "2017-05-19T15:43:50 193.11729545266058  -4.004249836324472\n",
      "\n",
      "Offset from last pointing:  0d00m14.8986s\n",
      "\n",
      "2017-05-19T17:20:30 193.11337809614838  -4.002887361613824\n",
      "\n",
      "Offset from last pointing:  0d00m14.8543s\n",
      "\n",
      "2017-05-19T18:57:10 193.10947207497958  -4.001529841949188\n",
      "\n",
      "Offset from last pointing:  0d00m14.81s\n",
      "\n",
      "2017-05-19T20:33:50 193.10557740781414  -4.000177285989696\n",
      "\n",
      "Offset from last pointing:  0d00m14.7782s\n",
      "\n",
      "2017-05-19T22:10:40 193.10169077418385  -3.9988285443169795\n",
      "\n",
      "Offset from last pointing:  0d00m14.7209s\n",
      "\n",
      "2017-05-19T23:47:20 193.0978188946138  -3.9974859516019063\n",
      "\n",
      "Offset from last pointing:  0d00m14.6763s\n",
      "\n",
      "2017-05-20T01:24:00 193.09395844355132  -3.996148355836566\n",
      "\n",
      "Offset from last pointing:  0d00m14.6441s\n",
      "\n",
      "2017-05-20T03:00:40 193.09010613584374  -3.9948146224307406\n",
      "\n",
      "Offset from last pointing:  0d00m14.5866s\n",
      "\n",
      "2017-05-20T04:37:20 193.08626863543864  -3.9934870606081305\n",
      "\n",
      "Offset from last pointing:  0d00m14.5416s\n",
      "\n",
      "2017-05-20T06:14:00 193.08244264586028  -3.99216453029169\n",
      "\n",
      "Offset from last pointing:  0d00m14.4966s\n",
      "\n",
      "2017-05-20T07:50:40 193.07862819146615  -3.9908470411153076\n",
      "\n",
      "Offset from last pointing:  0d00m14.4514s\n",
      "\n",
      "2017-05-20T09:27:20 193.07482529358586  -3.9895346011489248\n",
      "\n",
      "Offset from last pointing:  0d00m14.4186s\n",
      "\n",
      "2017-05-20T11:04:10 193.0710307065431  -3.98822609178368\n",
      "176820.0\n"
     ]
    }
   ],
   "source": [
    "dt = 0.\n",
    "\n",
    "# Using JPL Horizons web interface at 2017-05-19T01:34:40\n",
    "horizon_ephem = SkyCoord(*[193.1535, -4.01689]*u.deg)\n",
    "\n",
    "f = open('jupiter_20170517to20170520_pointing.txt', 'w')\n",
    "last_ephem = None\n",
    "for orbit in orbits:\n",
    "    tstart = orbit[0]\n",
    "    tend = orbit[1]\n",
    "    print()\n",
    "    on_time = (tend - tstart).total_seconds()\n",
    "    \n",
    "    point_time = tstart + 0.5*(tend - tstart)\n",
    "    \n",
    "    astro_time = Time(point_time)\n",
    "    solar_system_ephemeris.set('jpl')\n",
    "\n",
    "\n",
    "    jupiter = get_body('Jupiter', astro_time)\n",
    "    \n",
    "    jplephem = SkyCoord(jupiter.ra.deg*u.deg, jupiter.dec.deg*u.deg)\n",
    "    \n",
    "    # Switch to the built in ephemris\n",
    "    solar_system_ephemeris.set('builtin')\n",
    "    jupiter = get_body('Jupiter', astro_time)\n",
    "    \n",
    "    builtin_ephem = SkyCoord(jupiter.ra.deg*u.deg, jupiter.dec.deg*u.deg)\n",
    "    \n",
    "    t = ts.from_astropy(astro_time)\n",
    "    jupiter, earth = planets['jupiter'], planets['earth']\n",
    "    astrometric = earth.at(t).observe(jupiter)\n",
    "    ra, dec, distance = astrometric.radec()\n",
    "    radeg = ra.to(u.deg)\n",
    "    decdeg = dec.to(u.deg)\n",
    "    skyfield_ephem = SkyCoord(radeg, decdeg)\n",
    "    \n",
    "    if last_ephem is not None:\n",
    "        print('Offset from last pointing: ', skyfield_ephem.separation(last_ephem))\n",
    "    last_ephem=skyfield_ephem\n",
    "    \n",
    "    dt += on_time\n",
    "\n",
    "    print()\n",
    "    print(tstart.isoformat()+' {}  {}'.format(radeg.value, decdeg.value))\n",
    "    f.write(tstart.isoformat()+' {}  {}'.format(radeg.value, decdeg.value)+'\\n')\n",
    "    \n",
    "f.close()\n",
    "    \n",
    "print(dt)"
   ]
  },
  {
   "cell_type": "code",
   "execution_count": 12,
   "metadata": {
    "collapsed": false
   },
   "outputs": [
    {
     "data": {
      "text/plain": [
       "{0: ['SOLAR_SYSTEM_BARYCENTER', 'SSB', 'SOLAR SYSTEM BARYCENTER'],\n",
       " 3: ['EARTH_BARYCENTER',\n",
       "  'EMB',\n",
       "  'EARTH MOON BARYCENTER',\n",
       "  'EARTH-MOON BARYCENTER',\n",
       "  'EARTH BARYCENTER'],\n",
       " 5: ['JUPITER_BARYCENTER', 'JUPITER BARYCENTER'],\n",
       " 10: ['SUN'],\n",
       " 399: ['EARTH'],\n",
       " 501: ['IO'],\n",
       " 502: ['EUROPA'],\n",
       " 503: ['GANYMEDE'],\n",
       " 504: ['CALLISTO'],\n",
       " 505: ['AMALTHEA'],\n",
       " 514: ['THEBE'],\n",
       " 515: ['ADRASTEA'],\n",
       " 516: ['METIS'],\n",
       " 599: ['JUPITER']}"
      ]
     },
     "execution_count": 12,
     "metadata": {},
     "output_type": "execute_result"
    }
   ],
   "source": [
    "planets.names()"
   ]
  },
  {
   "cell_type": "code",
   "execution_count": null,
   "metadata": {
    "collapsed": true
   },
   "outputs": [],
   "source": []
  }
 ],
 "metadata": {
  "anaconda-cloud": {},
  "kernelspec": {
   "display_name": "Python [default]",
   "language": "python",
   "name": "python3"
  },
  "language_info": {
   "codemirror_mode": {
    "name": "ipython",
    "version": 3
   },
   "file_extension": ".py",
   "mimetype": "text/x-python",
   "name": "python",
   "nbconvert_exporter": "python",
   "pygments_lexer": "ipython3",
   "version": "3.5.2"
  }
 },
 "nbformat": 4,
 "nbformat_minor": 2
}
