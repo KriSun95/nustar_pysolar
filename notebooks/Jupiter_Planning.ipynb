{
 "cells": [
  {
   "cell_type": "code",
   "execution_count": 1,
   "metadata": {
    "collapsed": false
   },
   "outputs": [
    {
     "name": "stderr",
     "output_type": "stream",
     "text": [
      "WARNING: AstropyDeprecationWarning: astropy.utils.compat.odict.OrderedDict is now deprecated - import OrderedDict from the collections module instead [astropy.utils.compat.odict]\n"
     ]
    }
   ],
   "source": [
    "from nustar_pysolar import planning\n",
    "from nustar_pysolar.planning import _parse_timestamp as parse_timestamp\n",
    "import astropy.units as u\n",
    "from astropy.time import Time\n",
    "from astropy.coordinates import get_body, solar_system_ephemeris, get_body_barycentric, SkyCoord\n",
    "from datetime import datetime"
   ]
  },
  {
   "cell_type": "code",
   "execution_count": 2,
   "metadata": {
    "collapsed": false
   },
   "outputs": [
    {
     "name": "stdout",
     "output_type": "stream",
     "text": [
      "../data/NUSTAR.2017_121.SHADOW_ANALYSIS.txt\n"
     ]
    }
   ],
   "source": [
    "fname = planning.download_occultation_times(outdir='../data/')\n",
    "print(fname)"
   ]
  },
  {
   "cell_type": "code",
   "execution_count": 3,
   "metadata": {
    "collapsed": false
   },
   "outputs": [
    {
     "data": {
      "text/plain": [
       "<ScienceState solar_system_ephemeris: 'jpl'>"
      ]
     },
     "execution_count": 3,
     "metadata": {},
     "output_type": "execute_result"
    }
   ],
   "source": [
    "tstart = '2017-05-19T01:43:00'\n",
    "tend = '2017-05-19T11:43:00'\n",
    "\n",
    "tstamp = '2017:137:09:15:00'\n",
    "tstart = datetime.strptime(tstamp, '%Y:%j:%H:%M:%S')                \n",
    "tstamp = '2017:140:13:05:00'\n",
    "tend = datetime.strptime(tstamp, '%Y:%j:%H:%M:%S')                \n",
    "\n",
    "orbits = planning.sunlight_periods(fname, tstart, tend)\n",
    "solar_system_ephemeris.set('jpl')\n",
    "\n"
   ]
  },
  {
   "cell_type": "code",
   "execution_count": 4,
   "metadata": {
    "collapsed": true
   },
   "outputs": [],
   "source": [
    "from skyfield.api import load\n",
    "ts = load.timescale()\n",
    "planets = load('jup310.bsp')\n"
   ]
  },
  {
   "cell_type": "markdown",
   "metadata": {},
   "source": [
    "# Use the astropy interface to get the location of Juptier as the time that you want to use."
   ]
  },
  {
   "cell_type": "code",
   "execution_count": 14,
   "metadata": {
    "collapsed": false,
    "scrolled": false
   },
   "outputs": [
    {
     "name": "stdout",
     "output_type": "stream",
     "text": [
      "\n",
      "\n",
      "2017-05-17T08:46:20 193.25770369661515  -4.053693804129604\n",
      "\n",
      "\n",
      "2017-05-17T10:23:00 193.2534024955027  -4.052163126939793\n",
      "\n",
      "\n",
      "2017-05-17T11:59:40 193.24911237063824  -4.050637312138953\n",
      "\n",
      "\n",
      "2017-05-17T13:36:20 193.244833315825  -4.049116356382934\n",
      "\n",
      "\n",
      "2017-05-17T15:13:00 193.24056165219164  -4.0475989525196185\n",
      "\n",
      "\n",
      "2017-05-17T16:49:40 193.23630473682803  -4.046087713741976\n",
      "\n",
      "\n",
      "2017-05-17T18:26:30 193.23205523224345  -4.044580035456602\n",
      "\n",
      "\n",
      "2017-05-17T20:03:10 193.2278204651818  -4.0430785179108915\n",
      "\n",
      "\n",
      "2017-05-17T21:39:50 193.22359678142345  -4.041581865504474\n",
      "\n",
      "\n",
      "2017-05-17T23:16:30 193.21938419618672  -4.0400900853296\n",
      "\n",
      "\n",
      "2017-05-18T00:53:10 193.215182729002  -4.038603186339905\n",
      "\n",
      "\n",
      "2017-05-18T02:29:50 193.21099240304756  -4.037121179004338\n",
      "\n",
      "\n",
      "2017-05-18T04:06:30 193.20680964675793  -4.0356428037695435\n",
      "\n",
      "\n",
      "2017-05-18T05:43:10 193.20264169391663  -4.034170619741318\n",
      "\n",
      "\n",
      "2017-05-18T07:19:50 193.19848496653748  -4.03270336410748\n",
      "\n",
      "\n",
      "2017-05-18T08:56:30 193.19433949433235  -4.031241049335848\n",
      "\n",
      "\n",
      "2017-05-18T10:33:10 193.19020530591195  -4.029783687140612\n",
      "\n",
      "\n",
      "2017-05-18T12:10:00 193.1860788787841  -4.028330038240121\n",
      "\n",
      "\n",
      "2017-05-18T13:46:40 193.1819673451895  -4.026882615842131\n",
      "\n",
      "\n",
      "2017-05-18T15:23:20 193.17786716623976  -4.0254401729752525\n",
      "\n",
      "\n",
      "2017-05-18T17:00:00 193.173774837933  -4.024001477773428\n",
      "\n",
      "\n",
      "2017-05-18T18:36:40 193.1696974210014  -4.022569011507971\n",
      "\n",
      "\n",
      "2017-05-18T20:13:20 193.165631392016  -4.021141533571235\n",
      "\n",
      "\n",
      "2017-05-18T21:50:00 193.1615767522436  -4.019719042470539\n",
      "\n",
      "\n",
      "2017-05-18T23:26:40 193.15753349871568  -4.018301534904239\n",
      "\n",
      "\n",
      "2017-05-19T01:03:20 193.15350162430246  -4.01688900587951\n",
      "\n",
      "\n",
      "2017-05-19T02:40:00 193.14948111901072  -4.015481449323484\n",
      "\n",
      "\n",
      "2017-05-19T04:16:50 193.14546506818243  -4.014076444492658\n",
      "\n",
      "\n",
      "2017-05-19T05:53:30 193.14146728347507  -4.012678821035356\n",
      "\n",
      "\n",
      "2017-05-19T07:30:10 193.13748083018535  -4.01128615002329\n",
      "\n",
      "\n",
      "2017-05-19T09:06:50 193.1335056971738  -4.0098984260195145\n",
      "\n",
      "\n",
      "2017-05-19T10:43:30 193.1295418760452  -4.008515645079885\n",
      "\n",
      "\n",
      "2017-05-19T12:20:10 193.12558936197158  -4.00713780509363\n",
      "\n",
      "\n",
      "2017-05-19T13:56:50 193.12164815438422  -4.0057649060394915\n",
      "\n",
      "\n",
      "2017-05-19T15:33:30 193.11771825751833  -4.004396950165541\n",
      "\n",
      "\n",
      "2017-05-19T17:10:10 193.11379630723775  -4.00303276906585\n",
      "\n",
      "\n",
      "2017-05-19T18:46:50 193.10988907353163  -4.0016747193367985\n",
      "\n",
      "\n",
      "2017-05-19T20:23:40 193.1059898380841  -4.000320468019414\n",
      "\n",
      "\n",
      "2017-05-19T22:00:20 193.1021053397818  -3.9989723579921717\n",
      "\n",
      "\n",
      "2017-05-19T23:37:00 193.09823224012226  -3.9976292318092725\n",
      "\n",
      "\n",
      "2017-05-20T01:13:40 193.09437056609121  -3.9962911013237257\n",
      "\n",
      "\n",
      "2017-05-20T02:50:20 193.09052034551524  -3.9949579785195084\n",
      "\n",
      "\n",
      "2017-05-20T04:27:00 193.08668160626692  -3.993629875136006\n",
      "\n",
      "\n",
      "2017-05-20T06:03:40 193.08285108072192  -3.9923056637377137\n",
      "\n",
      "\n",
      "2017-05-20T07:40:20 193.0790353922074  -3.990987635277541\n",
      "\n",
      "\n",
      "2017-05-20T09:17:00 193.0752312580543  -3.989674655232469\n",
      "\n",
      "\n",
      "2017-05-20T10:53:50 193.07143543195428  -3.9883656047406406\n",
      "176640.0\n"
     ]
    }
   ],
   "source": [
    "dt = 0.\n",
    "\n",
    "# Using JPL Horizons web interface at 2017-05-19T01:34:40\n",
    "horizon_ephem = SkyCoord(*[193.1535, -4.01689]*u.deg)\n",
    "\n",
    "f = open('jupiter_20170517to20170520_pointing.txt', 'w')\n",
    "for orbit in orbits:\n",
    "    tstart = orbit[0]\n",
    "    tend = orbit[1]\n",
    "    print()\n",
    "#    print('Orbit duration: ', tstart.isoformat(), tend.isoformat())\n",
    "    on_time = (tend - tstart).total_seconds()\n",
    "    \n",
    "    point_time = tstart + 0.5*(tend - tstart)\n",
    "#    print('Time used for ephemeris: ', point_time.isoformat())\n",
    "    \n",
    "    astro_time = Time(point_time)\n",
    "    solar_system_ephemeris.set('jpl')\n",
    "\n",
    "\n",
    "    jupiter = get_body('Jupiter', astro_time)\n",
    "    \n",
    "    jplephem = SkyCoord(jupiter.ra.deg*u.deg, jupiter.dec.deg*u.deg)\n",
    "    \n",
    "    # Switch to the built in ephemris\n",
    "    solar_system_ephemeris.set('builtin')\n",
    "    jupiter = get_body('Jupiter', astro_time)\n",
    "    \n",
    "    builtin_ephem = SkyCoord(jupiter.ra.deg*u.deg, jupiter.dec.deg*u.deg)\n",
    "    \n",
    "    t = ts.from_astropy(astro_time)\n",
    "    jupiter, earth = planets['jupiter'], planets['earth']\n",
    "    astrometric = earth.at(t).observe(jupiter)\n",
    "    ra, dec, distance = astrometric.radec()\n",
    "    radeg = ra.to(u.deg)\n",
    "    decdeg = dec.to(u.deg)\n",
    "    skyfield_ephem = SkyCoord(radeg, decdeg)\n",
    "    \n",
    "    dt += on_time\n",
    "#     print()\n",
    "#     print('Horizons offset to jplephem: ', horizon_ephem.separation(jplephem))\n",
    "#     print()\n",
    "#     print('Horizons offset to \"built in\" ephemeris: ', horizon_ephem.separation(builtin_ephem))\n",
    "#     print()\n",
    "#     print('Horizons offset to Skyfield ephemeris: ', horizon_ephem.separation(skyfield_ephem))\n",
    "\n",
    "    print()\n",
    "#    print('Orbit start:  RA  Dec '.format(radeg, decdeg))\n",
    "\n",
    "    print(tstart.isoformat()+' {}  {}'.format(radeg.value, decdeg.value))\n",
    "    f.write(tstart.isoformat()+' {}  {}'.format(radeg.value, decdeg.value)+'\\n')\n",
    "    \n",
    "f.close()\n",
    "#    break\n",
    "    \n",
    "print(dt)"
   ]
  }
 ],
 "metadata": {
  "anaconda-cloud": {},
  "kernelspec": {
   "display_name": "Python [default]",
   "language": "python",
   "name": "python3"
  },
  "language_info": {
   "codemirror_mode": {
    "name": "ipython",
    "version": 3
   },
   "file_extension": ".py",
   "mimetype": "text/x-python",
   "name": "python",
   "nbconvert_exporter": "python",
   "pygments_lexer": "ipython3",
   "version": "3.5.2"
  }
 },
 "nbformat": 4,
 "nbformat_minor": 2
}
