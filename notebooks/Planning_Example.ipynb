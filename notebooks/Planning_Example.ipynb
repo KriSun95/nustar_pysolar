{
 "cells": [
  {
   "cell_type": "code",
   "execution_count": 1,
   "metadata": {
    "collapsed": false
   },
   "outputs": [
    {
     "name": "stderr",
     "output_type": "stream",
     "text": [
      "WARNING: AstropyDeprecationWarning: astropy.utils.compat.odict.OrderedDict is now deprecated - import OrderedDict from the collections module instead [astropy.utils.compat.odict]\n"
     ]
    }
   ],
   "source": [
    "from nustar_pysolar import planning\n",
    "import astropy.units as u"
   ]
  },
  {
   "cell_type": "code",
   "execution_count": 2,
   "metadata": {
    "collapsed": false
   },
   "outputs": [
    {
     "name": "stdout",
     "output_type": "stream",
     "text": [
<<<<<<< HEAD
      "../data/NUSTAR.2017_120.SHADOW_ANALYSIS.txt\n"
=======
      "../data/NUSTAR.2017_078.SHADOW_ANALYSIS.txt\n"
>>>>>>> 5b55f67d237ef5f4151c782b644ed5035d87a6f4
     ]
    }
   ],
   "source": [
    "fname = planning.download_occultation_times(outdir='../data/')\n",
    "print(fname)"
   ]
  },
  {
   "cell_type": "code",
   "execution_count": 3,
   "metadata": {
    "collapsed": false
   },
   "outputs": [
    {
     "name": "stdout",
     "output_type": "stream",
     "text": [
      "NuSTAR Roll angle for Det0 in NE quadrant: 334.6731517637868 deg\n"
     ]
    }
   ],
   "source": [
    "tstart = '2017-03-21T12:00:00'\n",
    "tend = '2017-03-21T20:00:00'\n",
    "orbits = planning.sunlight_periods(fname, tstart, tend)\n",
    "pa = planning.get_nustar_roll(tstart, 0)\n",
    "print(\"NuSTAR Roll angle for Det0 in NE quadrant: {}\".format(pa))"
   ]
  },
  {
   "cell_type": "markdown",
   "metadata": {},
   "source": [
    "# Set up the offset you want to use here:\n",
    "\n",
    "The first element is the directory +West of the center of the Sun, the second is the offset +NORTH of the center of the Sun. If you want multiple pointing locations you can either specify an array of offsets or do this \"by hand\" below."
   ]
  },
  {
   "cell_type": "code",
<<<<<<< HEAD
   "execution_count": 5,
=======
   "execution_count": 6,
>>>>>>> 5b55f67d237ef5f4151c782b644ed5035d87a6f4
   "metadata": {
    "collapsed": false
   },
   "outputs": [],
   "source": [
    "offset = [-190., -47.]*u.arcsec"
   ]
  },
  {
   "cell_type": "code",
<<<<<<< HEAD
   "execution_count": 6,
=======
   "execution_count": 8,
>>>>>>> 5b55f67d237ef5f4151c782b644ed5035d87a6f4
   "metadata": {
    "collapsed": false
   },
   "outputs": [
    {
     "name": "stdout",
     "output_type": "stream",
     "text": [
      "Orbit: 0\n",
<<<<<<< HEAD
      "Orbit start: 2017-03-21T11:58:20 Orbit end: 2017-03-21T12:59:40\n",
      "Aim time: 2017-03-21T12:29:00 RA (deg): 0.7652977668552187 deg Dec (deg): 0.33449200033044074 deg\n",
      "\n",
      "Orbit: 1\n",
      "Orbit start: 2017-03-21T13:35:00 Orbit end: 2017-03-21T14:36:20\n",
      "Aim time: 2017-03-21T14:05:40 RA (deg): 0.8264595394919657 deg Dec (deg): 0.3610003398707718 deg\n",
      "\n",
      "Orbit: 2\n",
      "Orbit start: 2017-03-21T15:11:40 Orbit end: 2017-03-21T16:13:00\n",
      "Aim time: 2017-03-21T15:42:20 RA (deg): 0.8876196709481257 deg Dec (deg): 0.3875073748782843 deg\n",
      "\n",
      "Orbit: 3\n",
      "Orbit start: 2017-03-21T16:48:20 Orbit end: 2017-03-21T17:49:40\n",
      "Aim time: 2017-03-21T17:19:00 RA (deg): 0.9487781865088669 deg Dec (deg): 0.41401307512990226 deg\n",
      "\n",
      "Orbit: 4\n",
      "Orbit start: 2017-03-21T18:25:00 Orbit end: 2017-03-21T19:26:20\n",
      "Aim time: 2017-03-21T18:55:40 RA (deg): 1.009935111409283 deg Dec (deg): 0.4405174103958643 deg\n",
=======
      "Orbit start: 2017-03-21T12:08:30 Orbit end: 2017-03-21T13:09:50\n",
      "Aim time: 2017-03-21T12:39:10 RA (deg): 0.8287197232894978 deg Dec (deg): 0.34673728798978304 deg\n",
      "\n",
      "Orbit: 1\n",
      "Orbit start: 2017-03-21T13:45:20 Orbit end: 2017-03-21T14:46:30\n",
      "Aim time: 2017-03-21T14:15:55 RA (deg): 0.8899329349562416 deg Dec (deg): 0.3732760096464499 deg\n",
      "\n",
      "Orbit: 2\n",
      "Orbit start: 2017-03-21T15:22:00 Orbit end: 2017-03-21T16:23:10\n",
      "Aim time: 2017-03-21T15:52:35 RA (deg): 0.9510917991787802 deg Dec (deg): 0.399790533248305 deg\n",
      "\n",
      "Orbit: 3\n",
      "Orbit start: 2017-03-21T16:58:40 Orbit end: 2017-03-21T17:59:50\n",
      "Aim time: 2017-03-21T17:29:15 RA (deg): 1.0122490665153834 deg Dec (deg): 0.42630368763811244 deg\n",
      "\n",
      "Orbit: 4\n",
      "Orbit start: 2017-03-21T18:35:20 Orbit end: 2017-03-21T19:36:30\n",
      "Aim time: 2017-03-21T19:05:55 RA (deg): 1.073404762206048 deg Dec (deg): 0.4528154425791796 deg\n",
>>>>>>> 5b55f67d237ef5f4151c782b644ed5035d87a6f4
      "\n"
     ]
    }
   ],
   "source": [
    "\n",
    "for ind, orbit in enumerate(orbits):\n",
    "    midTime = (0.5*(orbit[1] - orbit[0]) + orbit[0])\n",
    "    sky_pos = planning.get_sky_position(midTime, offset)\n",
    "    print(\"Orbit: {}\".format(ind))\n",
    "    print(\"Orbit start: {} Orbit end: {}\".format(orbit[0].isoformat(), orbit[1].isoformat()))\n",
    "    print('Aim time: {} RA (deg): {} Dec (deg): {}'.format(midTime.isoformat(), sky_pos[0], sky_pos[1]))\n",
    "    print(\"\")"
   ]
  },
  {
   "cell_type": "markdown",
   "metadata": {
    "collapsed": true
   },
   "source": [
    "# Sanity check: Reproduce the 2016-07-26 pointing.\n",
    "\n",
    "Based on the IDL version of this code, when the aim time was 2016-07-26 19:53:15.00 the NP was 8.86 degrees and the RA and Dec were 126.04630 and 19.33532 deg, respectively for an offset of +1000 arcseconds West and +150 arcseconds North of the center of the Sun."
   ]
  },
  {
   "cell_type": "code",
   "execution_count": null,
   "metadata": {
    "collapsed": false
   },
   "outputs": [],
   "source": [
    "aim_time = '2016-07-26T19:53:15.00'\n",
    "offset = [1000, 150]*u.arcsec\n",
    "sky_pos = planning.get_sky_position(aim_time, offset)\n",
    "print(sky_pos)"
   ]
  },
  {
   "cell_type": "code",
   "execution_count": null,
   "metadata": {
    "collapsed": false
   },
   "outputs": [],
   "source": [
    "np = planning.get_nustar_roll(aim_time, 0)\n",
    "print(np)"
   ]
  },
  {
   "cell_type": "code",
   "execution_count": null,
   "metadata": {
    "collapsed": true
   },
   "outputs": [],
   "source": []
  }
 ],
 "metadata": {
  "anaconda-cloud": {},
  "kernelspec": {
   "display_name": "Python [default]",
   "language": "python",
   "name": "python3"
  },
  "language_info": {
   "codemirror_mode": {
    "name": "ipython",
    "version": 3
   },
   "file_extension": ".py",
   "mimetype": "text/x-python",
   "name": "python",
   "nbconvert_exporter": "python",
   "pygments_lexer": "ipython3",
   "version": "3.5.1"
  }
 },
 "nbformat": 4,
 "nbformat_minor": 2
}
