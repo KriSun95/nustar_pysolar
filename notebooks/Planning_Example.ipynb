{
 "cells": [
  {
   "cell_type": "code",
   "execution_count": 1,
   "metadata": {
    "collapsed": false
   },
   "outputs": [
    {
     "name": "stderr",
     "output_type": "stream",
     "text": [
      "WARNING: AstropyDeprecationWarning: astropy.utils.compat.odict.OrderedDict is now deprecated - import OrderedDict from the collections module instead [astropy.utils.compat.odict]\n"
     ]
    }
   ],
   "source": [
    "from nustar_pysolar import planning\n",
    "import astropy.units as u"
   ]
  },
  {
   "cell_type": "code",
   "execution_count": 2,
   "metadata": {
    "collapsed": false
   },
   "outputs": [
    {
     "name": "stdout",
     "output_type": "stream",
     "text": [
      "../data/NUSTAR.2017_075.SHADOW_ANALYSIS.txt\n"
     ]
    }
   ],
   "source": [
    "fname = planning.download_occultation_times(outdir='../data/')\n",
    "print(fname)"
   ]
  },
  {
   "cell_type": "code",
   "execution_count": 8,
   "metadata": {
    "collapsed": false
   },
   "outputs": [
    {
     "name": "stdout",
     "output_type": "stream",
     "text": [
      "NuSTAR Roll angle for Det0 in NE quadrant: 334.6683600695206 deg\n"
     ]
    }
   ],
   "source": [
    "tstart = '2017-03-21T13:00:00'\n",
    "tend = '2017-03-21T20:00:00'\n",
    "orbits = planning.sunlight_periods(fname, tstart, tend)\n",
    "pa = planning.get_nustar_roll(tstart, 0)\n",
    "print(\"NuSTAR Roll angle for Det0 in NE quadrant: {}\".format(pa))"
   ]
  },
  {
   "cell_type": "code",
   "execution_count": 14,
   "metadata": {
    "collapsed": false
   },
   "outputs": [
    {
     "name": "stdout",
     "output_type": "stream",
     "text": [
      "Orbit: 0\n",
      "Orbit start: 2017-03-21T13:35:00 Orbit end: 2017-03-21T14:36:20\n",
      "Aim time: 2017-03-21T14:05:40 RA (deg): 0.8264595394919657 deg Dec (deg): 0.3610003398707718 deg\n",
      "\n",
      "Orbit: 1\n",
      "Orbit start: 2017-03-21T15:11:40 Orbit end: 2017-03-21T16:13:00\n",
      "Aim time: 2017-03-21T15:42:20 RA (deg): 0.8876196709481257 deg Dec (deg): 0.3875073748782843 deg\n",
      "\n",
      "Orbit: 2\n",
      "Orbit start: 2017-03-21T16:48:20 Orbit end: 2017-03-21T17:49:40\n",
      "Aim time: 2017-03-21T17:19:00 RA (deg): 0.9487781865088669 deg Dec (deg): 0.41401307512990226 deg\n",
      "\n",
      "Orbit: 3\n",
      "Orbit start: 2017-03-21T18:25:00 Orbit end: 2017-03-21T19:26:20\n",
      "Aim time: 2017-03-21T18:55:40 RA (deg): 1.009935111409283 deg Dec (deg): 0.4405174103958643 deg\n",
      "\n"
     ]
    }
   ],
   "source": [
    "offset = [10., 10.]*u.arcsec\n",
    "\n",
    "for ind, orbit in enumerate(orbits):\n",
    "    midTime = (0.5*(orbit[1] - orbit[0]) + orbit[0])\n",
    "    sky_pos = planning.get_sky_position(midTime, offset)\n",
    "    print(\"Orbit: {}\".format(ind))\n",
    "    print(\"Orbit start: {} Orbit end: {}\".format(orbit[0].isoformat(), orbit[1].isoformat()))\n",
    "    print('Aim time: {} RA (deg): {} Dec (deg): {}'.format(midTime.isoformat(), sky_pos[0], sky_pos[1]))\n",
    "    print(\"\")"
   ]
  },
  {
   "cell_type": "code",
   "execution_count": null,
   "metadata": {
    "collapsed": true
   },
   "outputs": [],
   "source": []
  }
 ],
 "metadata": {
  "anaconda-cloud": {},
  "kernelspec": {
   "display_name": "Python [default]",
   "language": "python",
   "name": "python3"
  },
  "language_info": {
   "codemirror_mode": {
    "name": "ipython",
    "version": 3
   },
   "file_extension": ".py",
   "mimetype": "text/x-python",
   "name": "python",
   "nbconvert_exporter": "python",
   "pygments_lexer": "ipython3",
   "version": "3.5.2"
  }
 },
 "nbformat": 4,
 "nbformat_minor": 2
}
