{
 "cells": [
  {
   "cell_type": "code",
   "execution_count": 34,
   "metadata": {},
   "outputs": [],
   "source": [
    "from nustar_pysolar import planning, io\n",
    "import astropy.units as u\n",
    "from astropy.coordinates import SkyCoord\n",
    "import warnings\n",
    "warnings.filterwarnings('ignore')"
   ]
  },
  {
   "cell_type": "markdown",
   "metadata": {},
   "source": [
    "# Download the list of occultation periods from the MOC at Berkeley.\n",
    "\n",
    "## Note that the occultation periods typically only are stored at Berkeley for the *future* and not for the past. So this is only really useful for observation planning."
   ]
  },
  {
   "cell_type": "code",
   "execution_count": 25,
   "metadata": {},
   "outputs": [
    {
     "name": "stdout",
     "output_type": "stream",
     "text": [
      "../data/NUSTAR.2021_003.SHADOW_ANALYSIS.txt\n"
     ]
    }
   ],
   "source": [
    "fname = io.download_occultation_times(outdir='../data/')\n",
    "print(fname)"
   ]
  },
  {
   "cell_type": "markdown",
   "metadata": {},
   "source": [
    "# Download the NuSTAR TLE archive.\n",
    "\n",
    "This contains every two-line element (TLE) that we've received for the whole mission. We'll expand on how to use this later.\n",
    "\n",
    "The `times`, `line1`, and `line2` elements are now the TLE elements for each epoch."
   ]
  },
  {
   "cell_type": "code",
   "execution_count": 26,
   "metadata": {},
   "outputs": [
    {
     "name": "stdout",
     "output_type": "stream",
     "text": [
      "../data/NuSTAR.tle\n"
     ]
    }
   ],
   "source": [
    "tlefile = io.download_tle(outdir='../data')\n",
    "print(tlefile)\n",
    "times, line1, line2 = io.read_tle_file(tlefile)"
   ]
  },
  {
   "cell_type": "markdown",
   "metadata": {},
   "source": [
    "# Here is where we define the observing window that we want to use.\n",
    "\n",
    "Note that tstart and tend must be in the future otherwise you won't find any occultation times and sunlight_periods will return an error."
   ]
  },
  {
   "cell_type": "code",
   "execution_count": 27,
   "metadata": {},
   "outputs": [],
   "source": [
    "tstart = '2021-01-08T10:00:00'\n",
    "tend = '2021-01-08T17:00:00'\n",
    "orbits = planning.sunlight_periods(fname, tstart, tend)"
   ]
  },
  {
   "cell_type": "code",
   "execution_count": 28,
   "metadata": {},
   "outputs": [
    {
     "data": {
      "text/plain": [
       "[[<Time object: scale='utc' format='isot' value=2021-01-08T10:11:50.000>,\n",
       "  <Time object: scale='utc' format='isot' value=2021-01-08T11:14:50.000>],\n",
       " [<Time object: scale='utc' format='isot' value=2021-01-08T11:48:30.000>,\n",
       "  <Time object: scale='utc' format='isot' value=2021-01-08T12:51:30.000>],\n",
       " [<Time object: scale='utc' format='isot' value=2021-01-08T13:25:10.000>,\n",
       "  <Time object: scale='utc' format='isot' value=2021-01-08T14:28:10.000>],\n",
       " [<Time object: scale='utc' format='isot' value=2021-01-08T15:01:50.000>,\n",
       "  <Time object: scale='utc' format='isot' value=2021-01-08T16:04:50.000>]]"
      ]
     },
     "execution_count": 28,
     "metadata": {},
     "output_type": "execute_result"
    }
   ],
   "source": [
    "orbits"
   ]
  },
  {
   "cell_type": "code",
   "execution_count": 29,
   "metadata": {},
   "outputs": [
    {
     "name": "stdout",
     "output_type": "stream",
     "text": [
      "975.5517028497218\n"
     ]
    }
   ],
   "source": [
    "# Get the solar parameter\n",
    "from sunpy.coordinates import sun\n",
    "\n",
    "angular_size = sun.angular_radius(t='now')\n",
    "dx = angular_size.arcsec\n",
    "print(dx)"
   ]
  },
  {
   "cell_type": "code",
   "execution_count": 30,
   "metadata": {},
   "outputs": [
    {
     "name": "stdout",
     "output_type": "stream",
     "text": [
      "2021-01-08T10:00:00\n",
      "NuSTAR Roll angle for Det0 in NE quadrant: 358.371623346487 deg\n"
     ]
    }
   ],
   "source": [
    "pa = planning.get_nustar_roll(tstart, 0)\n",
    "print(tstart)\n",
    "print(\"NuSTAR Roll angle for Det0 in NE quadrant: {}\".format(pa))"
   ]
  },
  {
   "cell_type": "code",
   "execution_count": 48,
   "metadata": {},
   "outputs": [
    {
     "name": "stdout",
     "output_type": "stream",
     "text": [
      "Orbit: 1\n",
      "Solar offset: [ 700. -300.] arcsec\n",
      "Orbit start: 2021-01-08 10:11:50.000 Orbit end: 2021-01-08 11:14:50.000\n",
      "Aim time: 2021-01-08 10:43:20.000 RA (deg): 289.3855 deg Dec (deg): -22.3051 deg\n",
      "\n",
      "Orbit: 2\n",
      "Solar offset: [-800.  150.] arcsec\n",
      "Orbit start: 2021-01-08 11:48:30.000 Orbit end: 2021-01-08 12:51:30.000\n",
      "Aim time: 2021-01-08 12:20:00.000 RA (deg): 289.9047 deg Dec (deg): -22.1589 deg\n",
      "\n",
      "Orbit: 3\n",
      "Solar offset: [-800.  150.] arcsec\n",
      "Orbit start: 2021-01-08 13:25:10.000 Orbit end: 2021-01-08 14:28:10.000\n",
      "Aim time: 2021-01-08 13:56:40.000 RA (deg): 289.9779 deg Dec (deg): -22.1496 deg\n",
      "\n",
      "Orbit: 4\n",
      "Solar offset: [-800.  150.] arcsec\n",
      "Orbit start: 2021-01-08 15:01:50.000 Orbit end: 2021-01-08 16:04:50.000\n",
      "Aim time: 2021-01-08 15:33:20.000 RA (deg): 290.0511 deg Dec (deg): -22.1403 deg\n",
      "\n"
     ]
    }
   ],
   "source": [
    "# Orbit 1 (West limb)\n",
    "offset = [700., -300.]*u.arcsec\n",
    "\n",
    "ind = 1\n",
    "orbit = orbits[0]\n",
    "midTime = (0.5*(orbit[1] - orbit[0]) + orbit[0])\n",
    "sky_pos = planning.get_skyfield_position(midTime, offset, load_path='./data', parallax_correction=True)\n",
    "print(\"Orbit: {}\".format(ind))\n",
    "print(f\"Solar offset: {offset}\")\n",
    "print(\"Orbit start: {} Orbit end: {}\".format(orbit[0].iso, orbit[1].iso))\n",
    "print(f'Aim time: {midTime.iso} RA (deg): {sky_pos[0]:8.4f} Dec (deg): {sky_pos[1]:8.4f}')\n",
    "print(\"\")\n",
    "\n",
    "\n",
    "# Orbit 2 (East Limb)\n",
    "offset = [-800., 150.]*u.arcsec\n",
    "for oi in [1, 2, 3]:\n",
    "    ind = oi+1\n",
    "\n",
    "    orbit = orbits[oi]\n",
    "    midTime = (0.5*(orbit[1] - orbit[0]) + orbit[0])\n",
    "    sky_pos = planning.get_skyfield_position(midTime, offset, load_path='./data', parallax_correction=True)\n",
    "    print(\"Orbit: {}\".format(ind))\n",
    "    print(f\"Solar offset: {offset}\")\n",
    "    print(\"Orbit start: {} Orbit end: {}\".format(orbit[0].iso, orbit[1].iso))\n",
    "    print(f'Aim time: {midTime.iso} RA (deg): {sky_pos[0]:8.4f} Dec (deg): {sky_pos[1]:8.4f}')\n",
    "    print(\"\")\n",
    "\n",
    "\n"
   ]
  },
  {
   "cell_type": "code",
   "execution_count": 47,
   "metadata": {},
   "outputs": [
    {
     "data": {
      "text/latex": [
       "$0^\\circ00{}^\\prime20.9707{}^{\\prime\\prime}$"
      ],
      "text/plain": [
       "<Angle 0.00582518 deg>"
      ]
     },
     "execution_count": 47,
     "metadata": {},
     "output_type": "execute_result"
    }
   ],
   "source": [
    "test1 = SkyCoord(289.3792274160115,  -22.304595055979675, unit = 'deg')\n",
    "orb1 = SkyCoord(289.3855, -22.3051, unit = 'deg')\n",
    "orb1.separation(test1)"
   ]
  },
  {
   "cell_type": "code",
   "execution_count": 46,
   "metadata": {},
   "outputs": [
    {
     "data": {
      "text/latex": [
       "$0^\\circ00{}^\\prime20.9707{}^{\\prime\\prime}$"
      ],
      "text/plain": [
       "<Angle 0.00582518 deg>"
      ]
     },
     "execution_count": 46,
     "metadata": {},
     "output_type": "execute_result"
    }
   ],
   "source": []
  },
  {
   "cell_type": "code",
   "execution_count": 38,
   "metadata": {},
   "outputs": [],
   "source": [
    "import sunpy"
   ]
  },
  {
   "cell_type": "code",
   "execution_count": 39,
   "metadata": {},
   "outputs": [
    {
     "data": {
      "text/plain": [
       "'2.0.1'"
      ]
     },
     "execution_count": 39,
     "metadata": {},
     "output_type": "execute_result"
    }
   ],
   "source": [
    "sunpy.__version__"
   ]
  },
  {
   "cell_type": "code",
   "execution_count": 49,
   "metadata": {},
   "outputs": [
    {
     "data": {
      "text/latex": [
       "$0^\\circ00{}^\\prime20.9007{}^{\\prime\\prime}$"
      ],
      "text/plain": [
       "<Angle 0.00580576 deg>"
      ]
     },
     "execution_count": 49,
     "metadata": {},
     "output_type": "execute_result"
    }
   ],
   "source": [
    "test1 = SkyCoord(289.898451566591, -22.158432904027155 , unit = 'deg')\n",
    "orb1 = SkyCoord(289.9047,  -22.1589, unit = 'deg')\n",
    "orb1.separation(test1)"
   ]
  },
  {
   "cell_type": "code",
   "execution_count": null,
   "metadata": {},
   "outputs": [],
   "source": []
  }
 ],
 "metadata": {
  "anaconda-cloud": {},
  "kernelspec": {
   "display_name": "Python 3",
   "language": "python",
   "name": "python3"
  },
  "language_info": {
   "codemirror_mode": {
    "name": "ipython",
    "version": 3
   },
   "file_extension": ".py",
   "mimetype": "text/x-python",
   "name": "python",
   "nbconvert_exporter": "python",
   "pygments_lexer": "ipython3",
   "version": "3.7.8"
  }
 },
 "nbformat": 4,
 "nbformat_minor": 4
}
