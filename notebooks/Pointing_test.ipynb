{
 "cells": [
  {
   "cell_type": "code",
   "execution_count": 5,
   "metadata": {
    "collapsed": false,
    "jupyter": {
     "outputs_hidden": false
    }
   },
   "outputs": [],
   "source": [
    "from nustar_pysolar import planning, io\n",
    "import astropy.units as u\n",
    "from astropy.coordinates import SkyCoord"
   ]
  },
  {
   "cell_type": "code",
   "execution_count": 16,
   "metadata": {
    "collapsed": false,
    "jupyter": {
     "outputs_hidden": false
    }
   },
   "outputs": [],
   "source": [
    "# Time from David:\n",
    "\n",
    "time = '2020-02-21T10:00:00'\n",
    "offset = [0., 0.]*u.arcsec\n",
    "sky_pos = planning.get_skyfield_position(time, offset, load_path='./data', parallax_correction=False)\n",
    "\n",
    "sky = SkyCoord(sky_pos[0], sky_pos[1], unit = 'deg')"
   ]
  },
  {
   "cell_type": "code",
   "execution_count": 17,
   "metadata": {
    "collapsed": false,
    "jupyter": {
     "outputs_hidden": false
    }
   },
   "outputs": [
    {
     "data": {
      "text/latex": [
       "$0^\\circ00{}^\\prime01.2587{}^{\\prime\\prime}$"
      ],
      "text/plain": [
       "<Angle 0.00034964 deg>"
      ]
     },
     "execution_count": 17,
     "metadata": {},
     "output_type": "execute_result"
    }
   ],
   "source": [
    "from_david= \"22:15:49.2 -10:46:36\"\n",
    "horizons = SkyCoord(from_david,unit=(u.hourangle, u.deg))\n",
    "horizons.separation(sky)"
   ]
  },
  {
   "cell_type": "markdown",
   "metadata": {},
   "source": [
    "# Set up the offset you want to use here:\n",
    "\n",
    "The first element is the direction +WEST of the center of the Sun, the second is the offset +NORTH of the center of the Sun.\n",
    "\n",
    "If you want multiple pointing locations you can either specify an array of offsets or do this \"by hand\" below."
   ]
  },
  {
   "cell_type": "code",
   "execution_count": 8,
   "metadata": {
    "collapsed": false,
    "jupyter": {
     "outputs_hidden": false
    }
   },
   "outputs": [],
   "source": [
    "offset = [-190., -47.]*u.arcsec"
   ]
  },
  {
   "cell_type": "markdown",
   "metadata": {},
   "source": [
    "# Loop over each orbit and correct the pointing for the same heliocentric pointing position.\n",
    "\n",
    "Note that you may want to update the pointing for solar rotation. That's up to the user to decide and is not done here."
   ]
  },
  {
   "cell_type": "code",
   "execution_count": 9,
   "metadata": {
    "collapsed": false,
    "jupyter": {
     "outputs_hidden": false
    }
   },
   "outputs": [
    {
     "name": "stderr",
     "output_type": "stream",
     "text": [
      "/Users/bwgref/anaconda/lib/python3.5/site-packages/nustar_pysolar-0.1.dev164-py3.5.egg/nustar_pysolar/planning.py:133: SunpyDeprecationWarning: Use sunpy.coordinates.get_sun_P() for higher accuracy\n",
      "  sun_np = sunpy.sun.solar_north(t=time).cgs\n"
     ]
    },
    {
     "name": "stdout",
     "output_type": "stream",
     "text": [
      "Orbit: 0\n",
      "Orbit start: 2019-01-12T11:43:30 Orbit end: 2019-01-12T12:45:40\n",
      "Aim time: 2019-01-12T12:14:35 RA (deg): 293.5430246884607 deg Dec (deg): -21.693292074963686 deg\n",
      "\n",
      "Orbit: 1\n",
      "Orbit start: 2019-01-12T13:20:10 Orbit end: 2019-01-12T14:22:10\n",
      "Aim time: 2019-01-12T13:51:10 RA (deg): 293.61565606128727 deg Dec (deg): -21.682412919624156 deg\n",
      "\n",
      "Orbit: 2\n",
      "Orbit start: 2019-01-12T14:56:50 Orbit end: 2019-01-12T15:58:50\n",
      "Aim time: 2019-01-12T15:27:50 RA (deg): 293.688322567184 deg Dec (deg): -21.671491251373528 deg\n",
      "\n",
      "Orbit: 3\n",
      "Orbit start: 2019-01-12T16:33:30 Orbit end: 2019-01-12T17:35:30\n",
      "Aim time: 2019-01-12T17:04:30 RA (deg): 293.76097726656735 deg Dec (deg): -21.66053806738169 deg\n",
      "\n",
      "Orbit: 4\n",
      "Orbit start: 2019-01-12T18:10:10 Orbit end: 2019-01-12T19:12:10\n",
      "Aim time: 2019-01-12T18:41:10 RA (deg): 293.83362012934873 deg Dec (deg): -21.64955339207573 deg\n",
      "\n",
      "Orbit: 5\n",
      "Orbit start: 2019-01-12T19:46:50 Orbit end: 2019-01-12T20:48:50\n",
      "Aim time: 2019-01-12T20:17:50 RA (deg): 293.90625112708585 deg Dec (deg): -21.638537249715185 deg\n",
      "\n",
      "Orbit: 6\n",
      "Orbit start: 2019-01-12T21:23:30 Orbit end: 2019-01-12T22:25:30\n",
      "Aim time: 2019-01-12T21:54:30 RA (deg): 293.9788702305901 deg Dec (deg): -21.62748966478358 deg\n",
      "\n"
     ]
    }
   ],
   "source": [
    "for ind, orbit in enumerate(orbits):\n",
    "    midTime = (0.5*(orbit[1] - orbit[0]) + orbit[0])\n",
    "    sky_pos = planning.get_skyfield_position(midTime, offset, load_path='./data', parallax_correction=True)\n",
    "    print(\"Orbit: {}\".format(ind))\n",
    "    print(\"Orbit start: {} Orbit end: {}\".format(orbit[0].isoformat(), orbit[1].isoformat()))\n",
    "    print('Aim time: {} RA (deg): {} Dec (deg): {}'.format(midTime.isoformat(), sky_pos[0], sky_pos[1]))\n",
    "    print(\"\")"
   ]
  }
 ],
 "metadata": {
  "anaconda-cloud": {},
  "kernelspec": {
   "display_name": "Python 3",
   "language": "python",
   "name": "python3"
  },
  "language_info": {
   "codemirror_mode": {
    "name": "ipython",
    "version": 3
   },
   "file_extension": ".py",
   "mimetype": "text/x-python",
   "name": "python",
   "nbconvert_exporter": "python",
   "pygments_lexer": "ipython3",
   "version": "3.7.8"
  }
 },
 "nbformat": 4,
 "nbformat_minor": 4
}
