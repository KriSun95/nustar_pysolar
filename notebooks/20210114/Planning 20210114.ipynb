{
 "cells": [
  {
   "cell_type": "code",
   "execution_count": 21,
   "metadata": {},
   "outputs": [],
   "source": [
    "from nustar_pysolar import planning, io\n",
    "import astropy.units as u\n",
    "from astropy.coordinates import SkyCoord\n",
    "from astropy.time import TimeDelta\n",
    "import warnings\n",
    "warnings.filterwarnings('ignore')"
   ]
  },
  {
   "cell_type": "markdown",
   "metadata": {},
   "source": [
    "# Download the list of occultation periods from the MOC at Berkeley.\n",
    "\n",
    "## Note that the occultation periods typically only are stored at Berkeley for the *future* and not for the past. So this is only really useful for observation planning."
   ]
  },
  {
   "cell_type": "code",
   "execution_count": 22,
   "metadata": {},
   "outputs": [
    {
     "name": "stdout",
     "output_type": "stream",
     "text": [
      "../data/NUSTAR.2021_010.SHADOW_ANALYSIS.txt\n"
     ]
    }
   ],
   "source": [
    "fname = io.download_occultation_times(outdir='../data/')\n",
    "print(fname)"
   ]
  },
  {
   "cell_type": "markdown",
   "metadata": {},
   "source": [
    "# Download the NuSTAR TLE archive.\n",
    "\n",
    "This contains every two-line element (TLE) that we've received for the whole mission. We'll expand on how to use this later.\n",
    "\n",
    "The `times`, `line1`, and `line2` elements are now the TLE elements for each epoch."
   ]
  },
  {
   "cell_type": "code",
   "execution_count": 23,
   "metadata": {},
   "outputs": [
    {
     "name": "stdout",
     "output_type": "stream",
     "text": [
      "../data/NuSTAR.tle\n"
     ]
    }
   ],
   "source": [
    "tlefile = io.download_tle(outdir='../data')\n",
    "print(tlefile)\n",
    "times, line1, line2 = io.read_tle_file(tlefile)"
   ]
  },
  {
   "cell_type": "markdown",
   "metadata": {},
   "source": [
    "# Here is where we define the observing window that we want to use.\n",
    "\n",
    "Note that tstart and tend must be in the future otherwise you won't find any occultation times and sunlight_periods will return an error."
   ]
  },
  {
   "cell_type": "code",
   "execution_count": 24,
   "metadata": {},
   "outputs": [],
   "source": [
    "tstart = '2021-01-14T09:00:00'\n",
    "tend = '2021-01-14T17:00:00'\n",
    "orbits = planning.sunlight_periods(fname, tstart, tend)"
   ]
  },
  {
   "cell_type": "code",
   "execution_count": 25,
   "metadata": {},
   "outputs": [
    {
     "data": {
      "text/plain": [
       "[[<Time object: scale='utc' format='isot' value=2021-01-14T09:33:20.000>,\n",
       "  <Time object: scale='utc' format='isot' value=2021-01-14T10:36:10.000>],\n",
       " [<Time object: scale='utc' format='isot' value=2021-01-14T11:10:00.000>,\n",
       "  <Time object: scale='utc' format='isot' value=2021-01-14T12:12:50.000>],\n",
       " [<Time object: scale='utc' format='isot' value=2021-01-14T12:46:40.000>,\n",
       "  <Time object: scale='utc' format='isot' value=2021-01-14T13:49:20.000>],\n",
       " [<Time object: scale='utc' format='isot' value=2021-01-14T14:23:20.000>,\n",
       "  <Time object: scale='utc' format='isot' value=2021-01-14T15:26:00.000>]]"
      ]
     },
     "execution_count": 25,
     "metadata": {},
     "output_type": "execute_result"
    }
   ],
   "source": [
    "orbits"
   ]
  },
  {
   "cell_type": "code",
   "execution_count": 26,
   "metadata": {},
   "outputs": [
    {
     "name": "stdout",
     "output_type": "stream",
     "text": [
      "975.3429073796026\n"
     ]
    }
   ],
   "source": [
    "# Get the solar parameter\n",
    "from sunpy.coordinates import sun\n",
    "\n",
    "angular_size = sun.angular_radius(t='now')\n",
    "dx = angular_size.arcsec\n",
    "print(dx)"
   ]
  },
  {
   "cell_type": "code",
   "execution_count": 27,
   "metadata": {},
   "outputs": [
    {
     "name": "stdout",
     "output_type": "stream",
     "text": [
      "2021-01-14T09:00:00\n",
      "NuSTAR Roll angle for Det0 in NE quadrant: 355.5386486370383 deg\n"
     ]
    }
   ],
   "source": [
    "pa = planning.get_nustar_roll(tstart, 0)\n",
    "print(tstart)\n",
    "print(\"NuSTAR Roll angle for Det0 in NE quadrant: {}\".format(pa))"
   ]
  },
  {
   "cell_type": "code",
   "execution_count": 35,
   "metadata": {},
   "outputs": [
    {
     "name": "stdout",
     "output_type": "stream",
     "text": [
      "Orbit: 1\n",
      "Solar offset: [-250. -300.] arcsec\n",
      "Orbit start: 2021-01-14 09:33:20.000 Orbit end: 2021-01-14 10:36:10.000\n",
      "Aim time: 2021-01-14 10:04:45.000 RA (deg): 296.1508 deg Dec (deg): -21.3547 deg\n",
      "\n",
      "[<Time object: scale='utc' format='isot' value=2021-01-14T11:10:00.000>, <Time object: scale='utc' format='isot' value=2021-01-14T12:12:50.000>]\n",
      "Orbit: 2a\n",
      "Solar offset: [-250. -300.] arcsec\n",
      "Orbit start: 2021-01-14 11:10:00.000 Orbit end: 2021-01-14 11:57:50.000\n",
      "Aim time: 2021-01-14 11:33:55.000 RA (deg): 296.2189 deg Dec (deg): -21.3435 deg\n",
      "\n",
      "Orbit: 2b\n",
      "Solar offset: [200. 300.] arcsec\n",
      "Orbit start: 2021-01-14 11:57:50.000 Orbit end: 2021-01-14 12:12:50.000\n",
      "Aim time: 2021-01-14 12:05:20.000 RA (deg): 296.0904 deg Dec (deg): -21.1820 deg\n",
      "\n",
      "Orbit: 3\n",
      "Solar offset: [-500. -550.] arcsec\n",
      "Orbit start: 2021-01-14 12:46:40.000 Orbit end: 2021-01-14 13:49:20.000\n",
      "Aim time: 2021-01-14 13:18:00.000 RA (deg): 296.3756 deg Dec (deg): -21.3943 deg\n",
      "\n",
      "Orbit: 4\n",
      "Solar offset: [-500. -550.] arcsec\n",
      "Orbit start: 2021-01-14 14:23:20.000 Orbit end: 2021-01-14 15:26:00.000\n",
      "Aim time: 2021-01-14 14:54:40.000 RA (deg): 296.4479 deg Dec (deg): -21.3822 deg\n",
      "\n"
     ]
    }
   ],
   "source": [
    "# Orbit 1 (AR)\n",
    "offset = [-250, -300.]*u.arcsec\n",
    "\n",
    "ind = 1\n",
    "orbit = orbits[0]\n",
    "midTime = (0.5*(orbit[1] - orbit[0]) + orbit[0])\n",
    "sky_pos = planning.get_skyfield_position(midTime, offset, load_path='./data', parallax_correction=True)\n",
    "print(\"Orbit: {}\".format(ind))\n",
    "print(f\"Solar offset: {offset}\")\n",
    "print(\"Orbit start: {} Orbit end: {}\".format(orbit[0].iso, orbit[1].iso))\n",
    "print(f'Aim time: {midTime.iso} RA (deg): {sky_pos[0]:8.4f} Dec (deg): {sky_pos[1]:8.4f}')\n",
    "print(\"\")\n",
    "\n",
    "\n",
    "# Orbit 2a (AR)\n",
    "offset = [-250, -300.]*u.arcsec\n",
    "\n",
    "ind = 2\n",
    "orbit = orbits[1].copy()\n",
    "print(orbit)\n",
    "oldend = orbit[1]\n",
    "newend = orbit[1] - TimeDelta(15*60., format = 'sec') # 15 minutes early\n",
    "orbit[1] = newend\n",
    "\n",
    "midTime = (0.5*(orbit[1] - orbit[0]) + orbit[0])\n",
    "sky_pos = planning.get_skyfield_position(midTime, offset, load_path='./data', parallax_correction=True)\n",
    "print(f\"Orbit: {ind}a\")\n",
    "print(f\"Solar offset: {offset}\")\n",
    "print(\"Orbit start: {} Orbit end: {}\".format(orbit[0].iso, orbit[1].iso))\n",
    "print(f'Aim time: {midTime.iso} RA (deg): {sky_pos[0]:8.4f} Dec (deg): {sky_pos[1]:8.4f}')\n",
    "print(\"\")\n",
    "\n",
    "\n",
    "# Orbit 2b (small thing)\n",
    "offset = [200, 300.]*u.arcsec\n",
    "orbit[0] = newend\n",
    "orbit[1] = oldend\n",
    "midTime = (0.5*(orbit[1] - orbit[0]) + orbit[0])\n",
    "sky_pos = planning.get_skyfield_position(midTime, offset, load_path='./data', parallax_correction=True)\n",
    "print(f\"Orbit: {ind}b\")\n",
    "print(f\"Solar offset: {offset}\")\n",
    "print(\"Orbit start: {} Orbit end: {}\".format(orbit[0].iso, orbit[1].iso))\n",
    "print(f'Aim time: {midTime.iso} RA (deg): {sky_pos[0]:8.4f} Dec (deg): {sky_pos[1]:8.4f}')\n",
    "print(\"\")\n",
    "\n",
    "\n",
    "\n",
    "\n",
    "\n",
    "\n",
    "# Orbit 3, 4 (PSP Footpoints)\n",
    "offset = [-500., -550.]*u.arcsec\n",
    "for oi in [2, 3]:\n",
    "    ind = oi+1\n",
    "\n",
    "    orbit = orbits[oi]\n",
    "    midTime = (0.5*(orbit[1] - orbit[0]) + orbit[0])\n",
    "    sky_pos = planning.get_skyfield_position(midTime, offset, load_path='./data', parallax_correction=True)\n",
    "    print(\"Orbit: {}\".format(ind))\n",
    "    print(f\"Solar offset: {offset}\")\n",
    "    print(\"Orbit start: {} Orbit end: {}\".format(orbit[0].iso, orbit[1].iso))\n",
    "    print(f'Aim time: {midTime.iso} RA (deg): {sky_pos[0]:8.4f} Dec (deg): {sky_pos[1]:8.4f}')\n",
    "    print(\"\")\n",
    "\n",
    "\n"
   ]
  },
  {
   "cell_type": "code",
   "execution_count": 47,
   "metadata": {},
   "outputs": [
    {
     "data": {
      "text/latex": [
       "$0^\\circ00{}^\\prime20.9707{}^{\\prime\\prime}$"
      ],
      "text/plain": [
       "<Angle 0.00582518 deg>"
      ]
     },
     "execution_count": 47,
     "metadata": {},
     "output_type": "execute_result"
    }
   ],
   "source": [
    "test1 = SkyCoord(289.3792274160115,  -22.304595055979675, unit = 'deg')\n",
    "orb1 = SkyCoord(289.3855, -22.3051, unit = 'deg')\n",
    "orb1.separation(test1)"
   ]
  },
  {
   "cell_type": "code",
   "execution_count": 10,
   "metadata": {},
   "outputs": [
    {
     "data": {
      "text/plain": [
       "[<Time object: scale='utc' format='isot' value=2021-01-14T11:10:00.000>,\n",
       " <Time object: scale='utc' format='isot' value=2021-01-14T12:12:50.000>]"
      ]
     },
     "execution_count": 10,
     "metadata": {},
     "output_type": "execute_result"
    }
   ],
   "source": [
    "orbit"
   ]
  },
  {
   "cell_type": "code",
   "execution_count": 38,
   "metadata": {},
   "outputs": [],
   "source": [
    "import sunpy"
   ]
  },
  {
   "cell_type": "code",
   "execution_count": 39,
   "metadata": {},
   "outputs": [
    {
     "data": {
      "text/plain": [
       "'2.0.1'"
      ]
     },
     "execution_count": 39,
     "metadata": {},
     "output_type": "execute_result"
    }
   ],
   "source": [
    "sunpy.__version__"
   ]
  },
  {
   "cell_type": "code",
   "execution_count": 49,
   "metadata": {},
   "outputs": [
    {
     "data": {
      "text/latex": [
       "$0^\\circ00{}^\\prime20.9007{}^{\\prime\\prime}$"
      ],
      "text/plain": [
       "<Angle 0.00580576 deg>"
      ]
     },
     "execution_count": 49,
     "metadata": {},
     "output_type": "execute_result"
    }
   ],
   "source": [
    "test1 = SkyCoord(289.898451566591, -22.158432904027155 , unit = 'deg')\n",
    "orb1 = SkyCoord(289.9047,  -22.1589, unit = 'deg')\n",
    "orb1.separation(test1)"
   ]
  },
  {
   "cell_type": "code",
   "execution_count": null,
   "metadata": {},
   "outputs": [],
   "source": []
  }
 ],
 "metadata": {
  "anaconda-cloud": {},
  "kernelspec": {
   "display_name": "Python 3",
   "language": "python",
   "name": "python3"
  },
  "language_info": {
   "codemirror_mode": {
    "name": "ipython",
    "version": 3
   },
   "file_extension": ".py",
   "mimetype": "text/x-python",
   "name": "python",
   "nbconvert_exporter": "python",
   "pygments_lexer": "ipython3",
   "version": "3.7.8"
  }
 },
 "nbformat": 4,
 "nbformat_minor": 4
}
